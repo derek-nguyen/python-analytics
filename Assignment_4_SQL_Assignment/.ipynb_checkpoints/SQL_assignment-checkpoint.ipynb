{
 "cells": [
  {
   "cell_type": "markdown",
   "metadata": {
    "deletable": false,
    "editable": false,
    "nbgrader": {
     "grade": false,
     "locked": true,
     "solution": false
    }
   },
   "source": [
    "## There are some instructions you need to follow:\n",
    "<li> You only need to write your code in the comment area \"Your Code Here\".</li>\n",
    "<li>Do not upload your own file. Please make the necessary changes in the Jupyter notebook file already present in the server.</li>\n",
    "<li>Please note, there are several cells in the Assignment Jupyter notebook that are empty and read only. Do not       attempt to remove them or   edit them. They are used in grading your notebook. Doing so might lead to 0 points.</li>\n",
    "<li>IMPORTANT: You only need to use SQL for the entire assignment. Please don't use Python anywhere for the assignment. </li>\n",
    "<li> Write the SQL code code in the MySQL workbench and then copy the queries in the notebook. </li>"
   ]
  },
  {
   "cell_type": "markdown",
   "metadata": {
    "deletable": false,
    "editable": false,
    "nbgrader": {
     "grade": false,
     "locked": true,
     "solution": false
    }
   },
   "source": [
    "\n",
    "\n",
    "For the following questions, you need to create two database tables and their respective columns:\n",
    "1. exhibits: id (INT), name (VARCHAR), start_date (DATE), end_date (DATE), curator_id \n",
    "2. curators: id (INT), name (VARCHAR), bio (TEXT)\n",
    "\n",
    "You then need to insert all the records into the database tables as shown below:\n",
    "\n",
    "- table name: `exhibits`\n",
    "\n",
    "id (INT) | name (VARCHAR) | start_date (DATE) | end_date (DATE) | curator_id (INT) [FK to curator.id]\n",
    "-|-|-|-|-\n",
    "3| Free The Fishes | 2018-01-01 | 2018-06-30 | 5\n",
    "17| Space, What Lies Above | 2018-02-01 | 2018-05-30 | 11\n",
    "23| Bears Bears Bears | 2018-02-14 | 2018-02-24 | 5\n",
    "46| Humans? Aliens? | 2019-03-14 | 2019-10-21 | 11\n",
    "\n",
    "\n",
    "- table name: `curators`\n",
    "\n",
    "id (INT) | name (VARCHAR) | bio (TEXT)\n",
    "-|-|-\n",
    "5| Rebecca Votea | Esteemed naturalist\n",
    "11| Simon Strauss | Space man\n",
    "71| Rick Sanchez | Grandfather\n",
    "\n",
    "\n",
    "SQL solutions will be graded on their simplicity as well as on whether or not they would return the correct answer from the database."
   ]
  },
  {
   "cell_type": "markdown",
   "metadata": {
    "deletable": false,
    "editable": false,
    "nbgrader": {
     "grade": false,
     "locked": true,
     "solution": false
    }
   },
   "source": [
    "**Q1**: Write a function that returns a string containing the SQL necessary to create the two tables shown above.\n"
   ]
  },
  {
   "cell_type": "code",
   "execution_count": 2,
   "metadata": {
    "collapsed": true
   },
   "outputs": [],
   "source": [
    "def create_tables_sql() -> str:\n",
    "     ###\n",
    "     ### YOUR CODE HERE\n",
    "     ###\n"
   ]
  },
  {
   "cell_type": "code",
   "execution_count": 3,
   "metadata": {
    "deletable": false,
    "editable": false,
    "nbgrader": {
     "grade": true,
     "grade_id": "Create Tables",
     "locked": true,
     "points": "20",
     "solution": false
    }
   },
   "outputs": [],
   "source": [
    "### # Run this cell to get a grade!\n",
    "###\n",
    "### AUTOGRADER TEST - DO NOT REMOVE\n",
    "###\n"
   ]
  },
  {
   "cell_type": "markdown",
   "metadata": {
    "deletable": false,
    "editable": false,
    "nbgrader": {
     "grade": false,
     "locked": true,
     "solution": false
    }
   },
   "source": [
    "**Q2**: Write a function that returns a string containing the SQL necessary to insert the data exactly as it is shown above.\n",
    "\n",
    "Hint: Use INSERT into statement"
   ]
  },
  {
   "cell_type": "code",
   "execution_count": 4,
   "metadata": {
    "collapsed": true
   },
   "outputs": [],
   "source": [
    "def insert_data_sql() -> str:\n",
    "    ###\n",
    "    ### YOUR CODE HERE\n",
    "    ###\n"
   ]
  },
  {
   "cell_type": "code",
   "execution_count": 5,
   "metadata": {
    "collapsed": true,
    "deletable": false,
    "editable": false,
    "nbgrader": {
     "grade": true,
     "grade_id": "Insert Data",
     "locked": true,
     "points": "20",
     "solution": false
    }
   },
   "outputs": [],
   "source": [
    "### # Run this cell to get a grade!\n",
    "###\n",
    "### AUTOGRADER TEST - DO NOT REMOVE\n",
    "###\n"
   ]
  },
  {
   "cell_type": "code",
   "execution_count": 6,
   "metadata": {
    "collapsed": true
   },
   "outputs": [],
   "source": [
    "### # Run this cell to get a grade!\n",
    "###\n",
    "### AUTOGRADER TEST - DO NOT REMOVE\n",
    "###\n"
   ]
  },
  {
   "cell_type": "markdown",
   "metadata": {
    "deletable": false,
    "editable": false,
    "nbgrader": {
     "grade": false,
     "locked": true,
     "solution": false
    }
   },
   "source": [
    "**Q3**: Create a function that will return the SQL to find all the names of all the exhibits ordered by their id. IDs should be in descending order. Do not use an alias for the table name.\n",
    "\n",
    "The result should be:\n",
    "\n",
    "```\n",
    "Humans? Aliens?\n",
    "Bears Bears Bears\n",
    "Space, What Lies Above\n",
    "Free The Fishes\n",
    "```"
   ]
  },
  {
   "cell_type": "code",
   "execution_count": 7,
   "metadata": {
    "collapsed": true
   },
   "outputs": [],
   "source": [
    "def get_sql():\n",
    "    ###\n",
    "    ### YOUR CODE HERE\n",
    "    ###\n"
   ]
  },
  {
   "cell_type": "code",
   "execution_count": 8,
   "metadata": {
    "collapsed": true,
    "deletable": false,
    "editable": false,
    "nbgrader": {
     "grade": true,
     "grade_id": "Execute Query",
     "locked": true,
     "points": "30",
     "solution": false
    }
   },
   "outputs": [],
   "source": [
    "# Run this cell to get a grade!\n",
    "###\n",
    "### AUTOGRADER TEST - DO NOT REMOVE\n",
    "###\n"
   ]
  },
  {
   "cell_type": "markdown",
   "metadata": {
    "deletable": false,
    "editable": false,
    "nbgrader": {
     "grade": false,
     "locked": true,
     "solution": false
    }
   },
   "source": [
    "**Q4**: Create a function that will return the SQL to find all the names of all exhibts and the names of their associated curators. If an exhibit does not have a curator, the exhibit should not be in the result. Even if a curator does not have an exhibit, the curator should be present in the final result. The first letter of the table name should be used as its alias.\n",
    "\n",
    "For example:\n",
    "\n",
    "```\n",
    "Rebecca Votea, Free The Fishes\n",
    "Rebecca Votea, Bears Bears Bears\n",
    "Rick Sanchez, \n",
    "Simon Strauss, Humans? Aliens?\n",
    "Simon Strauss, Space, What Lies Above\n",
    "\n",
    "```"
   ]
  },
  {
   "cell_type": "code",
   "execution_count": 9,
   "metadata": {
    "collapsed": true
   },
   "outputs": [],
   "source": [
    "def get_sql():\n",
    "    ###\n",
    "    ### YOUR CODE HERE\n",
    "    ###\n"
   ]
  },
  {
   "cell_type": "code",
   "execution_count": 10,
   "metadata": {
    "collapsed": true,
    "deletable": false,
    "editable": false,
    "nbgrader": {
     "grade": true,
     "grade_id": "Join Statement",
     "locked": true,
     "points": "30",
     "solution": false
    }
   },
   "outputs": [],
   "source": [
    "# Run this cell to get a grade!\n",
    "###\n",
    "### AUTOGRADER TEST - DO NOT REMOVE\n",
    "###\n"
   ]
  }
 ],
 "metadata": {
  "kernelspec": {
   "display_name": "Python 3",
   "language": "python",
   "name": "python3"
  },
  "language_info": {
   "codemirror_mode": {
    "name": "ipython",
    "version": 3
   },
   "file_extension": ".py",
   "mimetype": "text/x-python",
   "name": "python",
   "nbconvert_exporter": "python",
   "pygments_lexer": "ipython3",
   "version": "3.7.3"
  }
 },
 "nbformat": 4,
 "nbformat_minor": 2
}
