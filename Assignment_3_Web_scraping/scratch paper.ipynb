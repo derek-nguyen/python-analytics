{
 "cells": [
  {
   "cell_type": "code",
   "execution_count": 12,
   "metadata": {},
   "outputs": [],
   "source": [
    "# Run this cell and do not change it\n",
    "with open('Sector Performance.htm') as f:\n",
    "    file1 = f.readlines()\n",
    "from bs4 import BeautifulSoup\n",
    "# \"\".join will join empty spaces \n",
    "sector_perm_results = BeautifulSoup(\"\".join(file1), \"lxml\")\n",
    "sector_perm_names = sector_perm_results.find_all('a',class_='heading1')"
   ]
  },
  {
   "cell_type": "code",
   "execution_count": 29,
   "metadata": {},
   "outputs": [],
   "source": [
    "def fidelity_sector_report(file1):\n",
    "    def sec_fundamental_extract(file):\n",
    "        with open(file) as f:\n",
    "            communication_services_file = f.readlines()\n",
    "        from bs4 import BeautifulSoup\n",
    "        communication_services_results = BeautifulSoup(\"\".join(communication_services_file),'lxml')\n",
    "        fundamentals = communication_services_results.find_all('div',class_='sec-fundamentals')\n",
    "\n",
    "        # returns sector fundamentals names\n",
    "        list_sec_names = []\n",
    "        for sec_names in fundamentals:\n",
    "            sec_name = sec_names.find_all('a')\n",
    "            for name in sec_name:\n",
    "                list_sec_names.append(name.get_text())\n",
    "\n",
    "\n",
    "        # returns sector values\n",
    "        sec_fundamentals_dict = {}\n",
    "        list_values = []\n",
    "        for values in fundamentals:\n",
    "            sec_values = values.find_all('td')\n",
    "            for sec_value in sec_values:\n",
    "                list_values.append(sec_value.get_text().strip())\n",
    "   \n",
    "        sec_fundamentals_dict[list_sec_names[2]] = list_values[2]\n",
    "        sec_fundamentals_dict[list_sec_names[6]] = list_values[6]\n",
    "        sec_fundamentals_dict[list_sec_names[9]] = list_values[9]\n",
    "        return sec_fundamentals_dict\n",
    "    \n",
    "    ref_json = {}\n",
    "    sector_fund_dict = {}\n",
    "    for industry_names in sector_perm_names:\n",
    "        industry_name = industry_names.get_text()\n",
    "        sector_fund_dict[industry_name] = sec_fundamental_extract(industry_name + '.htm')\n",
    "    ref_json['results'] = sector_fund_dict\n",
    "    \n",
    "    return ref_json"
   ]
  },
  {
   "cell_type": "code",
   "execution_count": 30,
   "metadata": {},
   "outputs": [
    {
     "data": {
      "text/plain": [
       "{'results': {'Communication Services': {'Enterprise Value': '$286.81B',\n",
       "   'Return on Equity (TTM)': '15.82%',\n",
       "   'Dividend Yield': '3.91%'},\n",
       "  'Consumer Discretionary': {'Enterprise Value': '$279.53B',\n",
       "   'Return on Equity (TTM)': '-293.98%',\n",
       "   'Dividend Yield': '2.32%'},\n",
       "  'Consumer Staples': {'Enterprise Value': '$164.55B',\n",
       "   'Return on Equity (TTM)': '-5.36%',\n",
       "   'Dividend Yield': '2.75%'},\n",
       "  'Energy': {'Enterprise Value': '$138.75B',\n",
       "   'Return on Equity (TTM)': '14.43%',\n",
       "   'Dividend Yield': '4.60%'},\n",
       "  'Financials': {'Enterprise Value': '$155.26B',\n",
       "   'Return on Equity (TTM)': '20.20%',\n",
       "   'Dividend Yield': '3.43%'},\n",
       "  'Health Care': {'Enterprise Value': '$131.15B',\n",
       "   'Return on Equity (TTM)': '-985.28%',\n",
       "   'Dividend Yield': '2.36%'},\n",
       "  'Industrials': {'Enterprise Value': '$63.98B',\n",
       "   'Return on Equity (TTM)': '-65.18%',\n",
       "   'Dividend Yield': '2.11%'},\n",
       "  'Information Technology': {'Enterprise Value': '$331.67B',\n",
       "   'Return on Equity (TTM)': '28.22%',\n",
       "   'Dividend Yield': '1.67%'},\n",
       "  'Materials': {'Enterprise Value': '$53.49B',\n",
       "   'Return on Equity (TTM)': '15.47%',\n",
       "   'Dividend Yield': '3.00%'},\n",
       "  'Real Estate': {'Enterprise Value': '$48.37B',\n",
       "   'Return on Equity (TTM)': '25.46%',\n",
       "   'Dividend Yield': '3.80%'},\n",
       "  'Utilities': {'Enterprise Value': '$57.48B',\n",
       "   'Return on Equity (TTM)': '9.69%',\n",
       "   'Dividend Yield': '3.81%'}}}"
      ]
     },
     "execution_count": 30,
     "metadata": {},
     "output_type": "execute_result"
    }
   ],
   "source": [
    "fidelity_sector_report(file1)"
   ]
  },
  {
   "cell_type": "code",
   "execution_count": 1,
   "metadata": {},
   "outputs": [
    {
     "name": "stdout",
     "output_type": "stream",
     "text": [
      "GeeksforGeeks, is a computer science portal for geeks\n"
     ]
    }
   ],
   "source": [
    "my_string = \"15.82%\"\n",
    "print (my_string.format(\"GeeksforGeeks\", \"computer\", \"geeks\")) "
   ]
  },
  {
   "cell_type": "code",
   "execution_count": null,
   "metadata": {},
   "outputs": [],
   "source": []
  }
 ],
 "metadata": {
  "kernelspec": {
   "display_name": "Python 3",
   "language": "python",
   "name": "python3"
  },
  "language_info": {
   "codemirror_mode": {
    "name": "ipython",
    "version": 3
   },
   "file_extension": ".py",
   "mimetype": "text/x-python",
   "name": "python",
   "nbconvert_exporter": "python",
   "pygments_lexer": "ipython3",
   "version": "3.7.3"
  }
 },
 "nbformat": 4,
 "nbformat_minor": 2
}
