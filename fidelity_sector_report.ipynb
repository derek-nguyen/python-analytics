{
 "cells": [
  {
   "cell_type": "markdown",
   "metadata": {
    "deletable": false,
    "editable": false,
    "nbgrader": {
     "grade": false,
     "locked": true,
     "solution": false
    }
   },
   "source": [
    "## There are some instructions you need to follow:\n",
    "<li> You only need to write your code in the comment area \"Your Code Here\".</li>\n",
    "<li>Do not upload your own file. Please make the necessary changes in the Jupyter notebook file already present in the server.</li>\n",
    "<li>Please note, there are several cells in the Assignment Jupyter notebook that are empty and read only. Do not attempt to remove them or   edit them. They are used in grading your notebook. Doing so might lead to 0 points.</li>"
   ]
  },
  {
   "cell_type": "code",
   "execution_count": null,
   "metadata": {
    "collapsed": true
   },
   "outputs": [],
   "source": [
    "\"\"\"\n",
    "\n",
    "Check the following pages to inspect the structure of the site (right click -> inspect):\n",
    "1. https://eresearch.fidelity.com/eresearch/goto/markets_sectors/landing.jhtml \n",
    "2. https://eresearch.fidelity.com/eresearch/markets_sectors/sectors/sectors_in_market.jhtml?tab=learn&sector=50 \n",
    "\n",
    "Modify the following fidelity_sector_report so that it returns a json dump\n",
    "(same structure as a dictionary, except for the quotation marks) that contains the \n",
    "following information about each sector:\n",
    "1. The sector name\n",
    "2. The enterprise value (in USD billions)\n",
    "3. The Return on Equity TTM (trailing twelve months, in percentages)\n",
    "4. The dividend yield (in percentages)\n",
    "\n",
    "The structure of the json dump is given in the assignment description on EdX.\n",
    "\n",
    "You should expect outputs like following for the first 3 sectors:\n",
    "{'results': {'Communication Services': {'enterprise_value': 286.81,\n",
    "   'return_on_equity': 15.82,\n",
    "   'dividend_yield': 3.91},\n",
    "  'Consumer Discretionary': {'enterprise_value': 279.53,\n",
    "   'return_on_equity': -293.98,\n",
    "   'dividend_yield': 2.32},\n",
    "  'Consumer Staples': {'enterprise_value': 164.55,\n",
    "   'return_on_equity': -5.36,\n",
    "   'dividend_yield': 2.75}}}\n",
    "\n",
    "Note:\n",
    "To read files, use:\n",
    "\n",
    "with open('filename') as f:\n",
    "    lines = f.readlines()\n",
    "\"\"\"\n",
    "\n",
    "# do not change anything that is originally written in here\n",
    "# write the solution in suggested area"
   ]
  },
  {
   "cell_type": "code",
   "execution_count": 8,
   "metadata": {},
   "outputs": [],
   "source": [
    "# Run this cell and do not change it\n",
    "with open('Sector Performance.htm') as f:\n",
    "    file1 = f.readlines()\n",
    "from bs4 import BeautifulSoup\n",
    "\n",
    "# add sector_perm_results\n",
    "sector_perm_results = BeautifulSoup(\"\".join(file1), \"lxml\")\n",
    "sector_perm_names = sector_perm_results.find_all('a',class_='heading1')"
   ]
  },
  {
   "cell_type": "code",
   "execution_count": 9,
   "metadata": {},
   "outputs": [],
   "source": [
    "def fidelity_sector_report(file1):\n",
    "    def sec_fundamental_extract(file):\n",
    "        with open(file) as f:\n",
    "            communication_services_file = f.readlines()\n",
    "        from bs4 import BeautifulSoup\n",
    "        communication_services_results = BeautifulSoup(\"\".join(communication_services_file),'lxml')\n",
    "        fundamentals = communication_services_results.find_all('div',class_='sec-fundamentals')\n",
    "\n",
    "        # returns sector fundamentals names\n",
    "        list_sec_names = []\n",
    "        for sec_names in fundamentals:\n",
    "            sec_name = sec_names.find_all('a')\n",
    "            for name in sec_name:\n",
    "                list_sec_names.append(name.get_text())\n",
    "\n",
    "\n",
    "        # returns sector values\n",
    "        sec_fundamentals_dict = {}\n",
    "        list_values = []\n",
    "        for values in fundamentals:\n",
    "            sec_values = values.find_all('td')\n",
    "            for sec_value in sec_values:\n",
    "                list_values.append(sec_value.get_text().strip())\n",
    "   \n",
    "        sec_fundamentals_dict[list_sec_names[2]] = list_values[2]\n",
    "        sec_fundamentals_dict[list_sec_names[6]] = list_values[6]\n",
    "        sec_fundamentals_dict[list_sec_names[9]] = list_values[9]\n",
    "        return sec_fundamentals_dict\n",
    "    \n",
    "    ref_json = {}\n",
    "    sector_fund_dict = {}\n",
    "    for industry_names in sector_perm_names:\n",
    "        industry_name = industry_names.get_text()\n",
    "        sector_fund_dict[industry_name] = sec_fundamental_extract(industry_name + '.htm')\n",
    "    ref_json['results'] = sector_fund_dict\n",
    "    return ref_json"
   ]
  },
  {
   "cell_type": "code",
   "execution_count": 10,
   "metadata": {},
   "outputs": [
    {
     "data": {
      "text/plain": [
       "{'results': {'Communication Services': {'Enterprise Value': '$286.81B',\n",
       "   'Return on Equity (TTM)': '15.82%',\n",
       "   'Dividend Yield': '3.91%'},\n",
       "  'Consumer Discretionary': {'Enterprise Value': '$279.53B',\n",
       "   'Return on Equity (TTM)': '-293.98%',\n",
       "   'Dividend Yield': '2.32%'},\n",
       "  'Consumer Staples': {'Enterprise Value': '$164.55B',\n",
       "   'Return on Equity (TTM)': '-5.36%',\n",
       "   'Dividend Yield': '2.75%'},\n",
       "  'Energy': {'Enterprise Value': '$138.75B',\n",
       "   'Return on Equity (TTM)': '14.43%',\n",
       "   'Dividend Yield': '4.60%'},\n",
       "  'Financials': {'Enterprise Value': '$155.26B',\n",
       "   'Return on Equity (TTM)': '20.20%',\n",
       "   'Dividend Yield': '3.43%'},\n",
       "  'Health Care': {'Enterprise Value': '$131.15B',\n",
       "   'Return on Equity (TTM)': '-985.28%',\n",
       "   'Dividend Yield': '2.36%'},\n",
       "  'Industrials': {'Enterprise Value': '$63.98B',\n",
       "   'Return on Equity (TTM)': '-65.18%',\n",
       "   'Dividend Yield': '2.11%'},\n",
       "  'Information Technology': {'Enterprise Value': '$331.67B',\n",
       "   'Return on Equity (TTM)': '28.22%',\n",
       "   'Dividend Yield': '1.67%'},\n",
       "  'Materials': {'Enterprise Value': '$53.49B',\n",
       "   'Return on Equity (TTM)': '15.47%',\n",
       "   'Dividend Yield': '3.00%'},\n",
       "  'Real Estate': {'Enterprise Value': '$48.37B',\n",
       "   'Return on Equity (TTM)': '25.46%',\n",
       "   'Dividend Yield': '3.80%'},\n",
       "  'Utilities': {'Enterprise Value': '$57.48B',\n",
       "   'Return on Equity (TTM)': '9.69%',\n",
       "   'Dividend Yield': '3.81%'}}}"
      ]
     },
     "execution_count": 10,
     "metadata": {},
     "output_type": "execute_result"
    }
   ],
   "source": [
    "# Try out your code\n",
    "fidelity_sector_report(file1)"
   ]
  },
  {
   "cell_type": "code",
   "execution_count": 11,
   "metadata": {},
   "outputs": [],
   "source": [
    "# If you were to invest in the highest ROE (return on equity) sector, that would be:\n",
    "highest_roe_sector = \"\" # CHANGE VARIABLE CONTENT: e.g. \"Utilities\"\n",
    "\n",
    "# If you were to invest in the highest dividend yield sector, that would be:\n",
    "highest_dividend_sector = \"\" # CHANGE VARIABLE CONTENT: e.g. \"Materials\"\n"
   ]
  },
  {
   "cell_type": "code",
   "execution_count": null,
   "metadata": {
    "collapsed": true,
    "deletable": false,
    "editable": false,
    "nbgrader": {
     "grade": true,
     "grade_id": "Sector names",
     "locked": true,
     "points": "20",
     "solution": false
    }
   },
   "outputs": [],
   "source": [
    "###\n",
    "### AUTOGRADER TEST - DO NOT REMOVE\n",
    "###\n"
   ]
  },
  {
   "cell_type": "code",
   "execution_count": null,
   "metadata": {
    "collapsed": true,
    "deletable": false,
    "editable": false,
    "nbgrader": {
     "grade": true,
     "grade_id": "Enterprise Value",
     "locked": true,
     "points": "20",
     "solution": false
    }
   },
   "outputs": [],
   "source": [
    "###\n",
    "### AUTOGRADER TEST - DO NOT REMOVE\n",
    "###\n"
   ]
  },
  {
   "cell_type": "code",
   "execution_count": null,
   "metadata": {
    "collapsed": true,
    "deletable": false,
    "editable": false,
    "nbgrader": {
     "grade": true,
     "grade_id": "Return on Equity",
     "locked": true,
     "points": "20",
     "solution": false
    }
   },
   "outputs": [],
   "source": [
    "###\n",
    "### AUTOGRADER TEST - DO NOT REMOVE\n",
    "###\n"
   ]
  },
  {
   "cell_type": "code",
   "execution_count": null,
   "metadata": {
    "collapsed": true,
    "deletable": false,
    "editable": false,
    "nbgrader": {
     "grade": true,
     "grade_id": "Dividend yield",
     "locked": true,
     "points": "20",
     "solution": false
    }
   },
   "outputs": [],
   "source": [
    "###\n",
    "### AUTOGRADER TEST - DO NOT REMOVE\n",
    "###\n"
   ]
  },
  {
   "cell_type": "code",
   "execution_count": null,
   "metadata": {
    "collapsed": true,
    "deletable": false,
    "editable": false,
    "nbgrader": {
     "grade": true,
     "grade_id": "Highest ROE",
     "locked": true,
     "points": "10",
     "solution": false
    }
   },
   "outputs": [],
   "source": [
    "###\n",
    "### AUTOGRADER TEST - DO NOT REMOVE\n",
    "###\n"
   ]
  },
  {
   "cell_type": "code",
   "execution_count": null,
   "metadata": {
    "collapsed": true,
    "deletable": false,
    "editable": false,
    "nbgrader": {
     "grade": true,
     "grade_id": "Highest dividend",
     "locked": true,
     "points": "10",
     "solution": false
    }
   },
   "outputs": [],
   "source": [
    "###\n",
    "### AUTOGRADER TEST - DO NOT REMOVE\n",
    "###\n"
   ]
  }
 ],
 "metadata": {
  "kernelspec": {
   "display_name": "Python 3",
   "language": "python",
   "name": "python3"
  },
  "language_info": {
   "codemirror_mode": {
    "name": "ipython",
    "version": 3
   },
   "file_extension": ".py",
   "mimetype": "text/x-python",
   "name": "python",
   "nbconvert_exporter": "python",
   "pygments_lexer": "ipython3",
   "version": "3.7.3"
  }
 },
 "nbformat": 4,
 "nbformat_minor": 2
}
