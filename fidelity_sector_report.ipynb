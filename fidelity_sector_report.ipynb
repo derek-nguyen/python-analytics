{
    "cells": [
        {
            "cell_type": "markdown",
            "metadata": {
                "nbgrader": {
                    "grade": false,
                    "locked": true,
                    "solution": false
                },
                "editable": false,
                "deletable": false
            },
            "source": [
                "## There are some instructions you need to follow:\n",
                "<li> You only need to write your code in the comment area \"Your Code Here\".<\/li>\n",
                "<li>Do not upload your own file. Please make the necessary changes in the Jupyter notebook file already present in the server.<\/li>\n",
                "<li>Please note, there are several cells in the Assignment Jupyter notebook that are empty and read only. Do not attempt to remove them or   edit them. They are used in grading your notebook. Doing so might lead to 0 points.<\/li>"
            ]
        },
        {
            "cell_type": "code",
            "execution_count": null,
            "metadata": {
                "collapsed": true
            },
            "outputs": [],
            "source": [
                "\"\"\"\n",
                "\n",
                "Check the following pages to inspect the structure of the site (right click -> inspect):\n",
                "1. https:\/\/eresearch.fidelity.com\/eresearch\/goto\/markets_sectors\/landing.jhtml \n",
                "2. https:\/\/eresearch.fidelity.com\/eresearch\/markets_sectors\/sectors\/sectors_in_market.jhtml?tab=learn&sector=50 \n",
                "\n",
                "Modify the following fidelity_sector_report so that it returns a json dump\n",
                "(same structure as a dictionary, except for the quotation marks) that contains the \n",
                "following information about each sector:\n",
                "1. The sector name\n",
                "2. The enterprise value (in USD billions)\n",
                "3. The Return on Equity TTM (trailing twelve months, in percentages)\n",
                "4. The dividend yield (in percentages)\n",
                "\n",
                "The structure of the json dump is given in the assignment description on EdX.\n",
                "\n",
                "You should expect outputs like following for the first 3 sectors:\n",
                "{'results': {'Communication Services': {'enterprise_value': 286.81,\n",
                "   'return_on_equity': 15.82,\n",
                "   'dividend_yield': 3.91},\n",
                "  'Consumer Discretionary': {'enterprise_value': 279.53,\n",
                "   'return_on_equity': -293.98,\n",
                "   'dividend_yield': 2.32},\n",
                "  'Consumer Staples': {'enterprise_value': 164.55,\n",
                "   'return_on_equity': -5.36,\n",
                "   'dividend_yield': 2.75}}}\n",
                "\n",
                "Note:\n",
                "To read files, use:\n",
                "\n",
                "with open('filename') as f:\n",
                "    lines = f.readlines()\n",
                "\"\"\"\n",
                "\n",
                "# do not change anything that is originally written in here\n",
                "# write the solution in suggested area"
            ]
        },
        {
            "cell_type": "code",
            "execution_count": null,
            "metadata": {
                "collapsed": true
            },
            "outputs": [],
            "source": [
                "# Run this cell and do not change it\n",
                "with open('Sector Performance.htm') as f:\n",
                "    file1 = f.readlines()\n",
                "from bs4 import BeautifulSoup\n",
                "BeautifulSoup(\"\".join(file1), \"lxml\")"
            ]
        },
        {
            "cell_type": "code",
            "execution_count": null,
            "metadata": {
                "collapsed": true
            },
            "outputs": [],
            "source": [
                "def fidelity_sector_report(file1):\n",
                "    ###\n",
                "    ### YOUR CODE HERE\n",
                "    ###\n",
                "    return ref_json"
            ]
        },
        {
            "cell_type": "code",
            "execution_count": null,
            "metadata": {
                "collapsed": true
            },
            "outputs": [],
            "source": [
                "#\u00a0Try out your code\n",
                "fidelity_sector_report(file1)"
            ]
        },
        {
            "cell_type": "code",
            "execution_count": null,
            "metadata": {
                "collapsed": true
            },
            "outputs": [],
            "source": [
                "# If you were to invest in the highest ROE (return on equity) sector, that would be:\n",
                "highest_roe_sector = \"\" # CHANGE VARIABLE CONTENT: e.g. \"Utilities\"\n",
                "\n",
                "#\u00a0If you were to invest in the highest dividend yield sector, that would be:\n",
                "highest_dividend_sector = \"\" # CHANGE VARIABLE CONTENT: e.g. \"Materials\"\n"
            ]
        },
        {
            "cell_type": "code",
            "execution_count": null,
            "metadata": {
                "collapsed": true,
                "nbgrader": {
                    "grade": true,
                    "grade_id": "Sector names",
                    "locked": true,
                    "points": "20",
                    "solution": false
                },
                "editable": false,
                "deletable": false
            },
            "outputs": [],
            "source": [
                "###\n",
                "### AUTOGRADER TEST - DO NOT REMOVE\n",
                "###\n"
            ]
        },
        {
            "cell_type": "code",
            "execution_count": null,
            "metadata": {
                "collapsed": true,
                "nbgrader": {
                    "grade": true,
                    "grade_id": "Enterprise Value",
                    "locked": true,
                    "points": "20",
                    "solution": false
                },
                "editable": false,
                "deletable": false
            },
            "outputs": [],
            "source": [
                "###\n",
                "### AUTOGRADER TEST - DO NOT REMOVE\n",
                "###\n"
            ]
        },
        {
            "cell_type": "code",
            "execution_count": null,
            "metadata": {
                "collapsed": true,
                "nbgrader": {
                    "grade": true,
                    "grade_id": "Return on Equity",
                    "locked": true,
                    "points": "20",
                    "solution": false
                },
                "editable": false,
                "deletable": false
            },
            "outputs": [],
            "source": [
                "###\n",
                "### AUTOGRADER TEST - DO NOT REMOVE\n",
                "###\n"
            ]
        },
        {
            "cell_type": "code",
            "execution_count": null,
            "metadata": {
                "collapsed": true,
                "nbgrader": {
                    "grade": true,
                    "grade_id": "Dividend yield",
                    "locked": true,
                    "points": "20",
                    "solution": false
                },
                "editable": false,
                "deletable": false
            },
            "outputs": [],
            "source": [
                "###\n",
                "### AUTOGRADER TEST - DO NOT REMOVE\n",
                "###\n"
            ]
        },
        {
            "cell_type": "code",
            "execution_count": null,
            "metadata": {
                "collapsed": true,
                "nbgrader": {
                    "grade": true,
                    "grade_id": "Highest ROE",
                    "locked": true,
                    "points": "10",
                    "solution": false
                },
                "editable": false,
                "deletable": false
            },
            "outputs": [],
            "source": [
                "###\n",
                "### AUTOGRADER TEST - DO NOT REMOVE\n",
                "###\n"
            ]
        },
        {
            "cell_type": "code",
            "execution_count": null,
            "metadata": {
                "collapsed": true,
                "nbgrader": {
                    "grade": true,
                    "grade_id": "Highest dividend",
                    "locked": true,
                    "points": "10",
                    "solution": false
                },
                "editable": false,
                "deletable": false
            },
            "outputs": [],
            "source": [
                "###\n",
                "### AUTOGRADER TEST - DO NOT REMOVE\n",
                "###\n"
            ]
        }
    ],
    "metadata": {
        "kernelspec": {
            "display_name": "Python 3 [3.6]",
            "language": "python",
            "name": "python3"
        },
        "language_info": {
            "codemirror_mode": {
                "name": "ipython",
                "version": 3
            },
            "file_extension": ".py",
            "mimetype": "text\/x-python",
            "name": "python",
            "nbconvert_exporter": "python",
            "pygments_lexer": "ipython3",
            "version": "3.6.4"
        }
    },
    "nbformat": 4,
    "nbformat_minor": 2
}