{
 "cells": [
  {
   "cell_type": "markdown",
   "metadata": {
    "deletable": false,
    "editable": false,
    "nbgrader": {
     "grade": false,
     "locked": true,
     "solution": false
    }
   },
   "source": [
    "## There are some instructions you need to follow:\n",
    "<li> You only need to write your code in the comment area \"Your Code Here\".</li>\n",
    "<li>Do not upload your own file. Please make the necessary changes in the Jupyter notebook file already present in the server.</li>\n",
    "<li>Please note, there are several cells in the Assignment Jupyter notebook that are empty and read only. Do not attempt to remove them or   edit them. They are used in grading your notebook. Doing so might lead to 0 points.</li>"
   ]
  },
  {
   "cell_type": "code",
   "execution_count": 3,
   "metadata": {
    "collapsed": true,
    "deletable": false,
    "editable": false,
    "nbgrader": {
     "grade": false,
     "locked": true,
     "solution": false
    }
   },
   "outputs": [],
   "source": [
    "import nltk\n",
    "import os\n",
    "import _sqlite3\n",
    "from nltk.corpus import PlaintextCorpusReader\n",
    "from nltk import sent_tokenize,word_tokenize \n",
    "from gensim import corpora, models, similarities\n",
    "from gensim.models.ldamodel import LdaModel\n",
    "from gensim.parsing.preprocessing import STOPWORDS\n",
    "from gensim.similarities.docsim import Similarity"
   ]
  },
  {
   "cell_type": "markdown",
   "metadata": {
    "nbgrader": {
     "grade": false,
     "locked": false,
     "solution": false
    }
   },
   "source": [
    "# Question 1"
   ]
  },
  {
   "cell_type": "code",
   "execution_count": 4,
   "metadata": {},
   "outputs": [
    {
     "data": {
      "text/plain": [
       "[('Acrion', 'Philosophers/Acrion.html'),\n",
       " ('Adrastus of Aphrodisias', 'Philosophers/Adrastus of Aphrodisias.html'),\n",
       " ('Aedesia', 'Philosophers/Aedesia.html'),\n",
       " ('Aedesius', 'Philosophers/Aedesius.html'),\n",
       " ('Aeneas of Gaza', 'Philosophers/Aeneas of Gaza.html'),\n",
       " ('Aenesidemus', 'Philosophers/Aenesidemus.html'),\n",
       " ('Aesara', 'Philosophers/Aesara.html'),\n",
       " ('Aeschines of Neapolis', 'Philosophers/Aeschines of Neapolis.html'),\n",
       " ('Aeschines of Sphettus', 'Philosophers/Aeschines of Sphettus.html'),\n",
       " ('Aetius of Antioch', 'Philosophers/Aetius of Antioch.html'),\n",
       " ('Agapius (philosopher)', 'Philosophers/Agapius (philosopher).html'),\n",
       " ('Agathobulus', 'Philosophers/Agathobulus.html'),\n",
       " ('Agathosthenes', 'Philosophers/Agathosthenes.html'),\n",
       " ('Agrippa the Skeptic', 'Philosophers/Agrippa the Skeptic.html'),\n",
       " ('Albinus (philosopher)', 'Philosophers/Albinus (philosopher).html'),\n",
       " ('Alcinous (philosopher)', 'Philosophers/Alcinous (philosopher).html'),\n",
       " ('Alcmaeon of Croton', 'Philosophers/Alcmaeon of Croton.html'),\n",
       " ('Alexamenus of Teos', 'Philosophers/Alexamenus of Teos.html'),\n",
       " ('Alexander of Aegae', 'Philosophers/Alexander of Aegae.html'),\n",
       " ('Alexander of Aphrodisias', 'Philosophers/Alexander of Aphrodisias.html'),\n",
       " ('Alexicrates', 'Philosophers/Alexicrates.html'),\n",
       " ('Alexinus', 'Philosophers/Alexinus.html'),\n",
       " ('Amelius', 'Philosophers/Amelius.html'),\n",
       " ('Ammonius Hermiae', 'Philosophers/Ammonius Hermiae.html'),\n",
       " ('Ammonius of Athens', 'Philosophers/Ammonius of Athens.html'),\n",
       " ('Ammonius Saccas', 'Philosophers/Ammonius Saccas.html'),\n",
       " ('Anaxagoras', 'Philosophers/Anaxagoras.html'),\n",
       " ('Anaxarchus', 'Philosophers/Anaxarchus.html'),\n",
       " ('Anaxilaus', 'Philosophers/Anaxilaus.html'),\n",
       " ('Anaximander', 'Philosophers/Anaximander.html'),\n",
       " ('Anaximenes of Miletus', 'Philosophers/Anaximenes of Miletus.html'),\n",
       " ('Androcydes (Pythagorean)', 'Philosophers/Androcydes (Pythagorean).html'),\n",
       " ('Andronicus of Rhodes', 'Philosophers/Andronicus of Rhodes.html'),\n",
       " ('Anniceris', 'Philosophers/Anniceris.html'),\n",
       " ('Antiochus of Ascalon', 'Philosophers/Antiochus of Ascalon.html'),\n",
       " ('Antipater of Cyrene', 'Philosophers/Antipater of Cyrene.html'),\n",
       " ('Antipater of Tarsus', 'Philosophers/Antipater of Tarsus.html'),\n",
       " ('Antipater of Tyre', 'Philosophers/Antipater of Tyre.html'),\n",
       " ('Antisthenes', 'Philosophers/Antisthenes.html'),\n",
       " ('Antoninus (philosopher)', 'Philosophers/Antoninus (philosopher).html'),\n",
       " ('Apollodorus of Athens', 'Philosophers/Apollodorus of Athens.html'),\n",
       " ('Apollodorus of Seleucia', 'Philosophers/Apollodorus of Seleucia.html'),\n",
       " ('Apollodorus the Epicurean', 'Philosophers/Apollodorus the Epicurean.html'),\n",
       " ('Apollonius Cronus', 'Philosophers/Apollonius Cronus.html'),\n",
       " ('Apollonius of Tyana', 'Philosophers/Apollonius of Tyana.html'),\n",
       " ('Apollonius of Tyre (philosopher)',\n",
       "  'Philosophers/Apollonius of Tyre (philosopher).html'),\n",
       " ('Arcesilaus', 'Philosophers/Arcesilaus.html'),\n",
       " ('Archedemus of Tarsus', 'Philosophers/Archedemus of Tarsus.html'),\n",
       " ('Archelaus (philosopher)', 'Philosophers/Archelaus (philosopher).html'),\n",
       " ('Archytas', 'Philosophers/Archytas.html'),\n",
       " ('Arete of Cyrene', 'Philosophers/Arete of Cyrene.html'),\n",
       " ('Arignote', 'Philosophers/Arignote.html'),\n",
       " ('Aristarchus of Samos', 'Philosophers/Aristarchus of Samos.html'),\n",
       " ('Aristippus', 'Philosophers/Aristippus.html'),\n",
       " ('Aristippus the Younger', 'Philosophers/Aristippus the Younger.html'),\n",
       " ('Aristoclea', 'Philosophers/Aristoclea.html'),\n",
       " ('Aristocles of Messene', 'Philosophers/Aristocles of Messene.html'),\n",
       " ('Aristocreon', 'Philosophers/Aristocreon.html'),\n",
       " ('Aristo of Alexandria', 'Philosophers/Aristo of Alexandria.html'),\n",
       " ('Aristo of Ceos', 'Philosophers/Aristo of Ceos.html'),\n",
       " ('Aristo of Chios', 'Philosophers/Aristo of Chios.html'),\n",
       " ('Aristotle', 'Philosophers/Aristotle.html'),\n",
       " ('Aristotle of Cyrene', 'Philosophers/Aristotle of Cyrene.html'),\n",
       " ('Aristotle of Mytilene', 'Philosophers/Aristotle of Mytilene.html'),\n",
       " ('Aristoxenus', 'Philosophers/Aristoxenus.html'),\n",
       " ('Arius Didymus', 'Philosophers/Arius Didymus.html'),\n",
       " ('Asclepiades of Phlius', 'Philosophers/Asclepiades of Phlius.html'),\n",
       " ('Asclepiades the Cynic', 'Philosophers/Asclepiades the Cynic.html'),\n",
       " ('Asclepigenia', 'Philosophers/Asclepigenia.html'),\n",
       " ('Asclepiodotus (philosopher)',\n",
       "  'Philosophers/Asclepiodotus (philosopher).html'),\n",
       " ('Asclepiodotus of Alexandria',\n",
       "  'Philosophers/Asclepiodotus of Alexandria.html'),\n",
       " ('Aspasius', 'Philosophers/Aspasius.html'),\n",
       " ('Athenaeus of Seleucia', 'Philosophers/Athenaeus of Seleucia.html'),\n",
       " ('Athenodoros Cananites', 'Philosophers/Athenodoros Cananites.html'),\n",
       " ('Athenodoros Cordylion', 'Philosophers/Athenodoros Cordylion.html'),\n",
       " ('Athenodorus of Soli', 'Philosophers/Athenodorus of Soli.html'),\n",
       " ('Attalus (Stoic)', 'Philosophers/Attalus (Stoic).html'),\n",
       " ('Atticus (philosopher)', 'Philosophers/Atticus (philosopher).html'),\n",
       " ('Basilides (Stoic)', 'Philosophers/Basilides (Stoic).html'),\n",
       " ('Tisias', 'Philosophers/Tisias.html'),\n",
       " ('Xenarchus of Seleucia', 'Philosophers/Xenarchus of Seleucia.html'),\n",
       " ('Xeniades', 'Philosophers/Xeniades.html'),\n",
       " ('Xenocrates', 'Philosophers/Xenocrates.html'),\n",
       " ('Xenophanes', 'Philosophers/Xenophanes.html'),\n",
       " ('Xenophilus', 'Philosophers/Xenophilus.html'),\n",
       " ('Xenophon', 'Philosophers/Xenophon.html'),\n",
       " ('Zenobius', 'Philosophers/Zenobius.html'),\n",
       " ('Zenodotus (philosopher)', 'Philosophers/Zenodotus (philosopher).html'),\n",
       " ('Zeno of Citium', 'Philosophers/Zeno of Citium.html'),\n",
       " ('Zeno of Elea', 'Philosophers/Zeno of Elea.html'),\n",
       " ('Zeno of Sidon', 'Philosophers/Zeno of Sidon.html'),\n",
       " ('Zeno of Tarsus', 'Philosophers/Zeno of Tarsus.html')]"
      ]
     },
     "execution_count": 4,
     "metadata": {},
     "output_type": "execute_result"
    }
   ],
   "source": [
    "\"\"\"\n",
    "Question 1\n",
    "\n",
    "Write a function that takes the file name of the Wikipedia page containing all Greek ancient\n",
    "philosophers (saved as \"Index.html\" in your workspace) and returns a list tuples containing \n",
    "the name of the philosopher and the path to its individual article file.\n",
    "\n",
    "Example of use: get_philosophers(\"Index.html\")\n",
    "\n",
    "The output should be a list of tuples:\n",
    "\n",
    "[('Acrion', 'Philosophers/Acrion.html'),\n",
    " ('Adrastus of Aphrodisias', 'Philosophers/Adrastus of Aphrodisias.html'),\n",
    " ('Aedesia', 'Philosophers/Aedesia.html'),\n",
    " ('Aedesius', 'Philosophers/Aedesius.html'),\n",
    " ('Aeneas of Gaza', 'Philosophers/Aeneas of Gaza.html'),\n",
    " ('Aenesidemus', 'Philosophers/Aenesidemus.html'),\n",
    " ...]\n",
    " \n",
    "  \n",
    "NOTE: For processing speed purposes, the table in \"Index.html\" has been shortened compared\n",
    "to the one online on wikipedia.org. Do not worry if you do not find some philosophers in \n",
    "your results, this is made on purpose. \n",
    "\n",
    "\"\"\"\n",
    "\n",
    "def get_philosophers(filename):\n",
    "    \n",
    "    import codecs\n",
    "    from bs4 import BeautifulSoup\n",
    "    f = codecs.open(filename, 'r', 'utf-8')\n",
    "    soup = BeautifulSoup(f.read(),'lxml')\n",
    "    \n",
    "    ###\n",
    "    ### YOUR CODE HERE\n",
    "    ###\n",
    "\n",
    "# Once done, try this:\n",
    "filenames = get_philosophers(\"Index.html\")\n",
    "filenames"
   ]
  },
  {
   "cell_type": "markdown",
   "metadata": {
    "deletable": false,
    "editable": false,
    "nbgrader": {
     "grade": false,
     "locked": true,
     "solution": false
    }
   },
   "source": [
    "# Question 2"
   ]
  },
  {
   "cell_type": "code",
   "execution_count": 2,
   "metadata": {},
   "outputs": [
    {
     "data": {
      "text/plain": [
       "\"\\nQuestion 2\\n\\n\\nWrite a function that scrapes the text on a philosophers’s page and returns it as a text \\nstring. The input is the name of the file that contains the philosoph's page.\\n\\nExample of use: get_text('Philosophers/Acrion.html')\\nshould output the text of the page.\\n'Acrion was a Locrian and a Pythagorean philosopher...'\\n\""
      ]
     },
     "execution_count": 2,
     "metadata": {},
     "output_type": "execute_result"
    }
   ],
   "source": [
    "\"\"\"\n",
    "Question 2\n",
    "\n",
    "\n",
    "Write a function that scrapes the text on a philosophers’s page and returns it as a text \n",
    "string. The input is the name of the file that contains the philosoph's page.\n",
    "\n",
    "Example of use: get_text('Philosophers/Acrion.html')\n",
    "should output the text of the page.\n",
    "'Acrion was a Locrian and a Pythagorean philosopher...'\n",
    "\"\"\"\n",
    "\n",
    "# def get_text(file):\n",
    "#     ###\n",
    "#     ### YOUR CODE HERE\n",
    "#     ###\n",
    "\n",
    "# # Once done, try this:\n",
    "# get_text(\"Philosophers/Acrion.html\")"
   ]
  },
  {
   "cell_type": "markdown",
   "metadata": {},
   "source": [
    "# Question 3"
   ]
  },
  {
   "cell_type": "code",
   "execution_count": 11,
   "metadata": {},
   "outputs": [
    {
     "data": {
      "text/plain": [
       "[('Acrion', 'Athenodoros Cananites'),\n",
       " ('Adrastus of Aphrodisias', 'Andronicus of Rhodes'),\n",
       " ('Aedesia', 'Ammonius of Athens'),\n",
       " ('Aedesius', 'Arete of Cyrene'),\n",
       " ('Aeneas of Gaza', 'Ammonius Hermiae'),\n",
       " ('Aenesidemus', 'Antiochus of Ascalon'),\n",
       " ('Aesara', 'Androcydes (Pythagorean)'),\n",
       " ('Aeschines of Neapolis', 'Apollodorus of Athens'),\n",
       " ('Aeschines of Sphettus', 'Aristippus'),\n",
       " ('Aetius of Antioch', 'Anaxarchus'),\n",
       " ('Agapius (philosopher)', 'Alexinus'),\n",
       " ('Agathobulus', 'Athenodoros Cordylion'),\n",
       " ('Agathosthenes', 'Zenobius'),\n",
       " ('Agrippa the Skeptic', 'Antiochus of Ascalon'),\n",
       " ('Albinus (philosopher)', 'Aristocles of Messene'),\n",
       " ('Alcinous (philosopher)', 'Alcmaeon of Croton'),\n",
       " ('Alcmaeon of Croton', 'Alcinous (philosopher)'),\n",
       " ('Alexamenus of Teos', 'Aristotle of Mytilene'),\n",
       " ('Alexander of Aegae', 'Aristocles of Messene'),\n",
       " ('Alexander of Aphrodisias', 'Adrastus of Aphrodisias'),\n",
       " ('Alexicrates', 'Zenobius'),\n",
       " ('Alexinus', 'Aristippus'),\n",
       " ('Amelius', 'Ammonius Hermiae'),\n",
       " ('Ammonius Hermiae', 'Ammonius of Athens'),\n",
       " ('Ammonius of Athens', 'Ammonius Hermiae'),\n",
       " ('Ammonius Saccas', 'Ammonius of Athens'),\n",
       " ('Anaxagoras', 'Archelaus (philosopher)'),\n",
       " ('Anaxarchus', 'Aetius of Antioch'),\n",
       " ('Anaxilaus', 'Alexicrates'),\n",
       " ('Anaximander', 'Anaxilaus'),\n",
       " ('Anaximenes of Miletus', 'Aristarchus of Samos'),\n",
       " ('Androcydes (Pythagorean)', 'Tisias'),\n",
       " ('Andronicus of Rhodes', 'Aspasius'),\n",
       " ('Anniceris', 'Antisthenes'),\n",
       " ('Antiochus of Ascalon', 'Aenesidemus'),\n",
       " ('Antipater of Cyrene', 'Arcesilaus'),\n",
       " ('Antipater of Tarsus', 'Arius Didymus'),\n",
       " ('Antipater of Tyre', 'Aenesidemus'),\n",
       " ('Antisthenes', 'Antipater of Tarsus'),\n",
       " ('Antoninus (philosopher)', 'Aetius of Antioch'),\n",
       " ('Apollodorus of Athens', 'Aeschines of Neapolis'),\n",
       " ('Apollodorus of Seleucia', 'Apollodorus the Epicurean'),\n",
       " ('Apollodorus the Epicurean', 'Apollodorus of Seleucia'),\n",
       " ('Apollonius Cronus', 'Apollonius of Tyana'),\n",
       " ('Apollonius of Tyana', 'Apollonius Cronus'),\n",
       " ('Apollonius of Tyre (philosopher)', 'Apollodorus the Epicurean'),\n",
       " ('Arcesilaus', 'Zenodotus (philosopher)'),\n",
       " ('Archedemus of Tarsus', 'Arete of Cyrene'),\n",
       " ('Archelaus (philosopher)', 'Anaxagoras'),\n",
       " ('Archytas', 'Aristoxenus'),\n",
       " ('Arete of Cyrene', 'Agathobulus'),\n",
       " ('Arignote', 'Anaxagoras'),\n",
       " ('Aristarchus of Samos', 'Archelaus (philosopher)'),\n",
       " ('Aristippus', 'Alexinus'),\n",
       " ('Aristippus the Younger', 'Agathobulus'),\n",
       " ('Aristoclea', 'Alexicrates'),\n",
       " ('Aristocles of Messene', 'Alexander of Aegae'),\n",
       " ('Aristocreon', 'Alexinus'),\n",
       " ('Aristo of Alexandria', 'Amelius'),\n",
       " ('Aristo of Ceos', 'Aristo of Chios'),\n",
       " ('Aristo of Chios', 'Aristo of Ceos'),\n",
       " ('Aristotle', 'Aristotle of Mytilene'),\n",
       " ('Aristotle of Cyrene', 'Alexamenus of Teos'),\n",
       " ('Aristotle of Mytilene', 'Alexamenus of Teos'),\n",
       " ('Aristoxenus', 'Albinus (philosopher)'),\n",
       " ('Arius Didymus', 'Antipater of Tarsus'),\n",
       " ('Asclepiades of Phlius', 'Archedemus of Tarsus'),\n",
       " ('Asclepiades the Cynic', 'Aristoclea'),\n",
       " ('Asclepigenia', 'Aristotle of Cyrene'),\n",
       " ('Asclepiodotus (philosopher)', 'Basilides (Stoic)'),\n",
       " ('Asclepiodotus of Alexandria', 'Arcesilaus'),\n",
       " ('Aspasius', 'Andronicus of Rhodes'),\n",
       " ('Athenaeus of Seleucia', 'Aristocles of Messene'),\n",
       " ('Athenodoros Cananites', 'Aesara'),\n",
       " ('Athenodoros Cordylion', 'Agathobulus'),\n",
       " ('Athenodorus of Soli', 'Apollodorus the Epicurean'),\n",
       " ('Attalus (Stoic)', 'Athenodoros Cordylion'),\n",
       " ('Atticus (philosopher)', 'Alcinous (philosopher)'),\n",
       " ('Basilides (Stoic)', 'Aristippus the Younger'),\n",
       " ('Tisias', 'Androcydes (Pythagorean)'),\n",
       " ('Xenarchus of Seleucia', 'Alexicrates'),\n",
       " ('Xeniades', 'Apollodorus of Athens'),\n",
       " ('Xenocrates', 'Agrippa the Skeptic'),\n",
       " ('Xenophanes', 'Apollodorus of Athens'),\n",
       " ('Xenophilus', 'Tisias'),\n",
       " ('Xenophon', 'Aeschines of Sphettus'),\n",
       " ('Zenobius', 'Agathosthenes'),\n",
       " ('Zenodotus (philosopher)', 'Arcesilaus'),\n",
       " ('Zeno of Citium', 'Zeno of Sidon'),\n",
       " ('Zeno of Elea', 'Zeno of Sidon'),\n",
       " ('Zeno of Sidon', 'Zeno of Citium'),\n",
       " ('Zeno of Tarsus', 'Apollodorus of Seleucia')]"
      ]
     },
     "execution_count": 11,
     "metadata": {},
     "output_type": "execute_result"
    }
   ],
   "source": [
    "\"\"\"\n",
    "Question 3\n",
    "\n",
    "Use the files under \"Philosophers\" folder to construct an LSI model.\n",
    "Then, use the LSI model to find the most similar philosopher for each of the philosophers\n",
    "found in Question 1, based on the content of their Wikipedia articles. You should not go\n",
    "online to scrape the data; everything you need is in your Jupyter notebook working directory.\n",
    "\n",
    "The function should have as input the list of tuples created in Question 1.\n",
    "\n",
    "The output format should be a list of tuples too. Each tuple should contain a philosopher's name\n",
    "and its most similar other philosopher. Please note both names can't be the same.\n",
    "\n",
    "The output should look like that:\n",
    "\n",
    "[('Acrion', 'Arignote'),\n",
    " ('Adrastus of Aphrodisias', 'Lycophron (Sophist)'),\n",
    " ('Aedesia', 'Heliodorus of Alexandria'),\n",
    " ('Aedesius', 'Chrysanthius'),\n",
    " ('Aeneas of Gaza', 'Archytas'),\n",
    " ...]\n",
    "\n",
    "\n",
    "\"\"\"\n",
    "\n",
    "def run1(filenames):\n",
    "###\n",
    "### YOUR CODE HERE\n",
    "###\n",
    "\n",
    "# Once done, try this:\n",
    "run(filenames)"
   ]
  },
  {
   "cell_type": "code",
   "execution_count": null,
   "metadata": {
    "collapsed": true,
    "deletable": false,
    "editable": false,
    "nbgrader": {
     "grade": true,
     "grade_id": "Scraping filenames",
     "locked": true,
     "points": "20",
     "solution": false
    }
   },
   "outputs": [],
   "source": [
    "###\n",
    "### AUTOGRADER TEST - DO NOT REMOVE\n",
    "###\n"
   ]
  },
  {
   "cell_type": "code",
   "execution_count": null,
   "metadata": {
    "collapsed": true,
    "deletable": false,
    "editable": false,
    "nbgrader": {
     "grade": true,
     "grade_id": "Text of page",
     "locked": true,
     "points": "20",
     "solution": false
    }
   },
   "outputs": [],
   "source": [
    "###\n",
    "### AUTOGRADER TEST - DO NOT REMOVE\n",
    "###\n"
   ]
  },
  {
   "cell_type": "code",
   "execution_count": null,
   "metadata": {
    "collapsed": true,
    "deletable": false,
    "editable": false,
    "nbgrader": {
     "grade": true,
     "grade_id": "Run LSI",
     "locked": true,
     "points": "60",
     "solution": false
    }
   },
   "outputs": [],
   "source": [
    "###\n",
    "### AUTOGRADER TEST - DO NOT REMOVE\n",
    "###\n"
   ]
  },
  {
   "cell_type": "code",
   "execution_count": null,
   "metadata": {
    "collapsed": true
   },
   "outputs": [],
   "source": []
  }
 ],
 "metadata": {
  "kernelspec": {
   "display_name": "Python 3",
   "language": "python",
   "name": "python3"
  },
  "language_info": {
   "codemirror_mode": {
    "name": "ipython",
    "version": 3
   },
   "file_extension": ".py",
   "mimetype": "text/x-python",
   "name": "python",
   "nbconvert_exporter": "python",
   "pygments_lexer": "ipython3",
   "version": "3.7.3"
  }
 },
 "nbformat": 4,
 "nbformat_minor": 2
}
