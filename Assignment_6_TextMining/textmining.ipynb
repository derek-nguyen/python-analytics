{
 "cells": [
  {
   "cell_type": "markdown",
   "metadata": {
    "deletable": false,
    "editable": false,
    "nbgrader": {
     "grade": false,
     "locked": true,
     "solution": false
    }
   },
   "source": [
    "## There are some instructions you need to follow:\n",
    "<li> You only need to write your code in the comment area \"Your Code Here\".</li>\n",
    "<li>Do not upload your own file. Please make the necessary changes in the Jupyter notebook file already present in the server.</li>\n",
    "<li>Please note, there are several cells in the Assignment Jupyter notebook that are empty and read only. Do not attempt to remove them or   edit them. They are used in grading your notebook. Doing so might lead to 0 points.</li>"
   ]
  },
  {
   "cell_type": "code",
   "execution_count": 11,
   "metadata": {
    "deletable": false,
    "editable": false,
    "nbgrader": {
     "grade": false,
     "locked": true,
     "solution": false
    }
   },
   "outputs": [],
   "source": [
    "import nltk\n",
    "import os\n",
    "import _sqlite3\n",
    "from nltk.corpus import PlaintextCorpusReader\n",
    "from nltk import sent_tokenize,word_tokenize \n",
    "from gensim import corpora, models, similarities\n",
    "from gensim.models.ldamodel import LdaModel\n",
    "from gensim.parsing.preprocessing import STOPWORDS\n",
    "from gensim.similarities.docsim import Similarity"
   ]
  },
  {
   "cell_type": "markdown",
   "metadata": {
    "nbgrader": {
     "grade": false,
     "locked": false,
     "solution": false
    }
   },
   "source": [
    "# Question 1"
   ]
  },
  {
   "cell_type": "code",
   "execution_count": 12,
   "metadata": {},
   "outputs": [],
   "source": [
    "\"\"\"\n",
    "Question 1\n",
    "\n",
    "Write a function that takes the file name of the Wikipedia page containing all Greek ancient\n",
    "philosophers (saved as \"Index.html\" in your workspace) and returns a list tuples containing \n",
    "the name of the philosopher and the path to its individual article file.\n",
    "\n",
    "Example of use: get_philosophers(\"Index.html\")\n",
    "\n",
    "The output should be a list of tuples:\n",
    "\n",
    "[('Acrion', 'Philosophers/Acrion.html'),\n",
    " ('Adrastus of Aphrodisias', 'Philosophers/Adrastus of Aphrodisias.html'),\n",
    " ('Aedesia', 'Philosophers/Aedesia.html'),\n",
    " ('Aedesius', 'Philosophers/Aedesius.html'),\n",
    " ('Aeneas of Gaza', 'Philosophers/Aeneas of Gaza.html'),\n",
    " ('Aenesidemus', 'Philosophers/Aenesidemus.html'),\n",
    " ...]\n",
    " \n",
    "  \n",
    "NOTE: For processing speed purposes, the table in \"Index.html\" has been shortened compared\n",
    "to the one online on wikipedia.org. Do not worry if you do not find some philosophers in \n",
    "your results, this is made on purpose. \n",
    "\n",
    "\"\"\"\n",
    "\n",
    "def get_philosophers(filename):\n",
    "    \n",
    "    import codecs\n",
    "    from bs4 import BeautifulSoup\n",
    "    f = codecs.open(filename, 'r', 'utf-8')\n",
    "    soup = BeautifulSoup(f.read(),'lxml')\n",
    "    \n",
    "    philosopher_list = []\n",
    "    \n",
    "    tableRows = soup.find_all('table',class_='wikitable sortable')[0]\n",
    "    data_rows = tableRows.find_all('tr')[1:]\n",
    "    philosopher_name = [] #list containing each philosopher's name\n",
    "    # grabs philosopher name from title an appends to list\n",
    "    for data in data_rows:\n",
    "        philosopher_name.append(data.find('a').get('title'))\n",
    "\n",
    "    # adding path and filename at the end of philosopher's name\n",
    "    for name in philosopher_name:\n",
    "        x = name\n",
    "        y = name,\"Philosophers/\"+ x + '.html'\n",
    "        philosopher_list.append(y)\n",
    "\n",
    "    # returns philosopher list as tuple\n",
    "    return philosopher_list\n",
    "\n",
    "# Once done, try this:\n",
    "filenames = get_philosophers(\"Index.html\")\n",
    "# filenames"
   ]
  },
  {
   "cell_type": "markdown",
   "metadata": {
    "deletable": false,
    "editable": false,
    "nbgrader": {
     "grade": false,
     "locked": true,
     "solution": false
    }
   },
   "source": [
    "# Question 2"
   ]
  },
  {
   "cell_type": "code",
   "execution_count": 13,
   "metadata": {},
   "outputs": [
    {
     "data": {
      "text/plain": [
       "'Acrion was a Locrian and a Pythagorean philosopher.[1]  He is mentioned by Valerius Maximus[2] under the name of Arion. According to William Smith, Arion is a false reading, instead of Acrion.[3]\\n'"
      ]
     },
     "execution_count": 13,
     "metadata": {},
     "output_type": "execute_result"
    }
   ],
   "source": [
    "\"\"\"\n",
    "Question 2\n",
    "\n",
    "\n",
    "Write a function that scrapes the text on a philosophers’s page and returns it as a text \n",
    "string. The input is the name of the file that contains the philosoph's page.\n",
    "\n",
    "Example of use: get_text('Philosophers/Acrion.html')\n",
    "should output the text of the page.\n",
    "'Acrion was a Locrian and a Pythagorean philosopher...'\n",
    "\"\"\"\n",
    "\n",
    "def get_text(file):\n",
    "    import codecs\n",
    "    from bs4 import BeautifulSoup\n",
    "    f = codecs.open(file, 'r', 'utf-8')\n",
    "    page_soup = BeautifulSoup(f.read(),'lxml')\n",
    "\n",
    "    all_text = \"\"\n",
    "\n",
    "    tag = page_soup.find('p')\n",
    "    all_text += tag.get_text()\n",
    "    return all_text\n",
    "# Once done, try this:\n",
    "get_text(\"Philosophers/Acrion.html\")"
   ]
  },
  {
   "cell_type": "markdown",
   "metadata": {},
   "source": [
    "# Question 3"
   ]
  },
  {
   "cell_type": "code",
   "execution_count": 26,
   "metadata": {},
   "outputs": [
    {
     "data": {
      "text/plain": [
       "[('Acrion', 'Anaxilaus'),\n",
       " ('Adrastus of Aphrodisias', 'Alexander of Aegae'),\n",
       " ('Aedesia', 'Aedesia'),\n",
       " ('Aedesius', 'Asclepigenia'),\n",
       " ('Aeneas of Gaza', 'Aeneas of Gaza'),\n",
       " ('Aenesidemus', 'Aenesidemus'),\n",
       " ('Aesara', 'Apollonius Cronus'),\n",
       " ('Aeschines of Neapolis', 'Attalus (Stoic)'),\n",
       " ('Aeschines of Sphettus', 'Aeschines of Sphettus'),\n",
       " ('Aetius of Antioch', 'Aetius of Antioch'),\n",
       " ('Agapius (philosopher)', 'Asclepiodotus of Alexandria'),\n",
       " ('Agathobulus', 'Agathobulus'),\n",
       " ('Agathosthenes', 'Agathosthenes'),\n",
       " ('Agrippa the Skeptic', 'Agrippa the Skeptic'),\n",
       " ('Albinus (philosopher)', 'Albinus (philosopher)'),\n",
       " ('Alcinous (philosopher)', 'Alcinous (philosopher)'),\n",
       " ('Alcmaeon of Croton', 'Alcmaeon of Croton'),\n",
       " ('Alexamenus of Teos', 'Alexicrates'),\n",
       " ('Alexander of Aegae', 'Alexander of Aegae'),\n",
       " ('Alexander of Aphrodisias', 'Alexander of Aphrodisias'),\n",
       " ('Alexicrates', 'Alexicrates'),\n",
       " ('Alexinus', 'Alexinus'),\n",
       " ('Amelius', 'Asclepigenia'),\n",
       " ('Ammonius Hermiae', 'Apollonius of Tyana'),\n",
       " ('Ammonius of Athens', 'Ammonius of Athens'),\n",
       " ('Ammonius Saccas', 'Apollodorus the Epicurean'),\n",
       " ('Anaxagoras', 'Anaxagoras'),\n",
       " ('Anaxarchus', 'Alexinus'),\n",
       " ('Anaxilaus', 'Anaxilaus'),\n",
       " ('Anaximander', 'Agapius (philosopher)'),\n",
       " ('Anaximenes of Miletus', 'Anaximenes of Miletus'),\n",
       " ('Androcydes (Pythagorean)', 'Alcinous (philosopher)'),\n",
       " ('Andronicus of Rhodes', 'Zeno of Sidon'),\n",
       " ('Anniceris', 'Anniceris'),\n",
       " ('Antiochus of Ascalon', 'Antiochus of Ascalon'),\n",
       " ('Antipater of Cyrene', 'Antipater of Cyrene'),\n",
       " ('Antipater of Tarsus', 'Antipater of Tarsus'),\n",
       " ('Antipater of Tyre', 'Basilides (Stoic)'),\n",
       " ('Antisthenes', 'Antisthenes'),\n",
       " ('Antoninus (philosopher)', 'Antoninus (philosopher)'),\n",
       " ('Apollodorus of Athens', 'Aetius of Antioch'),\n",
       " ('Apollodorus of Seleucia', 'Antipater of Tarsus'),\n",
       " ('Apollodorus the Epicurean', 'Apollodorus the Epicurean'),\n",
       " ('Apollonius Cronus', 'Apollonius Cronus'),\n",
       " ('Apollonius of Tyana', 'Attalus (Stoic)'),\n",
       " ('Apollonius of Tyre (philosopher)', 'Aetius of Antioch'),\n",
       " ('Arcesilaus', 'Arcesilaus'),\n",
       " ('Archedemus of Tarsus', 'Zeno of Sidon'),\n",
       " ('Archelaus (philosopher)', 'Albinus (philosopher)'),\n",
       " ('Archytas', 'Anaximander'),\n",
       " ('Arete of Cyrene', 'Arete of Cyrene'),\n",
       " ('Arignote', 'Arignote'),\n",
       " ('Aristarchus of Samos', 'Aristarchus of Samos'),\n",
       " ('Aristippus', 'Aristippus'),\n",
       " ('Aristippus the Younger', 'Tisias'),\n",
       " ('Aristoclea', 'Aristoclea'),\n",
       " ('Aristocles of Messene', 'Aristocles of Messene'),\n",
       " ('Aristocreon', 'Asclepigenia'),\n",
       " ('Aristo of Alexandria', 'Aristo of Alexandria'),\n",
       " ('Aristo of Ceos', 'Aristo of Ceos'),\n",
       " ('Aristo of Chios', 'Aristo of Chios'),\n",
       " ('Aristotle', 'Acrion'),\n",
       " ('Aristotle of Cyrene', 'Asclepigenia'),\n",
       " ('Aristotle of Mytilene', 'Asclepigenia'),\n",
       " ('Aristoxenus', 'Aristoxenus'),\n",
       " ('Arius Didymus', 'Basilides (Stoic)'),\n",
       " ('Asclepiades of Phlius', 'Asclepiades of Phlius'),\n",
       " ('Asclepiades the Cynic', 'Acrion'),\n",
       " ('Asclepigenia', 'Asclepigenia'),\n",
       " ('Asclepiodotus (philosopher)', 'Asclepiodotus (philosopher)'),\n",
       " ('Asclepiodotus of Alexandria', 'Asclepiodotus of Alexandria'),\n",
       " ('Aspasius', 'Aspasius'),\n",
       " ('Athenaeus of Seleucia', 'Athenaeus of Seleucia'),\n",
       " ('Athenodoros Cananites', 'Athenodoros Cananites'),\n",
       " ('Athenodoros Cordylion', 'Aristoclea'),\n",
       " ('Athenodorus of Soli', 'Alexicrates'),\n",
       " ('Attalus (Stoic)', 'Asclepigenia'),\n",
       " ('Atticus (philosopher)', 'Atticus (philosopher)'),\n",
       " ('Basilides (Stoic)', 'Basilides (Stoic)'),\n",
       " ('Tisias', 'Tisias'),\n",
       " ('Xenarchus of Seleucia', 'Aristocles of Messene'),\n",
       " ('Xeniades', 'Xeniades'),\n",
       " ('Xenocrates', 'Xenocrates'),\n",
       " ('Xenophanes', 'Xenophanes'),\n",
       " ('Xenophilus', 'Xenophilus'),\n",
       " ('Xenophon', 'Xenophon'),\n",
       " ('Zenobius', 'Zenodotus (philosopher)'),\n",
       " ('Zenodotus (philosopher)', 'Agapius (philosopher)'),\n",
       " ('Zeno of Citium', 'Zeno of Citium'),\n",
       " ('Zeno of Elea', 'Zeno of Elea'),\n",
       " ('Zeno of Sidon', 'Aristo of Ceos'),\n",
       " ('Zeno of Tarsus', 'Zeno of Sidon')]"
      ]
     },
     "execution_count": 26,
     "metadata": {},
     "output_type": "execute_result"
    }
   ],
   "source": [
    "\"\"\"\n",
    "Question 3\n",
    "\n",
    "Use the files under \"Philosophers\" folder to construct an LSI model.\n",
    "Then, use the LSI model to find the most similar philosopher for each of the philosophers\n",
    "found in Question 1, based on the content of their Wikipedia articles. You should not go\n",
    "online to scrape the data; everything you need is in your Jupyter notebook working directory.\n",
    "\n",
    "The function should have as input the list of tuples created in Question 1.\n",
    "\n",
    "The output format should be a list of tuples too. Each tuple should contain a philosopher's name\n",
    "and its most similar other philosopher. Please note both names can't be the same.\n",
    "\n",
    "The output should look like that:\n",
    "\n",
    "[('Acrion', 'Arignote'),\n",
    " ('Adrastus of Aphrodisias', 'Lycophron (Sophist)'),\n",
    " ('Aedesia', 'Heliodorus of Alexandria'),\n",
    " ('Aedesius', 'Chrysanthius'),\n",
    " ('Aeneas of Gaza', 'Archytas'),\n",
    " ...]\n",
    "\n",
    "\n",
    "\"\"\"\n",
    "\n",
    "def run(filenames):\n",
    "    # return philosopher's filepath \n",
    "    philosopher_files = list()\n",
    "    for filename in filenames:\n",
    "        philosopher_files.append(filename[1])\n",
    "     \n",
    "    # grab philosophers' description\n",
    "    documents = [get_text(philosopher_path) for philosopher_path in philosopher_files]\n",
    "    \n",
    "    # text processing\n",
    "    strip_text_list = list()\n",
    "\n",
    "    for philosopher_text in documents:\n",
    "        striptext = philosopher_text.replace('\\n\\n', ' ')\n",
    "        striptext = striptext.replace('\\n', ' ')\n",
    "        strip_text_list.append(striptext)\n",
    "        \n",
    "    # process text and split each word\n",
    "    texts = [[word for word in document.lower().split()\n",
    "         if word not in STOPWORDS and word.isalnum()]\n",
    "         for document in strip_text_list]\n",
    "    \n",
    "    # create a dictionary (tokenizing)\n",
    "    dictionary = corpora.Dictionary(texts)\n",
    "    \n",
    "    # create corpus\n",
    "    corpus = [dictionary.doc2bow(text) for text in texts]\n",
    "    \n",
    "    \n",
    "    # create LSI model\n",
    "    lsi = models.LsiModel(corpus, id2word=dictionary,num_topics=7)\n",
    "    \n",
    "    # create list of philosophers description\n",
    "    philosophers_description = []\n",
    "    for philosopher_strip_text in strip_text_list:\n",
    "        philosophers_description.append(philosopher_strip_text.split())\n",
    "\n",
    "    # create bag of word for each philosopher\n",
    "    philosophers_bow = []\n",
    "    for single_description in philosophers_description:\n",
    "        single_isalnum = []\n",
    "        for word in single_description:\n",
    "            if word.isalnum() == True:\n",
    "                single_isalnum.append(word)\n",
    "        philosophers_bow.append(single_isalnum)\n",
    "        \n",
    "    # vectorize philosopher bows\n",
    "    sims_list = []\n",
    "    for each_philosopher_bow in philosophers_bow:\n",
    "        vec_bow = dictionary.doc2bow(each_philosopher_bow)\n",
    "        vec_lsi = lsi[vec_bow]\n",
    "        index = similarities.MatrixSimilarity(lsi[corpus])\n",
    "        sims = index[vec_lsi]\n",
    "        sims = sorted(enumerate(sims),key=lambda item: -item[1])\n",
    "        sims_list.append(sims)\n",
    "        \n",
    "    # find position of all sims then name of philosopher\n",
    "    sim_position_list = []\n",
    "    for sim_position in sims_list:\n",
    "        sim_position_list.append(sim_position[0][0])\n",
    "\n",
    "    sim_philosopher_list = []\n",
    "    for sim_position in sim_position_list:\n",
    "        sim_philosopher_list.append(filenames[sim_position][0])\n",
    "    \n",
    "    # append philosopher name and similar philosopher to list\n",
    "    philosopher_names = []\n",
    "    for name in filenames:\n",
    "        philosopher_names.append(name[0])\n",
    "\n",
    "    final_output = [(x,y) for x,y in zip(philosopher_names,sim_philosopher_list)]\n",
    "    return final_output\n",
    "# Once done, try this:\n",
    "run(filenames)"
   ]
  },
  {
   "cell_type": "code",
   "execution_count": 15,
   "metadata": {
    "deletable": false,
    "editable": false,
    "nbgrader": {
     "grade": true,
     "grade_id": "Scraping filenames",
     "locked": true,
     "points": "20",
     "solution": false
    }
   },
   "outputs": [],
   "source": [
    "###\n",
    "### AUTOGRADER TEST - DO NOT REMOVE\n",
    "###\n"
   ]
  },
  {
   "cell_type": "code",
   "execution_count": 16,
   "metadata": {
    "deletable": false,
    "editable": false,
    "nbgrader": {
     "grade": true,
     "grade_id": "Text of page",
     "locked": true,
     "points": "20",
     "solution": false
    }
   },
   "outputs": [],
   "source": [
    "###\n",
    "### AUTOGRADER TEST - DO NOT REMOVE\n",
    "###\n"
   ]
  },
  {
   "cell_type": "code",
   "execution_count": 17,
   "metadata": {
    "deletable": false,
    "editable": false,
    "nbgrader": {
     "grade": true,
     "grade_id": "Run LSI",
     "locked": true,
     "points": "60",
     "solution": false
    }
   },
   "outputs": [],
   "source": [
    "###\n",
    "### AUTOGRADER TEST - DO NOT REMOVE\n",
    "###\n"
   ]
  },
  {
   "cell_type": "code",
   "execution_count": null,
   "metadata": {},
   "outputs": [],
   "source": []
  }
 ],
 "metadata": {
  "kernelspec": {
   "display_name": "Python 3",
   "language": "python",
   "name": "python3"
  },
  "language_info": {
   "codemirror_mode": {
    "name": "ipython",
    "version": 3
   },
   "file_extension": ".py",
   "mimetype": "text/x-python",
   "name": "python",
   "nbconvert_exporter": "python",
   "pygments_lexer": "ipython3",
   "version": "3.7.3"
  }
 },
 "nbformat": 4,
 "nbformat_minor": 2
}
