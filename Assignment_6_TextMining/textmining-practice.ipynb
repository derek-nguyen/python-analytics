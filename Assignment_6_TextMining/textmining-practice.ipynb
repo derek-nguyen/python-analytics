{
 "cells": [
  {
   "cell_type": "markdown",
   "metadata": {
    "deletable": false,
    "editable": false,
    "nbgrader": {
     "grade": false,
     "locked": true,
     "solution": false
    }
   },
   "source": [
    "## There are some instructions you need to follow:\n",
    "<li> You only need to write your code in the comment area \"Your Code Here\".</li>\n",
    "<li>Do not upload your own file. Please make the necessary changes in the Jupyter notebook file already present in the server.</li>\n",
    "<li>Please note, there are several cells in the Assignment Jupyter notebook that are empty and read only. Do not attempt to remove them or   edit them. They are used in grading your notebook. Doing so might lead to 0 points.</li>"
   ]
  },
  {
   "cell_type": "code",
   "execution_count": 2,
   "metadata": {
    "deletable": false,
    "editable": false,
    "nbgrader": {
     "grade": false,
     "locked": true,
     "solution": false
    }
   },
   "outputs": [],
   "source": [
    "import nltk\n",
    "import os\n",
    "import _sqlite3\n",
    "from nltk.corpus import PlaintextCorpusReader\n",
    "from nltk import sent_tokenize,word_tokenize \n",
    "from gensim import corpora, models, similarities\n",
    "from gensim.models.ldamodel import LdaModel\n",
    "from gensim.parsing.preprocessing import STOPWORDS\n",
    "from gensim.similarities.docsim import Similarity"
   ]
  },
  {
   "cell_type": "markdown",
   "metadata": {
    "nbgrader": {
     "grade": false,
     "locked": false,
     "solution": false
    }
   },
   "source": [
    "# Question 1"
   ]
  },
  {
   "cell_type": "code",
   "execution_count": 5,
   "metadata": {},
   "outputs": [],
   "source": [
    "\"\"\"\n",
    "Question 1\n",
    "\n",
    "Write a function that takes the file name of the Wikipedia page containing all Greek ancient\n",
    "philosophers (saved as \"Index.html\" in your workspace) and returns a list tuples containing \n",
    "the name of the philosopher and the path to its individual article file.\n",
    "\n",
    "Example of use: get_philosophers(\"Index.html\")\n",
    "\n",
    "The output should be a list of tuples:\n",
    "\n",
    "[('Acrion', 'Philosophers/Acrion.html'),\n",
    " ('Adrastus of Aphrodisias', 'Philosophers/Adrastus of Aphrodisias.html'),\n",
    " ('Aedesia', 'Philosophers/Aedesia.html'),\n",
    " ('Aedesius', 'Philosophers/Aedesius.html'),\n",
    " ('Aeneas of Gaza', 'Philosophers/Aeneas of Gaza.html'),\n",
    " ('Aenesidemus', 'Philosophers/Aenesidemus.html'),\n",
    " ...]\n",
    " \n",
    "  \n",
    "NOTE: For processing speed purposes, the table in \"Index.html\" has been shortened compared\n",
    "to the one online on wikipedia.org. Do not worry if you do not find some philosophers in \n",
    "your results, this is made on purpose. \n",
    "\n",
    "\"\"\"\n",
    "\n",
    "def get_philosophers(filename):\n",
    "    \n",
    "    import codecs\n",
    "    from bs4 import BeautifulSoup\n",
    "    f = codecs.open(filename, 'r', 'utf-8')\n",
    "    soup = BeautifulSoup(f.read(),'lxml')\n",
    "    \n",
    "    philosopher_tuple_list = []\n",
    "    \n",
    "    tableRows = soup.find_all('table',class_='wikitable sortable')[0]\n",
    "    data_rows = tableRows.find_all('tr')[1:]\n",
    "    philosopher_name = [] #list containing each philosopher's name\n",
    "    for i in range(len(data_rows)):\n",
    "        # for each table data element from each table row\n",
    "        td = data_rows[i].find_all('td')[0].get_text().strip()\n",
    "        philosopher_name.append(td)\n",
    "\n",
    "    # adding path and filename at the end of philosopher's name\n",
    "    for name in philosopher_name:\n",
    "        x = name\n",
    "        y = name,\"Philosophers/\"+ x + '.html'\n",
    "        philosopher_tuple_list.append(y)\n",
    "    return philosopher_tuple_list\n",
    "\n",
    "# Once done, try this:\n",
    "filenames = get_philosophers(\"Index.html\")\n",
    "# filenames"
   ]
  },
  {
   "cell_type": "markdown",
   "metadata": {},
   "source": [
    "# Question 1: Non-Function"
   ]
  },
  {
   "cell_type": "code",
   "execution_count": 6,
   "metadata": {
    "scrolled": false
   },
   "outputs": [
    {
     "data": {
      "text/plain": [
       "[('Acrion', 'Philosophers/Acrion.html'),\n",
       " ('Adrastus of Aphrodisias', 'Philosophers/Adrastus of Aphrodisias.html'),\n",
       " ('Aedesia', 'Philosophers/Aedesia.html'),\n",
       " ('Aedesius', 'Philosophers/Aedesius.html'),\n",
       " ('Aeneas of Gaza', 'Philosophers/Aeneas of Gaza.html'),\n",
       " ('Aenesidemus', 'Philosophers/Aenesidemus.html'),\n",
       " ('Aesara', 'Philosophers/Aesara.html'),\n",
       " ('Aeschines of Neapolis', 'Philosophers/Aeschines of Neapolis.html'),\n",
       " ('Aeschines of Sphettus', 'Philosophers/Aeschines of Sphettus.html'),\n",
       " ('Aetius', 'Philosophers/Aetius.html'),\n",
       " ('Agapius', 'Philosophers/Agapius.html'),\n",
       " ('Agathobulus', 'Philosophers/Agathobulus.html'),\n",
       " ('Agathosthenes', 'Philosophers/Agathosthenes.html'),\n",
       " ('Agrippa the Skeptic', 'Philosophers/Agrippa the Skeptic.html'),\n",
       " ('Albinus', 'Philosophers/Albinus.html'),\n",
       " ('Alcinous', 'Philosophers/Alcinous.html'),\n",
       " ('Alcmaeon of Croton', 'Philosophers/Alcmaeon of Croton.html'),\n",
       " ('Alexamenus of Teos', 'Philosophers/Alexamenus of Teos.html'),\n",
       " ('Alexander of Aegae', 'Philosophers/Alexander of Aegae.html'),\n",
       " ('Alexander of Aphrodisias', 'Philosophers/Alexander of Aphrodisias.html'),\n",
       " ('Alexicrates', 'Philosophers/Alexicrates.html'),\n",
       " ('Alexinus', 'Philosophers/Alexinus.html'),\n",
       " ('Amelius', 'Philosophers/Amelius.html'),\n",
       " ('Ammonius Hermiae', 'Philosophers/Ammonius Hermiae.html'),\n",
       " ('Ammonius of Athens', 'Philosophers/Ammonius of Athens.html'),\n",
       " ('Ammonius Saccas', 'Philosophers/Ammonius Saccas.html'),\n",
       " ('Anaxagoras', 'Philosophers/Anaxagoras.html'),\n",
       " ('Anaxarchus', 'Philosophers/Anaxarchus.html'),\n",
       " ('Anaxilaus', 'Philosophers/Anaxilaus.html'),\n",
       " ('Anaximander', 'Philosophers/Anaximander.html'),\n",
       " ('Anaximenes of Miletus', 'Philosophers/Anaximenes of Miletus.html'),\n",
       " ('Androcydes', 'Philosophers/Androcydes.html'),\n",
       " ('Andronicus of Rhodes', 'Philosophers/Andronicus of Rhodes.html'),\n",
       " ('Anniceris', 'Philosophers/Anniceris.html'),\n",
       " ('Antiochus of Ascalon', 'Philosophers/Antiochus of Ascalon.html'),\n",
       " ('Antipater of Cyrene', 'Philosophers/Antipater of Cyrene.html'),\n",
       " ('Antipater of Tarsus', 'Philosophers/Antipater of Tarsus.html'),\n",
       " ('Antipater of Tyre', 'Philosophers/Antipater of Tyre.html'),\n",
       " ('Antisthenes', 'Philosophers/Antisthenes.html'),\n",
       " ('Antoninus', 'Philosophers/Antoninus.html'),\n",
       " ('Apollodorus of Athens', 'Philosophers/Apollodorus of Athens.html'),\n",
       " ('Apollodorus of Seleucia', 'Philosophers/Apollodorus of Seleucia.html'),\n",
       " ('Apollodorus the Epicurean', 'Philosophers/Apollodorus the Epicurean.html'),\n",
       " ('Apollonius Cronus', 'Philosophers/Apollonius Cronus.html'),\n",
       " ('Apollonius of Tyana', 'Philosophers/Apollonius of Tyana.html'),\n",
       " ('Apollonius of Tyre', 'Philosophers/Apollonius of Tyre.html'),\n",
       " ('Arcesilaus', 'Philosophers/Arcesilaus.html'),\n",
       " ('Archedemus of Tarsus', 'Philosophers/Archedemus of Tarsus.html'),\n",
       " ('Archelaus', 'Philosophers/Archelaus.html'),\n",
       " ('Archytas', 'Philosophers/Archytas.html'),\n",
       " ('Arete of Cyrene', 'Philosophers/Arete of Cyrene.html'),\n",
       " ('Arignote', 'Philosophers/Arignote.html'),\n",
       " ('Aristarchus of Samos', 'Philosophers/Aristarchus of Samos.html'),\n",
       " ('Aristippus', 'Philosophers/Aristippus.html'),\n",
       " ('Aristippus the Younger', 'Philosophers/Aristippus the Younger.html'),\n",
       " ('Aristoclea', 'Philosophers/Aristoclea.html'),\n",
       " ('Aristocles of Messene', 'Philosophers/Aristocles of Messene.html'),\n",
       " ('Aristocreon', 'Philosophers/Aristocreon.html'),\n",
       " ('Aristo of Alexandria', 'Philosophers/Aristo of Alexandria.html'),\n",
       " ('Aristo of Ceos', 'Philosophers/Aristo of Ceos.html'),\n",
       " ('Aristo of Chios', 'Philosophers/Aristo of Chios.html'),\n",
       " ('Aristotle', 'Philosophers/Aristotle.html'),\n",
       " ('Aristotle of Cyrene', 'Philosophers/Aristotle of Cyrene.html'),\n",
       " ('Aristotle of Mytilene', 'Philosophers/Aristotle of Mytilene.html'),\n",
       " ('Aristoxenus', 'Philosophers/Aristoxenus.html'),\n",
       " ('Arius Didymus', 'Philosophers/Arius Didymus.html'),\n",
       " ('Asclepiades of Phlius', 'Philosophers/Asclepiades of Phlius.html'),\n",
       " ('Asclepiades the Cynic', 'Philosophers/Asclepiades the Cynic.html'),\n",
       " ('Asclepigenia', 'Philosophers/Asclepigenia.html'),\n",
       " ('Asclepiodotus', 'Philosophers/Asclepiodotus.html'),\n",
       " ('Asclepiodotus of Alexandria',\n",
       "  'Philosophers/Asclepiodotus of Alexandria.html'),\n",
       " ('Aspasius', 'Philosophers/Aspasius.html'),\n",
       " ('Athenaeus of Seleucia', 'Philosophers/Athenaeus of Seleucia.html'),\n",
       " ('Athenodoros Cananites', 'Philosophers/Athenodoros Cananites.html'),\n",
       " ('Athenodoros Cordylion', 'Philosophers/Athenodoros Cordylion.html'),\n",
       " ('Athenodorus of Soli', 'Philosophers/Athenodorus of Soli.html'),\n",
       " ('Attalus', 'Philosophers/Attalus.html'),\n",
       " ('Atticus', 'Philosophers/Atticus.html'),\n",
       " ('Basilides (Stoic)', 'Philosophers/Basilides (Stoic).html'),\n",
       " ('Tisias', 'Philosophers/Tisias.html'),\n",
       " ('Xenarchus of Seleucia', 'Philosophers/Xenarchus of Seleucia.html'),\n",
       " ('Xeniades', 'Philosophers/Xeniades.html'),\n",
       " ('Xenocrates', 'Philosophers/Xenocrates.html'),\n",
       " ('Xenophanes of Colophon', 'Philosophers/Xenophanes of Colophon.html'),\n",
       " ('Xenophilus', 'Philosophers/Xenophilus.html'),\n",
       " ('Xenophon', 'Philosophers/Xenophon.html'),\n",
       " ('Zenobius', 'Philosophers/Zenobius.html'),\n",
       " ('Zenodotus', 'Philosophers/Zenodotus.html'),\n",
       " ('Zeno of Citium', 'Philosophers/Zeno of Citium.html'),\n",
       " ('Zeno of Elea', 'Philosophers/Zeno of Elea.html'),\n",
       " ('Zeno of Sidon', 'Philosophers/Zeno of Sidon.html'),\n",
       " ('Zeno of Tarsus', 'Philosophers/Zeno of Tarsus.html')]"
      ]
     },
     "execution_count": 6,
     "metadata": {},
     "output_type": "execute_result"
    }
   ],
   "source": [
    "# author name should be pulled from the title tag\n",
    "\n",
    "import codecs\n",
    "from bs4 import BeautifulSoup\n",
    "f = codecs.open(\"Index.html\", 'r', 'utf-8')\n",
    "soup = BeautifulSoup(f.read(),'lxml')\n",
    "\n",
    "# reference: http://savvastjortjoglou.com/nba-draft-part01-scraping.html\n",
    "# tuples of philosopher name w/ path \n",
    "philosopher_tuple_list = []\n",
    "\n",
    "# creates list of philosopher name\n",
    "tableRows = soup.find_all('table',class_='wikitable sortable')[0]\n",
    "data_rows = tableRows.find_all('tr')[1:]\n",
    "philosopher_name = [] #list containing each philosopher's name\n",
    "for i in range(len(data_rows)):\n",
    "    # for each table data element from each table row\n",
    "    td = data_rows[i].find_all('td')[0].get_text().strip()\n",
    "    philosopher_name.append(td)\n",
    "\n",
    "# adding path and filename at the end of philosopher's name\n",
    "for name in philosopher_name:\n",
    "    x = name\n",
    "    y = name,\"Philosophers/\"+ x + '.html'\n",
    "    philosopher_tuple_list.append(y)\n",
    "    \n",
    "    \n",
    "philosopher_tuple_list\n",
    "    "
   ]
  },
  {
   "cell_type": "markdown",
   "metadata": {
    "deletable": false,
    "editable": false,
    "nbgrader": {
     "grade": false,
     "locked": true,
     "solution": false
    }
   },
   "source": [
    "# Question 2"
   ]
  },
  {
   "cell_type": "code",
   "execution_count": 8,
   "metadata": {},
   "outputs": [],
   "source": [
    "\"\"\"\n",
    "Question 2\n",
    "\n",
    "\n",
    "Write a function that scrapes the text on a philosophers’s page and returns it as a text \n",
    "string. The input is the name of the file that contains the philosoph's page.\n",
    "\n",
    "Example of use: get_text('Philosophers/Acrion.html')\n",
    "should output the text of the page.\n",
    "'Acrion was a Locrian and a Pythagorean philosopher...'\n",
    "\"\"\"\n",
    "\n",
    "def get_text(file):\n",
    "    return\n",
    "    ###\n",
    "    ### YOUR CODE HERE\n",
    "    ###\n",
    "\n",
    "# Once done, try this:\n",
    "get_text(\"Philosophers/Acrion.html\")"
   ]
  },
  {
   "cell_type": "markdown",
   "metadata": {},
   "source": [
    "# Question 2: Non-Function"
   ]
  },
  {
   "cell_type": "code",
   "execution_count": 32,
   "metadata": {
    "scrolled": true
   },
   "outputs": [
    {
     "ename": "FileNotFoundError",
     "evalue": "[Errno 2] No such file or directory: 'Philosophers/Aetius.html'",
     "output_type": "error",
     "traceback": [
      "\u001b[0;31m---------------------------------------------------------------------------\u001b[0m",
      "\u001b[0;31mFileNotFoundError\u001b[0m                         Traceback (most recent call last)",
      "\u001b[0;32m<ipython-input-32-989995a041c5>\u001b[0m in \u001b[0;36m<module>\u001b[0;34m\u001b[0m\n\u001b[1;32m     13\u001b[0m     \u001b[0;32mimport\u001b[0m \u001b[0mcodecs\u001b[0m\u001b[0;34m\u001b[0m\u001b[0;34m\u001b[0m\u001b[0m\n\u001b[1;32m     14\u001b[0m     \u001b[0;32mfrom\u001b[0m \u001b[0mbs4\u001b[0m \u001b[0;32mimport\u001b[0m \u001b[0mBeautifulSoup\u001b[0m\u001b[0;34m\u001b[0m\u001b[0;34m\u001b[0m\u001b[0m\n\u001b[0;32m---> 15\u001b[0;31m     \u001b[0mfilepath\u001b[0m \u001b[0;34m=\u001b[0m \u001b[0mcodecs\u001b[0m\u001b[0;34m.\u001b[0m\u001b[0mopen\u001b[0m\u001b[0;34m(\u001b[0m\u001b[0mphilosopher_filepath\u001b[0m\u001b[0;34m,\u001b[0m \u001b[0;34m'r'\u001b[0m\u001b[0;34m,\u001b[0m \u001b[0;34m'utf-8'\u001b[0m\u001b[0;34m)\u001b[0m\u001b[0;34m\u001b[0m\u001b[0;34m\u001b[0m\u001b[0m\n\u001b[0m\u001b[1;32m     16\u001b[0m     \u001b[0mpage_soup\u001b[0m \u001b[0;34m=\u001b[0m \u001b[0mBeautifulSoup\u001b[0m\u001b[0;34m(\u001b[0m\u001b[0mfilepath\u001b[0m\u001b[0;34m.\u001b[0m\u001b[0mread\u001b[0m\u001b[0;34m(\u001b[0m\u001b[0;34m)\u001b[0m\u001b[0;34m,\u001b[0m\u001b[0;34m'lxml'\u001b[0m\u001b[0;34m)\u001b[0m\u001b[0;34m\u001b[0m\u001b[0;34m\u001b[0m\u001b[0m\n\u001b[1;32m     17\u001b[0m \u001b[0;34m\u001b[0m\u001b[0m\n",
      "\u001b[0;32m~/anaconda3/lib/python3.7/codecs.py\u001b[0m in \u001b[0;36mopen\u001b[0;34m(filename, mode, encoding, errors, buffering)\u001b[0m\n\u001b[1;32m    896\u001b[0m         \u001b[0;31m# Force opening of the file in binary mode\u001b[0m\u001b[0;34m\u001b[0m\u001b[0;34m\u001b[0m\u001b[0;34m\u001b[0m\u001b[0m\n\u001b[1;32m    897\u001b[0m         \u001b[0mmode\u001b[0m \u001b[0;34m=\u001b[0m \u001b[0mmode\u001b[0m \u001b[0;34m+\u001b[0m \u001b[0;34m'b'\u001b[0m\u001b[0;34m\u001b[0m\u001b[0;34m\u001b[0m\u001b[0m\n\u001b[0;32m--> 898\u001b[0;31m     \u001b[0mfile\u001b[0m \u001b[0;34m=\u001b[0m \u001b[0mbuiltins\u001b[0m\u001b[0;34m.\u001b[0m\u001b[0mopen\u001b[0m\u001b[0;34m(\u001b[0m\u001b[0mfilename\u001b[0m\u001b[0;34m,\u001b[0m \u001b[0mmode\u001b[0m\u001b[0;34m,\u001b[0m \u001b[0mbuffering\u001b[0m\u001b[0;34m)\u001b[0m\u001b[0;34m\u001b[0m\u001b[0;34m\u001b[0m\u001b[0m\n\u001b[0m\u001b[1;32m    899\u001b[0m     \u001b[0;32mif\u001b[0m \u001b[0mencoding\u001b[0m \u001b[0;32mis\u001b[0m \u001b[0;32mNone\u001b[0m\u001b[0;34m:\u001b[0m\u001b[0;34m\u001b[0m\u001b[0;34m\u001b[0m\u001b[0m\n\u001b[1;32m    900\u001b[0m         \u001b[0;32mreturn\u001b[0m \u001b[0mfile\u001b[0m\u001b[0;34m\u001b[0m\u001b[0;34m\u001b[0m\u001b[0m\n",
      "\u001b[0;31mFileNotFoundError\u001b[0m: [Errno 2] No such file or directory: 'Philosophers/Aetius.html'"
     ]
    }
   ],
   "source": [
    "\n",
    "filename = \"Philosophers/Acrion.html\"\n",
    "\n",
    "import codecs\n",
    "from bs4 import BeautifulSoup\n",
    "f = codecs.open(filename, 'r', 'utf-8')\n",
    "page_soup = BeautifulSoup(f.read(),'lxml')\n",
    "\n",
    "all_text = \"\"\n",
    "\n",
    "# takes the 2nd index from list philosopher_tupele_list\n",
    "for philosopher_filepath in philosopher_tuple_list:\n",
    "    philosopher_filepath = philosopher_filepath[1]\n",
    "    \n",
    "    import codecs\n",
    "    from bs4 import BeautifulSoup\n",
    "    filepath = codecs.open(philosopher_filepath, 'r', 'utf-8')\n",
    "    page_soup = BeautifulSoup(filepath.read(),'lxml')\n",
    "\n",
    "    for tag in page_soup.find_all('p'):\n",
    "        all_text += tag.get_text()\n",
    "# all_text"
   ]
  },
  {
   "cell_type": "code",
   "execution_count": 53,
   "metadata": {},
   "outputs": [
    {
     "name": "stdout",
     "output_type": "stream",
     "text": [
      "[<a href=\"/wiki/Acrion\" title=\"Acrion\">Acrion</a>, <a href=\"/wiki/Pythagoreanism\" title=\"Pythagoreanism\">Pythagorean</a>, <a href=\"/wiki/Plato\" title=\"Plato\">Plato</a>, <a href=\"/wiki/Adrastus_of_Aphrodisias\" title=\"Adrastus of Aphrodisias\">Adrastus of Aphrodisias</a>, <a href=\"/wiki/Peripatetic_school\" title=\"Peripatetic school\">Peripatetic</a>, <a href=\"/wiki/Corpus_Aristotelicum\" title=\"Corpus Aristotelicum\">Aristotle's works</a>, <a href=\"/wiki/Timaeus_(dialogue)\" title=\"Timaeus (dialogue)\">Plato's Timaeus</a>, <a href=\"/wiki/Aedesia\" title=\"Aedesia\">Aedesia</a>, <a class=\"mw-redirect\" href=\"/wiki/Neoplatonic\" title=\"Neoplatonic\">Neoplatonic</a>, <a href=\"/wiki/Hermias_(philosopher)\" title=\"Hermias (philosopher)\">Hermias</a>, <a href=\"/wiki/Ammonius_Hermiae\" title=\"Ammonius Hermiae\">Ammonius</a>, <a href=\"/wiki/Heliodorus_of_Alexandria\" title=\"Heliodorus of Alexandria\">Heliodorus</a>, <a href=\"/wiki/Aedesius\" title=\"Aedesius\">Aedesius</a>, <a class=\"mw-redirect\" href=\"/wiki/Neoplatonic\" title=\"Neoplatonic\">Neoplatonic</a>, <a href=\"/wiki/Iamblichus\" title=\"Iamblichus\">Iamblichus</a>, <a class=\"mw-redirect\" href=\"/wiki/Pergamum\" title=\"Pergamum\">Pergamum</a>, <a href=\"/wiki/Aeneas_of_Gaza\" title=\"Aeneas of Gaza\">Aeneas of Gaza</a>, <a class=\"mw-redirect\" href=\"/wiki/Neoplatonic\" title=\"Neoplatonic\">Neoplatonic</a>, <a href=\"/wiki/Hierocles_of_Alexandria\" title=\"Hierocles of Alexandria\">Hierocles</a>, <a href=\"/wiki/Aenesidemus\" title=\"Aenesidemus\">Aenesidemus</a>, <a class=\"mw-redirect\" href=\"/wiki/Pyrrhonist\" title=\"Pyrrhonist\">Pyrrhonist</a>, <a href=\"/wiki/Aesara\" title=\"Aesara\">Aesara</a>, <a href=\"/wiki/Pythagoreanism\" title=\"Pythagoreanism\">Pythagorean</a>, <a href=\"/wiki/Aeschines_of_Neapolis\" title=\"Aeschines of Neapolis\">Aeschines of Neapolis</a>, <a class=\"mw-redirect\" href=\"/wiki/Academic_skeptic\" title=\"Academic skeptic\">Academic skeptic</a>, <a href=\"/wiki/Aeschines_of_Sphettus\" title=\"Aeschines of Sphettus\">Aeschines of Sphettus</a>, <a href=\"/wiki/Socratic_method\" title=\"Socratic method\">Socratic</a>, <a href=\"/wiki/A%C3%ABtius_of_Antioch\" title=\"Aetius of Antioch\">Aetius</a>, <a href=\"/wiki/Peripatetic_school\" title=\"Peripatetic school\">Peripatetic</a>, <a href=\"/wiki/Agapius_(philosopher)\" title=\"Agapius (philosopher)\">Agapius</a>, <a class=\"mw-redirect\" href=\"/wiki/Neoplatonic\" title=\"Neoplatonic\">Neoplatonic</a>, <a href=\"/wiki/Marinus_of_Neapolis\" title=\"Marinus of Neapolis\">Marinus of Neapolis</a>, <a href=\"/wiki/Agathobulus\" title=\"Agathobulus\">Agathobulus</a>, <a href=\"/wiki/Cynicism_(philosophy)\" title=\"Cynicism (philosophy)\">Cynicism</a>, <a href=\"/wiki/Asceticism\" title=\"Asceticism\">asceticism</a>, <a href=\"/wiki/Demonax\" title=\"Demonax\">Demonax</a>, <a href=\"/wiki/Agathosthenes\" title=\"Agathosthenes\">Agathosthenes</a>, <a href=\"/wiki/Agrippa_the_Skeptic\" title=\"Agrippa the Skeptic\">Agrippa the Skeptic</a>, <a class=\"mw-redirect\" href=\"/wiki/Pyrrhonist\" title=\"Pyrrhonist\">Pyrrhonist</a>, <a href=\"/wiki/Albinus_(philosopher)\" title=\"Albinus (philosopher)\">Albinus</a>, <a class=\"mw-redirect\" href=\"/wiki/Middle_Platonist\" title=\"Middle Platonist\">Middle Platonist</a>, <a href=\"/wiki/Alcinous_(philosopher)\" title=\"Alcinous (philosopher)\">Alcinous</a>, <a class=\"mw-redirect\" href=\"/wiki/Middle_Platonist\" title=\"Middle Platonist\">Middle Platonist</a>, <a href=\"/wiki/Alcmaeon_of_Croton\" title=\"Alcmaeon of Croton\">Alcmaeon of Croton</a>, <a href=\"/wiki/Pythagoreanism\" title=\"Pythagoreanism\">Pythagorean</a>, <a href=\"/wiki/Alexamenus_of_Teos\" title=\"Alexamenus of Teos\">Alexamenus of Teos</a>, <a href=\"/wiki/Socratic_method\" title=\"Socratic method\">Socratic</a>, <a href=\"/wiki/Alexander_of_Aegae\" title=\"Alexander of Aegae\">Alexander of Aegae</a>, <a href=\"/wiki/Peripatetic_school\" title=\"Peripatetic school\">Peripatetic school</a>, <a href=\"/wiki/Nero\" title=\"Nero\">Nero</a>, <a href=\"/wiki/Alexander_of_Aphrodisias\" title=\"Alexander of Aphrodisias\">Alexander of Aphrodisias</a>, <a href=\"/wiki/Peripatetic_school\" title=\"Peripatetic school\">Peripatetic school</a>, <a href=\"/wiki/Corpus_Aristotelicum\" title=\"Corpus Aristotelicum\">Corpus Aristotelicum</a>, <a href=\"/wiki/Alexicrates\" title=\"Alexicrates\">Alexicrates</a>, <a href=\"/wiki/Pythagoreanism\" title=\"Pythagoreanism\">Pythagorean</a>, <a href=\"/wiki/Alexinus\" title=\"Alexinus\">Alexinus</a>, <a href=\"/wiki/Megarian_school\" title=\"Megarian school\">Megarian</a>, <a href=\"/wiki/Amelius\" title=\"Amelius\">Amelius</a>, <a class=\"mw-redirect\" href=\"/wiki/Neoplatonic\" title=\"Neoplatonic\">Neoplatonic</a>, <a href=\"/wiki/Plotinus\" title=\"Plotinus\">Plotinus</a>, <a href=\"/wiki/Ammonius_Hermiae\" title=\"Ammonius Hermiae\">Ammonius Hermiae</a>, <a class=\"mw-redirect\" href=\"/wiki/Neoplatonic\" title=\"Neoplatonic\">Neoplatonic</a>, <a href=\"/wiki/Ammonius_of_Athens\" title=\"Ammonius of Athens\">Ammonius of Athens</a>, <a class=\"mw-redirect\" href=\"/wiki/Middle_Platonist\" title=\"Middle Platonist\">Middle Platonist</a>, <a href=\"/wiki/Plutarch\" title=\"Plutarch\">Plutarch</a>, <a href=\"/wiki/Ammonius_Saccas\" title=\"Ammonius Saccas\">Ammonius Saccas</a>, <a class=\"mw-redirect\" href=\"/wiki/Neoplatonic\" title=\"Neoplatonic\">Neoplatonic</a>, <a href=\"/wiki/Plotinus\" title=\"Plotinus\">Plotinus</a>, <a href=\"/wiki/Anaxagoras\" title=\"Anaxagoras\">Anaxagoras</a>, <a href=\"/wiki/Pluralist_school\" title=\"Pluralist school\">Pluralist</a>, <a href=\"/wiki/Anaxarchus\" title=\"Anaxarchus\">Anaxarchus</a>, <a href=\"/wiki/Atomism\" title=\"Atomism\">Atomist</a>, <a href=\"/wiki/Anaxilaus\" title=\"Anaxilaus\">Anaxilaus</a>, <a href=\"/wiki/Pythagoreanism\" title=\"Pythagoreanism\">Pythagorean</a>, <a href=\"/wiki/Anaximander\" title=\"Anaximander\">Anaximander</a>, <a href=\"/wiki/Milesian_school\" title=\"Milesian school\">Milesian</a>, <a href=\"/wiki/Anaximenes_of_Miletus\" title=\"Anaximenes of Miletus\">Anaximenes of Miletus</a>, <a href=\"/wiki/Milesian_school\" title=\"Milesian school\">Milesian</a>, <a href=\"/wiki/Androcydes_(Pythagorean)\" title=\"Androcydes (Pythagorean)\">Androcydes</a>, <a href=\"/wiki/Pythagoreanism\" title=\"Pythagoreanism\">Pythagorean</a>, <a href=\"/wiki/Andronicus_of_Rhodes\" title=\"Andronicus of Rhodes\">Andronicus of Rhodes</a>, <a href=\"/wiki/Peripatetic_school\" title=\"Peripatetic school\">Peripatetic</a>, <a href=\"/wiki/Anniceris\" title=\"Anniceris\">Anniceris</a>, <a href=\"/wiki/Cyrenaics\" title=\"Cyrenaics\">Cyrenaic</a>, <a href=\"/wiki/Antiochus_of_Ascalon\" title=\"Antiochus of Ascalon\">Antiochus of Ascalon</a>, <a class=\"mw-redirect\" href=\"/wiki/Middle_Platonist\" title=\"Middle Platonist\">Middle Platonist</a>, <a href=\"/wiki/Antipater_of_Cyrene\" title=\"Antipater of Cyrene\">Antipater of Cyrene</a>, <a href=\"/wiki/Cyrenaics\" title=\"Cyrenaics\">Cyrenaic</a>, <a href=\"/wiki/Antipater_of_Tarsus\" title=\"Antipater of Tarsus\">Antipater of Tarsus</a>, <a href=\"/wiki/Stoicism\" title=\"Stoicism\">Stoic</a>, <a href=\"/wiki/Antipater_of_Tyre\" title=\"Antipater of Tyre\">Antipater of Tyre</a>, <a href=\"/wiki/Stoicism\" title=\"Stoicism\">Stoic</a>, <a href=\"/wiki/Antisthenes\" title=\"Antisthenes\">Antisthenes</a>, <a href=\"/wiki/Cynicism_(philosophy)\" title=\"Cynicism (philosophy)\">Cynic</a>, <a href=\"/wiki/Antoninus_(philosopher)\" title=\"Antoninus (philosopher)\">Antoninus</a>, <a class=\"mw-redirect\" href=\"/wiki/Neoplatonic\" title=\"Neoplatonic\">Neoplatonic</a>, <a href=\"/wiki/Apollodorus_of_Athens\" title=\"Apollodorus of Athens\">Apollodorus of Athens</a>, <a href=\"/wiki/Stoicism\" title=\"Stoicism\">Stoic</a>, <a href=\"/wiki/Apollodorus_of_Seleucia\" title=\"Apollodorus of Seleucia\">Apollodorus of Seleucia</a>, <a href=\"/wiki/Stoicism\" title=\"Stoicism\">Stoic</a>, <a href=\"/wiki/Apollodorus_the_Epicurean\" title=\"Apollodorus the Epicurean\">Apollodorus the Epicurean</a>, <a class=\"mw-redirect\" href=\"/wiki/Epicurean\" title=\"Epicurean\">Epicurean</a>, <a href=\"/wiki/Apollonius_Cronus\" title=\"Apollonius Cronus\">Apollonius Cronus</a>, <a href=\"/wiki/Megarian_school\" title=\"Megarian school\">Megarian</a>, <a href=\"/wiki/Apollonius_of_Tyana\" title=\"Apollonius of Tyana\">Apollonius of Tyana</a>, <a class=\"mw-redirect\" href=\"/wiki/Neopythagorean\" title=\"Neopythagorean\">Neopythagorean</a>, <a href=\"/wiki/Apollonius_of_Tyre_(philosopher)\" title=\"Apollonius of Tyre (philosopher)\">Apollonius of Tyre</a>, <a href=\"/wiki/Stoicism\" title=\"Stoicism\">Stoic</a>, <a href=\"/wiki/Arcesilaus\" title=\"Arcesilaus\">Arcesilaus</a>, <a class=\"mw-redirect\" href=\"/wiki/Academic_skeptic\" title=\"Academic skeptic\">Academic skeptic</a>, <a href=\"/wiki/Archedemus_of_Tarsus\" title=\"Archedemus of Tarsus\">Archedemus of Tarsus</a>, <a href=\"/wiki/Stoicism\" title=\"Stoicism\">Stoic</a>, <a href=\"/wiki/Archelaus_(philosopher)\" title=\"Archelaus (philosopher)\">Archelaus</a>, <a href=\"/wiki/Pluralist_school\" title=\"Pluralist school\">Pluralist</a>, <a href=\"/wiki/Archytas\" title=\"Archytas\">Archytas</a>, <a href=\"/wiki/Pythagoreanism\" title=\"Pythagoreanism\">Pythagorean</a>, <a href=\"/wiki/Arete_of_Cyrene\" title=\"Arete of Cyrene\">Arete of Cyrene</a>, <a href=\"/wiki/Cyrenaics\" title=\"Cyrenaics\">Cyrenaic</a>, <a href=\"/wiki/Arignote\" title=\"Arignote\">Arignote</a>, <a href=\"/wiki/Pythagoreanism\" title=\"Pythagoreanism\">Pythagorean</a>, <a href=\"/wiki/Aristarchus_of_Samos\" title=\"Aristarchus of Samos\">Aristarchus of Samos</a>, <a class=\"mw-redirect\" href=\"/wiki/Academic_skeptic\" title=\"Academic skeptic\">Academic skeptic</a>, <a href=\"/wiki/Aristippus\" title=\"Aristippus\">Aristippus</a>, <a href=\"/wiki/Cyrenaics\" title=\"Cyrenaics\">Cyrenaic</a>, <a href=\"/wiki/Aristippus_the_Younger\" title=\"Aristippus the Younger\">Aristippus the Younger</a>, <a href=\"/wiki/Cyrenaics\" title=\"Cyrenaics\">Cyrenaic</a>, <a class=\"mw-redirect\" href=\"/wiki/Aristoclea\" title=\"Aristoclea\">Aristoclea</a>, <a href=\"/wiki/Aristocles_of_Messene\" title=\"Aristocles of Messene\">Aristocles of Messene</a>, <a href=\"/wiki/Peripatetic_school\" title=\"Peripatetic school\">Peripatetic</a>, <a href=\"/wiki/Aristocreon\" title=\"Aristocreon\">Aristocreon</a>, <a href=\"/wiki/Stoicism\" title=\"Stoicism\">Stoic</a>, <a href=\"/wiki/Aristo_of_Alexandria\" title=\"Aristo of Alexandria\">Aristo of Alexandria</a>, <a href=\"/wiki/Peripatetic_school\" title=\"Peripatetic school\">Peripatetic</a>, <a href=\"/wiki/Aristo_of_Ceos\" title=\"Aristo of Ceos\">Aristo of Ceos</a>, <a href=\"/wiki/Peripatetic_school\" title=\"Peripatetic school\">Peripatetic</a>, <a href=\"/wiki/Aristo_of_Chios\" title=\"Aristo of Chios\">Aristo of Chios</a>, <a href=\"/wiki/Stoicism\" title=\"Stoicism\">Stoic</a>, <a href=\"/wiki/Aristotle\" title=\"Aristotle\">Aristotle</a>, <a href=\"/wiki/Peripatetic_school\" title=\"Peripatetic school\">Peripatetic</a>, <a href=\"/wiki/Aristotle_of_Cyrene\" title=\"Aristotle of Cyrene\">Aristotle of Cyrene</a>, <a href=\"/wiki/Cyrenaics\" title=\"Cyrenaics\">Cyrenaic</a>, <a href=\"/wiki/Aristotle_of_Mytilene\" title=\"Aristotle of Mytilene\">Aristotle of Mytilene</a>, <a href=\"/wiki/Peripatetic_school\" title=\"Peripatetic school\">Peripatetic</a>, <a href=\"/wiki/Aristoxenus\" title=\"Aristoxenus\">Aristoxenus</a>, <a href=\"/wiki/Peripatetic_school\" title=\"Peripatetic school\">Peripatetic</a>, <a href=\"/wiki/Arius_Didymus\" title=\"Arius Didymus\">Arius Didymus</a>, <a href=\"/wiki/Stoicism\" title=\"Stoicism\">Stoic</a>, <a href=\"/wiki/Asclepiades_of_Phlius\" title=\"Asclepiades of Phlius\">Asclepiades of Phlius</a>, <a href=\"/wiki/Eretrian_school\" title=\"Eretrian school\">Eretrian</a>, <a href=\"/wiki/Asclepiades_the_Cynic\" title=\"Asclepiades the Cynic\">Asclepiades the Cynic</a>, <a href=\"/wiki/Cynicism_(philosophy)\" title=\"Cynicism (philosophy)\">Cynicism</a>, <a href=\"/wiki/Asclepigenia\" title=\"Asclepigenia\">Asclepigenia</a>, <a class=\"mw-redirect\" href=\"/wiki/Neoplatonic\" title=\"Neoplatonic\">Neoplatonic</a>, <a href=\"/wiki/Asclepiodotus_(philosopher)\" title=\"Asclepiodotus (philosopher)\">Asclepiodotus</a>, <a href=\"/wiki/Asclepiodotus_of_Alexandria\" title=\"Asclepiodotus of Alexandria\">Asclepiodotus of Alexandria</a>, <a class=\"mw-redirect\" href=\"/wiki/Neoplatonic\" title=\"Neoplatonic\">Neoplatonic</a>, <a href=\"/wiki/Aspasius\" title=\"Aspasius\">Aspasius</a>, <a href=\"/wiki/Peripatetic_school\" title=\"Peripatetic school\">Peripatetic</a>, <a class=\"mw-redirect\" href=\"/wiki/Athenaeus_of_Seleucia\" title=\"Athenaeus of Seleucia\">Athenaeus of Seleucia</a>, <a href=\"/wiki/Peripatetic_school\" title=\"Peripatetic school\">Peripatetic</a>, <a class=\"mw-redirect\" href=\"/wiki/Athenodoros_Cananites\" title=\"Athenodoros Cananites\">Athenodoros Cananites</a>, <a href=\"/wiki/Stoicism\" title=\"Stoicism\">Stoic</a>, <a href=\"/wiki/Athenodoros_Cordylion\" title=\"Athenodoros Cordylion\">Athenodoros Cordylion</a>, <a href=\"/wiki/Stoicism\" title=\"Stoicism\">Stoic</a>, <a href=\"/wiki/Athenodorus_of_Soli\" title=\"Athenodorus of Soli\">Athenodorus of Soli</a>, <a href=\"/wiki/Stoicism\" title=\"Stoicism\">Stoic</a>, <a href=\"/wiki/Attalus_(Stoic)\" title=\"Attalus (Stoic)\">Attalus</a>, <a href=\"/wiki/Stoicism\" title=\"Stoicism\">Stoic</a>, <a href=\"/wiki/Atticus_(philosopher)\" title=\"Atticus (philosopher)\">Atticus</a>, <a class=\"mw-redirect\" href=\"/wiki/Middle_Platonist\" title=\"Middle Platonist\">Middle Platonist</a>, <a href=\"/wiki/Basilides_(Stoic)\" title=\"Basilides (Stoic)\">Basilides (Stoic)</a>, <a href=\"/wiki/Stoicism\" title=\"Stoicism\">Stoic</a>, <a href=\"/wiki/Tisias\" title=\"Tisias\">Tisias</a>, <a href=\"/wiki/Sophist\" title=\"Sophist\">Sophist</a>, <a href=\"/wiki/Xenarchus_of_Seleucia\" title=\"Xenarchus of Seleucia\">Xenarchus of Seleucia</a>, <a href=\"/wiki/Peripatetic_school\" title=\"Peripatetic school\">Peripatetic</a>, <a href=\"/wiki/Xeniades\" title=\"Xeniades\">Xeniades</a>, <a class=\"mw-redirect\" href=\"/wiki/Pyrrhonist\" title=\"Pyrrhonist\">Pyrrhonist</a>, <a href=\"/wiki/Xenocrates\" title=\"Xenocrates\">Xenocrates</a>, <a href=\"/wiki/Platonic_Academy\" title=\"Platonic Academy\">Academic</a>, <a href=\"/wiki/Xenophanes\" title=\"Xenophanes\">Xenophanes of Colophon</a>, <a class=\"mw-redirect\" href=\"/wiki/Presocratic\" title=\"Presocratic\">Presocratic</a>, <a class=\"mw-redirect\" href=\"/wiki/Eleatic_school\" title=\"Eleatic school\">Eleatic</a>, <a href=\"/wiki/Xenophilus\" title=\"Xenophilus\">Xenophilus</a>, <a href=\"/wiki/Pythagoreanism\" title=\"Pythagoreanism\">Pythagorean</a>, <a href=\"/wiki/Aristoxenus\" title=\"Aristoxenus\">Aristoxenus</a>, <a href=\"/wiki/Xenophon\" title=\"Xenophon\">Xenophon</a>, <a href=\"/wiki/Zenobius\" title=\"Zenobius\">Zenobius</a>, <a href=\"/wiki/Sophist\" title=\"Sophist\">Sophist</a>, <a href=\"/wiki/Zenodotus_(philosopher)\" title=\"Zenodotus (philosopher)\">Zenodotus</a>, <a class=\"mw-redirect\" href=\"/wiki/Neoplatonic\" title=\"Neoplatonic\">Neoplatonic</a>, <a href=\"/wiki/Proclus\" title=\"Proclus\">Proclus</a>, <a href=\"/wiki/Zeno_of_Citium\" title=\"Zeno of Citium\">Zeno of Citium</a>, <a href=\"/wiki/Stoicism\" title=\"Stoicism\">Stoic</a>, <a href=\"/wiki/Zeno_of_Elea\" title=\"Zeno of Elea\">Zeno of Elea</a>, <a class=\"mw-redirect\" href=\"/wiki/Presocratic\" title=\"Presocratic\">Presocratic</a>, <a class=\"mw-redirect\" href=\"/wiki/Eleatic_school\" title=\"Eleatic school\">Eleatic</a>, <a href=\"/wiki/Zeno%27s_paradoxes\" title=\"Zeno's paradoxes\">Zeno's paradoxes</a>, <a href=\"/wiki/Zeno_of_Sidon\" title=\"Zeno of Sidon\">Zeno of Sidon</a>, <a class=\"mw-redirect\" href=\"/wiki/Epicurean\" title=\"Epicurean\">Epicurean</a>, <a href=\"/wiki/Zeno_of_Tarsus\" title=\"Zeno of Tarsus\">Zeno of Tarsus</a>, <a href=\"/wiki/Stoicism\" title=\"Stoicism\">Stoic</a>]\n"
     ]
    }
   ],
   "source": [
    "# author name should be pulled from the title tag\n",
    "\n",
    "import codecs\n",
    "from bs4 import BeautifulSoup\n",
    "f = codecs.open(\"Index.html\", 'r', 'utf-8')\n",
    "soup = BeautifulSoup(f.read(),'lxml')\n",
    "\n",
    "# reference: http://savvastjortjoglou.com/nba-draft-part01-scraping.html\n",
    "# tuples of philosopher name w/ path \n",
    "philosopher_tuple_list = []\n",
    "\n",
    "# creates list of philosopher name\n",
    "tableRows = soup.find_all('table',class_='wikitable sortable')[0]\n",
    "print(tableRows.find_all('a'))\n",
    "\n",
    "\n",
    "\n",
    "philosopher_name = [] #list containing each philosopher's name\n",
    "# adding path and filename at the end of philosopher's name\n",
    "for name in philosopher_name:\n",
    "    x = name\n",
    "    y = name,\"Philosophers/\"+ x + '.html'\n",
    "    philosopher_tuple_list.append(y)\n",
    "    \n",
    "# philosopher_tuple_list"
   ]
  },
  {
   "cell_type": "code",
   "execution_count": 307,
   "metadata": {
    "deletable": false,
    "editable": false,
    "nbgrader": {
     "grade": true,
     "grade_id": "Scraping filenames",
     "locked": true,
     "points": "20",
     "solution": false
    }
   },
   "outputs": [],
   "source": [
    "###\n",
    "### AUTOGRADER TEST - DO NOT REMOVE\n",
    "###\n"
   ]
  },
  {
   "cell_type": "code",
   "execution_count": 308,
   "metadata": {
    "deletable": false,
    "editable": false,
    "nbgrader": {
     "grade": true,
     "grade_id": "Text of page",
     "locked": true,
     "points": "20",
     "solution": false
    }
   },
   "outputs": [],
   "source": [
    "###\n",
    "### AUTOGRADER TEST - DO NOT REMOVE\n",
    "###\n"
   ]
  },
  {
   "cell_type": "code",
   "execution_count": 309,
   "metadata": {
    "deletable": false,
    "editable": false,
    "nbgrader": {
     "grade": true,
     "grade_id": "Run LSI",
     "locked": true,
     "points": "60",
     "solution": false
    }
   },
   "outputs": [],
   "source": [
    "###\n",
    "### AUTOGRADER TEST - DO NOT REMOVE\n",
    "###\n"
   ]
  }
 ],
 "metadata": {
  "kernelspec": {
   "display_name": "Python 3",
   "language": "python",
   "name": "python3"
  },
  "language_info": {
   "codemirror_mode": {
    "name": "ipython",
    "version": 3
   },
   "file_extension": ".py",
   "mimetype": "text/x-python",
   "name": "python",
   "nbconvert_exporter": "python",
   "pygments_lexer": "ipython3",
   "version": "3.7.3"
  }
 },
 "nbformat": 4,
 "nbformat_minor": 2
}
