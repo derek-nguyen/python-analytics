{
 "cells": [
  {
   "cell_type": "markdown",
   "metadata": {
    "deletable": false,
    "editable": false,
    "nbgrader": {
     "grade": false,
     "locked": true,
     "solution": false
    }
   },
   "source": [
    "## There are some instructions you need to follow:\n",
    "<li> You only need to write your code in the comment area \"Your Code Here\".</li>\n",
    "<li>Do not upload your own file. Please make the necessary changes in the Jupyter notebook file already present in the server.</li>\n",
    "<li>Please note, there are several cells in the Assignment Jupyter notebook that are empty and read only. Do not attempt to remove them or   edit them. They are used in grading your notebook. Doing so might lead to 0 points.</li>"
   ]
  },
  {
   "cell_type": "code",
   "execution_count": 60,
   "metadata": {
    "deletable": false,
    "editable": false,
    "nbgrader": {
     "grade": false,
     "locked": true,
     "solution": false
    }
   },
   "outputs": [],
   "source": [
    "import nltk\n",
    "import os\n",
    "import _sqlite3\n",
    "from nltk.corpus import PlaintextCorpusReader\n",
    "from nltk import sent_tokenize,word_tokenize \n",
    "from gensim import corpora, models, similarities\n",
    "from gensim.models.ldamodel import LdaModel\n",
    "from gensim.parsing.preprocessing import STOPWORDS\n",
    "from gensim.similarities.docsim import Similarity"
   ]
  },
  {
   "cell_type": "markdown",
   "metadata": {
    "nbgrader": {
     "grade": false,
     "locked": false,
     "solution": false
    }
   },
   "source": [
    "# Question 1"
   ]
  },
  {
   "cell_type": "code",
   "execution_count": 61,
   "metadata": {},
   "outputs": [],
   "source": [
    "\"\"\"\n",
    "Question 1\n",
    "\n",
    "Write a function that takes the file name of the Wikipedia page containing all Greek ancient\n",
    "philosophers (saved as \"Index.html\" in your workspace) and returns a list tuples containing \n",
    "the name of the philosopher and the path to its individual article file.\n",
    "\n",
    "Example of use: get_philosophers(\"Index.html\")\n",
    "\n",
    "The output should be a list of tuples:\n",
    "\n",
    "[('Acrion', 'Philosophers/Acrion.html'),\n",
    " ('Adrastus of Aphrodisias', 'Philosophers/Adrastus of Aphrodisias.html'),\n",
    " ('Aedesia', 'Philosophers/Aedesia.html'),\n",
    " ('Aedesius', 'Philosophers/Aedesius.html'),\n",
    " ('Aeneas of Gaza', 'Philosophers/Aeneas of Gaza.html'),\n",
    " ('Aenesidemus', 'Philosophers/Aenesidemus.html'),\n",
    " ...]\n",
    " \n",
    "  \n",
    "NOTE: For processing speed purposes, the table in \"Index.html\" has been shortened compared\n",
    "to the one online on wikipedia.org. Do not worry if you do not find some philosophers in \n",
    "your results, this is made on purpose. \n",
    "\n",
    "\"\"\"\n",
    "\n",
    "def get_philosophers(filename):\n",
    "    \n",
    "    import codecs\n",
    "    from bs4 import BeautifulSoup\n",
    "    f = codecs.open(filename, 'r', 'utf-8')\n",
    "    soup = BeautifulSoup(f.read(),'lxml')\n",
    "    \n",
    "    philosopher_list = []\n",
    "    \n",
    "    tableRows = soup.find_all('table',class_='wikitable sortable')[0]\n",
    "    data_rows = tableRows.find_all('tr')[1:]\n",
    "    philosopher_name = [] #list containing each philosopher's name\n",
    "    # grabs philosopher name from title an appends to list\n",
    "    for data in data_rows:\n",
    "        philosopher_name.append(data.find('a').get('title'))\n",
    "\n",
    "    # adding path and filename at the end of philosopher's name\n",
    "    for name in philosopher_name:\n",
    "        x = name\n",
    "        y = name,\"Philosophers/\"+ x + '.html'\n",
    "        philosopher_list.append(y)\n",
    "\n",
    "    # returns philosopher list as tuple\n",
    "#     philosopher_tuple_list = tuple(philosopher_list)\n",
    "    return philosopher_list\n",
    "\n",
    "# Once done, try this:\n",
    "filenames = get_philosophers(\"Index.html\")\n",
    "# filenames"
   ]
  },
  {
   "cell_type": "markdown",
   "metadata": {},
   "source": [
    "# Question 1: Non-Function"
   ]
  },
  {
   "cell_type": "code",
   "execution_count": 62,
   "metadata": {},
   "outputs": [],
   "source": [
    "import codecs\n",
    "from bs4 import BeautifulSoup\n",
    "f = codecs.open(\"Index.html\", 'r', 'utf-8')\n",
    "soup = BeautifulSoup(f.read(),'lxml')\n",
    "\n",
    "# reference: http://savvastjortjoglou.com/nba-draft-part01-scraping.html\n",
    "# tuples of philosopher name w/ path \n",
    "philosopher_list = []\n",
    "\n",
    "# creates list of philosopher name\n",
    "tableRows = soup.find_all('table',class_='wikitable sortable')[0]\n",
    "data_rows = tableRows.find_all('tr')[1:]\n",
    "philosopher_name = [] #list containing each philosopher's name\n",
    "\n",
    "# grabs philosopher name from title and appends to list\n",
    "for data in data_rows:\n",
    "    philosopher_name.append(data.find('a').get('title'))\n",
    "#     print(type(data))\n",
    "\n",
    "\n",
    "# # loops through a list indices \n",
    "# for i in range(len(data_rows)):\n",
    "#     # for each table data element from each table row\n",
    "#     td = data_rows[i].find_all('td')[0].get_text().strip()\n",
    "# #     philosopher_name.append(td)\n",
    "\n",
    "\n",
    "# adding path and filename at the end of philosopher's name\n",
    "for name in philosopher_name:\n",
    "    x = name\n",
    "    y = name,\"Philosophers/\"+ x + '.html'\n",
    "    philosopher_list.append(y)\n",
    "\n",
    "# philosopher_list"
   ]
  },
  {
   "cell_type": "markdown",
   "metadata": {
    "deletable": false,
    "editable": false,
    "nbgrader": {
     "grade": false,
     "locked": true,
     "solution": false
    }
   },
   "source": [
    "# Question 2"
   ]
  },
  {
   "cell_type": "code",
   "execution_count": 63,
   "metadata": {},
   "outputs": [],
   "source": [
    "\"\"\"\n",
    "Question 2\n",
    "\n",
    "\n",
    "Write a function that scrapes the text on a philosophers’s page and returns it as a text \n",
    "string. The input is the name of the file that contains the philosopher's page.\n",
    "\n",
    "Example of use: get_text('Philosophers/Acrion.html')\n",
    "should output the text of the page.\n",
    "'Acrion was a Locrian and a Pythagorean philosopher...'\n",
    "\"\"\"\n",
    "\n",
    "def get_text(file):\n",
    "    import codecs\n",
    "    from bs4 import BeautifulSoup\n",
    "    f = codecs.open(file, 'r', 'utf-8')\n",
    "    page_soup = BeautifulSoup(f.read(),'lxml')\n",
    "\n",
    "    all_text = \"\"\n",
    "\n",
    "    for tag in page_soup.find_all('p'):\n",
    "        all_text += tag.get_text()\n",
    "    return all_text\n",
    "# Once done, try this:\n",
    "# get_text(\"Philosophers/Acrion.html\")"
   ]
  },
  {
   "cell_type": "markdown",
   "metadata": {},
   "source": [
    "# Question 2: Non-Function"
   ]
  },
  {
   "cell_type": "code",
   "execution_count": 64,
   "metadata": {
    "scrolled": true
   },
   "outputs": [],
   "source": [
    "# looks at page index.html (all philosophers)\n",
    "filename = \"Philosophers/Acrion.html\"\n",
    "\n",
    "import codecs\n",
    "from bs4 import BeautifulSoup\n",
    "f = codecs.open(filename, 'r', 'utf-8')\n",
    "page_soup = BeautifulSoup(f.read(),'lxml')\n",
    "\n",
    "\n",
    "all_text = \"\"\n",
    "\n",
    "# takes the 2nd index from list philosopher_list\n",
    "for philosopher_filepath in philosopher_list:\n",
    "    philosopher_filepath = philosopher_filepath[1]\n",
    "    \n",
    "    filepath = codecs.open(philosopher_filepath, 'r', 'utf-8')\n",
    "    page_soup = BeautifulSoup(filepath.read(),'lxml')\n",
    "    \n",
    "    for tag in page_soup.find_all('p'):\n",
    "        all_text += tag.get_text()\n",
    "# all_text"
   ]
  },
  {
   "cell_type": "markdown",
   "metadata": {},
   "source": [
    "# Question 3 (functional)"
   ]
  },
  {
   "cell_type": "code",
   "execution_count": 81,
   "metadata": {},
   "outputs": [],
   "source": [
    "# \"\"\"\n",
    "# Question 3\n",
    "\n",
    "# Use the files under \"Philosophers\" folder to construct an LSI model.\n",
    "# Then, use the LSI model to find the most similar philosopher for each of the philosophers\n",
    "# found in Question 1, based on the content of their Wikipedia articles. You should not go\n",
    "# online to scrape the data; everything you need is in your Jupyter notebook working directory.\n",
    "\n",
    "# The function should have as input the list of tuples created in Question 1.\n",
    "\n",
    "# The output format should be a list of tuples too. Each tuple should contain a philosopher's name\n",
    "# and its most similar other philosopher. Please note both names can't be the same.\n",
    "\n",
    "# The output should look like that:\n",
    "\n",
    "# [('Acrion', 'Arignote'),\n",
    "#  ('Adrastus of Aphrodisias', 'Lycophron (Sophist)'),\n",
    "#  ('Aedesia', 'Heliodorus of Alexandria'),\n",
    "#  ('Aedesius', 'Chrysanthius'),\n",
    "#  ('Aeneas of Gaza', 'Archytas'),\n",
    "#  ...]\n",
    "\n",
    "\n",
    "# \"\"\"\n",
    "\n",
    "# def run1(filenames):\n",
    "# ###\n",
    "# ### YOUR CODE HERE\n",
    "# ###\n",
    "\n",
    "# # Once done, try this:\n",
    "# run(filenames)"
   ]
  },
  {
   "cell_type": "markdown",
   "metadata": {},
   "source": [
    "# Question 3 (non-functional)"
   ]
  },
  {
   "cell_type": "code",
   "execution_count": 66,
   "metadata": {},
   "outputs": [],
   "source": [
    "import nltk\n",
    "import os\n",
    "import _sqlite3\n",
    "from nltk.corpus import PlaintextCorpusReader\n",
    "from nltk import sent_tokenize,word_tokenize \n",
    "from gensim import corpora, models, similarities\n",
    "from gensim.models.ldamodel import LdaModel\n",
    "from gensim.parsing.preprocessing import STOPWORDS\n",
    "from gensim.similarities.docsim import Similarity"
   ]
  },
  {
   "cell_type": "code",
   "execution_count": 184,
   "metadata": {},
   "outputs": [],
   "source": [
    "# list of all philosophers' file path\n",
    "philosopher_files = list()\n",
    "for philosopher_path in filenames:\n",
    "    philosopher_files.append(philosopher_path[1])\n",
    "\n",
    "# grab each philosopher's <p> and append to list\n",
    "# user defined function: get_text()\n",
    "philosopher_text_list = list()\n",
    "for philosopher_path in philosopher_files:\n",
    "    philosopher_text_list.append(get_text(philosopher_path))\n",
    "\n"
   ]
  },
  {
   "cell_type": "code",
   "execution_count": 82,
   "metadata": {},
   "outputs": [],
   "source": [
    "# philosopher_text_list[0]"
   ]
  },
  {
   "cell_type": "code",
   "execution_count": 89,
   "metadata": {},
   "outputs": [
    {
     "data": {
      "text/plain": [
       "92"
      ]
     },
     "execution_count": 89,
     "metadata": {},
     "output_type": "execute_result"
    }
   ],
   "source": [
    "# text preprocessing\n",
    "# philosopher_text_list = contains multiple indexes of philosophers' description\n",
    "strip_text_list = list()\n",
    "\n",
    "for philosopher_text in philosopher_text_list:\n",
    "    striptext = philosopher_text.replace('\\n\\n', ' ')\n",
    "    striptext = striptext.replace('\\n', ' ')\n",
    "\n",
    "##     tokenize all texts: only used when creating LDA\n",
    "#     sentences = sent_tokenize(striptext)\n",
    "\n",
    "    strip_text_list.append(striptext)\n",
    "\n",
    "len(strip_text_list)\n"
   ]
  },
  {
   "cell_type": "code",
   "execution_count": 182,
   "metadata": {},
   "outputs": [
    {
     "data": {
      "text/plain": [
       "'Athenodorus of Soli (Greek: Ἀθηνόδωρος ὁ Σολεύς) was a Stoic philosopher, and disciple of Zeno of Citium, who lived in the 3rd century BC. He was the son of Athenodorus, and was born in the town of Soli, Cilicia, and was the compatriot of another disciple of Zeno, Chrysippus. Athenodorus was the brother of the poet Aratus of Soli,[1] the author of the long didactic poem, Phaenomena. Both brothers followed the teachings of Zeno. He is mentioned in the list given by Diogenes Laërtius as the disciple of Zeno.[2] He may be the dedicatee of the work On Definite Propositions (Greek: Περὶ τῶν ϰαταγορευτιϰῶν) written by Chrysippus.[2] '"
      ]
     },
     "execution_count": 182,
     "metadata": {},
     "output_type": "execute_result"
    }
   ],
   "source": [
    "# lowercase all characters, split the words and remove all special characters\n",
    "texts = [[word for word in document.lower().split()\n",
    "         if word not in STOPWORDS and word.isalnum()]\n",
    "         for document in strip_text_list]\n",
    "\n",
    "# create word dictionary for each word in a text \n",
    "dictionary = corpora.Dictionary(texts)\n",
    "\n",
    "# create corpus: assigns ints to words\n",
    "# https://radimrehurek.com/gensim/corpora/dictionary.html#gensim.corpora.dictionary.Dictionary.doc2bow\n",
    "# returns (token_id,token_count)\n",
    "corpus = [dictionary.doc2bow(text) for text in texts]\n",
    "\n"
   ]
  },
  {
   "cell_type": "code",
   "execution_count": 172,
   "metadata": {},
   "outputs": [],
   "source": [
    "# train LSI model\n",
    "lsi = models.LsiModel(corpus, id2word=dictionary,num_topics=2)"
   ]
  },
  {
   "cell_type": "code",
   "execution_count": 187,
   "metadata": {},
   "outputs": [
    {
     "data": {
      "text/plain": [
       "[(75, 0.9999115),\n",
       " (8, 0.99764264),\n",
       " (55, 0.99389684),\n",
       " (7, 0.9929013),\n",
       " (53, 0.9917134),\n",
       " (84, 0.9904734),\n",
       " (40, 0.98420525),\n",
       " (66, 0.9833431),\n",
       " (41, 0.98281384),\n",
       " (39, 0.977679),\n",
       " (90, 0.9769584),\n",
       " (2, 0.9760174),\n",
       " (67, 0.9750929),\n",
       " (57, 0.9748107),\n",
       " (59, 0.97377586),\n",
       " (12, 0.9724612),\n",
       " (44, 0.97212505),\n",
       " (48, 0.9718428),\n",
       " (69, 0.9711671),\n",
       " (26, 0.97099),\n",
       " (24, 0.97088516),\n",
       " (43, 0.97019947),\n",
       " (9, 0.9684013),\n",
       " (42, 0.9676485),\n",
       " (76, 0.9669211),\n",
       " (86, 0.96555626),\n",
       " (3, 0.96446276),\n",
       " (88, 0.9590136),\n",
       " (21, 0.95733833),\n",
       " (45, 0.95649356),\n",
       " (38, 0.9563924),\n",
       " (47, 0.95436805),\n",
       " (11, 0.9535912),\n",
       " (65, 0.9527466),\n",
       " (37, 0.95259184),\n",
       " (36, 0.9521341),\n",
       " (74, 0.9508228),\n",
       " (83, 0.9477255),\n",
       " (50, 0.9465109),\n",
       " (78, 0.9464924),\n",
       " (85, 0.941419),\n",
       " (91, 0.9327191),\n",
       " (56, 0.9320204),\n",
       " (27, 0.9270043),\n",
       " (58, 0.924785),\n",
       " (18, 0.9204238),\n",
       " (79, 0.91870624),\n",
       " (72, 0.918166),\n",
       " (14, 0.91288424),\n",
       " (51, 0.9128355),\n",
       " (22, 0.91213596),\n",
       " (34, 0.9112351),\n",
       " (73, 0.91067874),\n",
       " (6, 0.9105065),\n",
       " (29, 0.909552),\n",
       " (5, 0.9056399),\n",
       " (54, 0.905234),\n",
       " (46, 0.90363693),\n",
       " (87, 0.90348136),\n",
       " (10, 0.9019933),\n",
       " (60, 0.8929136),\n",
       " (0, 0.89223737),\n",
       " (31, 0.8876817),\n",
       " (49, 0.868569),\n",
       " (30, 0.86190367),\n",
       " (25, 0.8614381),\n",
       " (33, 0.8518975),\n",
       " (13, 0.8515998),\n",
       " (52, 0.8510126),\n",
       " (89, 0.83110166),\n",
       " (20, 0.8309065),\n",
       " (70, 0.8256775),\n",
       " (82, 0.8181859),\n",
       " (23, 0.80589324),\n",
       " (35, 0.797699),\n",
       " (4, 0.79514205),\n",
       " (28, 0.7751019),\n",
       " (81, 0.76545894),\n",
       " (15, 0.7556972),\n",
       " (19, 0.75375533),\n",
       " (64, 0.70946276),\n",
       " (80, 0.70816517),\n",
       " (77, 0.6977746),\n",
       " (16, 0.67636675),\n",
       " (71, 0.67024046),\n",
       " (32, 0.6634049),\n",
       " (1, 0.61930144),\n",
       " (68, 0.57472056),\n",
       " (62, 0.515685),\n",
       " (17, 0.48165035),\n",
       " (61, 0.42569333),\n",
       " (63, 0.41949326)]"
      ]
     },
     "execution_count": 187,
     "metadata": {},
     "output_type": "execute_result"
    }
   ],
   "source": [
    "# ex) index 1 [Acrion]\n",
    "# text_acrion_bow = [[word for word in document.lower()\n",
    "#          if word not in STOPWORDS and word.isalnum()]\n",
    "#          for document in strip_text_list[0]]\n",
    "\n",
    "text_acrion_bow = []\n",
    "acrion_words_list = strip_text_list[0].split()\n",
    "for word in acrion_words_list:\n",
    "    if word.isalnum() == True:\n",
    "        text_acrion_bow.append(word)\n",
    "\n",
    "# vectorize new bow (bag of words)\n",
    "acrion_vec_bow = dictionary.doc2bow(text_acrion_bow)\n",
    "vec_lsi = lsi[acrion_vec_bow]\n",
    "index = similarities.MatrixSimilarity(lsi[corpus])\n",
    "sims = index[vec_lsi]\n",
    "sims = sorted(enumerate(sims),key=lambda item: -item[1])\n",
    "# acrion is most similar to index 75 = Athenodorus of Soli\n",
    "sims\n"
   ]
  },
  {
   "cell_type": "code",
   "execution_count": 72,
   "metadata": {
    "deletable": false,
    "editable": false,
    "nbgrader": {
     "grade": true,
     "grade_id": "Scraping filenames",
     "locked": true,
     "points": "20",
     "solution": false
    }
   },
   "outputs": [],
   "source": [
    "###\n",
    "### AUTOGRADER TEST - DO NOT REMOVE\n",
    "###\n"
   ]
  },
  {
   "cell_type": "code",
   "execution_count": 73,
   "metadata": {
    "deletable": false,
    "editable": false,
    "nbgrader": {
     "grade": true,
     "grade_id": "Text of page",
     "locked": true,
     "points": "20",
     "solution": false
    }
   },
   "outputs": [],
   "source": [
    "###\n",
    "### AUTOGRADER TEST - DO NOT REMOVE\n",
    "###\n"
   ]
  },
  {
   "cell_type": "code",
   "execution_count": 74,
   "metadata": {
    "deletable": false,
    "editable": false,
    "nbgrader": {
     "grade": true,
     "grade_id": "Run LSI",
     "locked": true,
     "points": "60",
     "solution": false
    }
   },
   "outputs": [],
   "source": [
    "###\n",
    "### AUTOGRADER TEST - DO NOT REMOVE\n",
    "###\n"
   ]
  }
 ],
 "metadata": {
  "kernelspec": {
   "display_name": "Python 3",
   "language": "python",
   "name": "python3"
  },
  "language_info": {
   "codemirror_mode": {
    "name": "ipython",
    "version": 3
   },
   "file_extension": ".py",
   "mimetype": "text/x-python",
   "name": "python",
   "nbconvert_exporter": "python",
   "pygments_lexer": "ipython3",
   "version": "3.7.3"
  }
 },
 "nbformat": 4,
 "nbformat_minor": 2
}
