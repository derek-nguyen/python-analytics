{
 "cells": [
  {
   "cell_type": "markdown",
   "metadata": {
    "deletable": false,
    "editable": false,
    "nbgrader": {
     "grade": false,
     "locked": true,
     "solution": false
    }
   },
   "source": [
    "## There are some instructions you need to follow:\n",
    "<li> You only need to write your code in the comment area \"Your Code Here\".</li>\n",
    "<li>Do not upload your own file. Please make the necessary changes in the Jupyter notebook file already present in the server.</li>\n",
    "<li>Please note, there are several cells in the Assignment Jupyter notebook that are empty and read only. Do not attempt to remove them or   edit them. They are used in grading your notebook. Doing so might lead to 0 points.</li>"
   ]
  },
  {
   "cell_type": "code",
   "execution_count": 2,
   "metadata": {
    "deletable": false,
    "editable": false,
    "nbgrader": {
     "grade": false,
     "locked": true,
     "solution": false
    }
   },
   "outputs": [],
   "source": [
    "import nltk\n",
    "import os\n",
    "import _sqlite3\n",
    "from nltk.corpus import PlaintextCorpusReader\n",
    "from nltk import sent_tokenize,word_tokenize \n",
    "from gensim import corpora, models, similarities\n",
    "from gensim.models.ldamodel import LdaModel\n",
    "from gensim.parsing.preprocessing import STOPWORDS\n",
    "from gensim.similarities.docsim import Similarity"
   ]
  },
  {
   "cell_type": "markdown",
   "metadata": {
    "nbgrader": {
     "grade": false,
     "locked": false,
     "solution": false
    }
   },
   "source": [
    "# Question 1"
   ]
  },
  {
   "cell_type": "code",
   "execution_count": 160,
   "metadata": {},
   "outputs": [
    {
     "name": "stdout",
     "output_type": "stream",
     "text": [
      "None\n"
     ]
    }
   ],
   "source": [
    "\"\"\"\n",
    "Question 1\n",
    "\n",
    "Write a function that takes the file name of the Wikipedia page containing all Greek ancient\n",
    "philosophers (saved as \"Index.html\" in your workspace) and returns a list tuples containing \n",
    "the name of the philosopher and the path to its individual article file.\n",
    "\n",
    "Example of use: get_philosophers(\"Index.html\")\n",
    "\n",
    "The output should be a list of tuples:\n",
    "\n",
    "[('Acrion', 'Philosophers/Acrion.html'),\n",
    " ('Adrastus of Aphrodisias', 'Philosophers/Adrastus of Aphrodisias.html'),\n",
    " ('Aedesia', 'Philosophers/Aedesia.html'),\n",
    " ('Aedesius', 'Philosophers/Aedesius.html'),\n",
    " ('Aeneas of Gaza', 'Philosophers/Aeneas of Gaza.html'),\n",
    " ('Aenesidemus', 'Philosophers/Aenesidemus.html'),\n",
    " ...]\n",
    " \n",
    "  \n",
    "NOTE: For processing speed purposes, the table in \"Index.html\" has been shortened compared\n",
    "to the one online on wikipedia.org. Do not worry if you do not find some philosophers in \n",
    "your results, this is made on purpose. \n",
    "\n",
    "\"\"\"\n",
    "\n",
    "def get_philosophers(filename):\n",
    "    \n",
    "    import codecs\n",
    "    from bs4 import BeautifulSoup\n",
    "    f = codecs.open(filename, 'r', 'utf-8')\n",
    "    soup = BeautifulSoup(f.read(),'lxml')\n",
    "    \n",
    "    philosopher_tuple_list = []\n",
    "    \n",
    "    tableRows = soup.find_all('table',class_='wikitable sortable')[0]\n",
    "    data_rows = tableRows.find_all('tr')[1:]\n",
    "    philosopher_name = [] #list containing each philosopher's name\n",
    "    # grabs philosopher name from title an appends to list\n",
    "    for data in data_rows:\n",
    "        philosopher_name.append(data.find('a').get('title'))\n",
    "\n",
    "    # adding path and filename at the end of philosopher's name\n",
    "    for name in philosopher_name:\n",
    "        x = name\n",
    "        y = name,\"Philosophers/\"+ x + '.html'\n",
    "        return philosopher_tuple_list.append(y)\n",
    "\n",
    "# Once done, try this:\n",
    "print(get_philosophers(\"Index.html\"))"
   ]
  },
  {
   "cell_type": "code",
   "execution_count": 12,
   "metadata": {},
   "outputs": [
    {
     "data": {
      "text/plain": [
       "[('Acrion', 'Philosophers/Acrion.html'),\n",
       " ('Adrastus of Aphrodisias', 'Philosophers/Adrastus of Aphrodisias.html'),\n",
       " ('Aedesia', 'Philosophers/Aedesia.html'),\n",
       " ('Aedesius', 'Philosophers/Aedesius.html'),\n",
       " ('Aeneas of Gaza', 'Philosophers/Aeneas of Gaza.html'),\n",
       " ('Aenesidemus', 'Philosophers/Aenesidemus.html'),\n",
       " ('Aesara', 'Philosophers/Aesara.html'),\n",
       " ('Aeschines of Neapolis', 'Philosophers/Aeschines of Neapolis.html'),\n",
       " ('Aeschines of Sphettus', 'Philosophers/Aeschines of Sphettus.html'),\n",
       " ('Aetius of Antioch', 'Philosophers/Aetius of Antioch.html'),\n",
       " ('Agapius (philosopher)', 'Philosophers/Agapius (philosopher).html'),\n",
       " ('Agathobulus', 'Philosophers/Agathobulus.html'),\n",
       " ('Agathosthenes', 'Philosophers/Agathosthenes.html'),\n",
       " ('Agrippa the Skeptic', 'Philosophers/Agrippa the Skeptic.html'),\n",
       " ('Albinus (philosopher)', 'Philosophers/Albinus (philosopher).html'),\n",
       " ('Alcinous (philosopher)', 'Philosophers/Alcinous (philosopher).html'),\n",
       " ('Alcmaeon of Croton', 'Philosophers/Alcmaeon of Croton.html'),\n",
       " ('Alexamenus of Teos', 'Philosophers/Alexamenus of Teos.html'),\n",
       " ('Alexander of Aegae', 'Philosophers/Alexander of Aegae.html'),\n",
       " ('Alexander of Aphrodisias', 'Philosophers/Alexander of Aphrodisias.html'),\n",
       " ('Alexicrates', 'Philosophers/Alexicrates.html'),\n",
       " ('Alexinus', 'Philosophers/Alexinus.html'),\n",
       " ('Amelius', 'Philosophers/Amelius.html'),\n",
       " ('Ammonius Hermiae', 'Philosophers/Ammonius Hermiae.html'),\n",
       " ('Ammonius of Athens', 'Philosophers/Ammonius of Athens.html'),\n",
       " ('Ammonius Saccas', 'Philosophers/Ammonius Saccas.html'),\n",
       " ('Anaxagoras', 'Philosophers/Anaxagoras.html'),\n",
       " ('Anaxarchus', 'Philosophers/Anaxarchus.html'),\n",
       " ('Anaxilaus', 'Philosophers/Anaxilaus.html'),\n",
       " ('Anaximander', 'Philosophers/Anaximander.html'),\n",
       " ('Anaximenes of Miletus', 'Philosophers/Anaximenes of Miletus.html'),\n",
       " ('Androcydes (Pythagorean)', 'Philosophers/Androcydes (Pythagorean).html'),\n",
       " ('Andronicus of Rhodes', 'Philosophers/Andronicus of Rhodes.html'),\n",
       " ('Anniceris', 'Philosophers/Anniceris.html'),\n",
       " ('Antiochus of Ascalon', 'Philosophers/Antiochus of Ascalon.html'),\n",
       " ('Antipater of Cyrene', 'Philosophers/Antipater of Cyrene.html'),\n",
       " ('Antipater of Tarsus', 'Philosophers/Antipater of Tarsus.html'),\n",
       " ('Antipater of Tyre', 'Philosophers/Antipater of Tyre.html'),\n",
       " ('Antisthenes', 'Philosophers/Antisthenes.html'),\n",
       " ('Antoninus (philosopher)', 'Philosophers/Antoninus (philosopher).html'),\n",
       " ('Apollodorus of Athens', 'Philosophers/Apollodorus of Athens.html'),\n",
       " ('Apollodorus of Seleucia', 'Philosophers/Apollodorus of Seleucia.html'),\n",
       " ('Apollodorus the Epicurean', 'Philosophers/Apollodorus the Epicurean.html'),\n",
       " ('Apollonius Cronus', 'Philosophers/Apollonius Cronus.html'),\n",
       " ('Apollonius of Tyana', 'Philosophers/Apollonius of Tyana.html'),\n",
       " ('Apollonius of Tyre (philosopher)',\n",
       "  'Philosophers/Apollonius of Tyre (philosopher).html'),\n",
       " ('Arcesilaus', 'Philosophers/Arcesilaus.html'),\n",
       " ('Archedemus of Tarsus', 'Philosophers/Archedemus of Tarsus.html'),\n",
       " ('Archelaus (philosopher)', 'Philosophers/Archelaus (philosopher).html'),\n",
       " ('Archytas', 'Philosophers/Archytas.html'),\n",
       " ('Arete of Cyrene', 'Philosophers/Arete of Cyrene.html'),\n",
       " ('Arignote', 'Philosophers/Arignote.html'),\n",
       " ('Aristarchus of Samos', 'Philosophers/Aristarchus of Samos.html'),\n",
       " ('Aristippus', 'Philosophers/Aristippus.html'),\n",
       " ('Aristippus the Younger', 'Philosophers/Aristippus the Younger.html'),\n",
       " ('Aristoclea', 'Philosophers/Aristoclea.html'),\n",
       " ('Aristocles of Messene', 'Philosophers/Aristocles of Messene.html'),\n",
       " ('Aristocreon', 'Philosophers/Aristocreon.html'),\n",
       " ('Aristo of Alexandria', 'Philosophers/Aristo of Alexandria.html'),\n",
       " ('Aristo of Ceos', 'Philosophers/Aristo of Ceos.html'),\n",
       " ('Aristo of Chios', 'Philosophers/Aristo of Chios.html'),\n",
       " ('Aristotle', 'Philosophers/Aristotle.html'),\n",
       " ('Aristotle of Cyrene', 'Philosophers/Aristotle of Cyrene.html'),\n",
       " ('Aristotle of Mytilene', 'Philosophers/Aristotle of Mytilene.html'),\n",
       " ('Aristoxenus', 'Philosophers/Aristoxenus.html'),\n",
       " ('Arius Didymus', 'Philosophers/Arius Didymus.html'),\n",
       " ('Asclepiades of Phlius', 'Philosophers/Asclepiades of Phlius.html'),\n",
       " ('Asclepiades the Cynic', 'Philosophers/Asclepiades the Cynic.html'),\n",
       " ('Asclepigenia', 'Philosophers/Asclepigenia.html'),\n",
       " ('Asclepiodotus (philosopher)',\n",
       "  'Philosophers/Asclepiodotus (philosopher).html'),\n",
       " ('Asclepiodotus of Alexandria',\n",
       "  'Philosophers/Asclepiodotus of Alexandria.html'),\n",
       " ('Aspasius', 'Philosophers/Aspasius.html'),\n",
       " ('Athenaeus of Seleucia', 'Philosophers/Athenaeus of Seleucia.html'),\n",
       " ('Athenodoros Cananites', 'Philosophers/Athenodoros Cananites.html'),\n",
       " ('Athenodoros Cordylion', 'Philosophers/Athenodoros Cordylion.html'),\n",
       " ('Athenodorus of Soli', 'Philosophers/Athenodorus of Soli.html'),\n",
       " ('Attalus (Stoic)', 'Philosophers/Attalus (Stoic).html'),\n",
       " ('Atticus (philosopher)', 'Philosophers/Atticus (philosopher).html'),\n",
       " ('Basilides (Stoic)', 'Philosophers/Basilides (Stoic).html'),\n",
       " ('Tisias', 'Philosophers/Tisias.html'),\n",
       " ('Xenarchus of Seleucia', 'Philosophers/Xenarchus of Seleucia.html'),\n",
       " ('Xeniades', 'Philosophers/Xeniades.html'),\n",
       " ('Xenocrates', 'Philosophers/Xenocrates.html'),\n",
       " ('Xenophanes', 'Philosophers/Xenophanes.html'),\n",
       " ('Xenophilus', 'Philosophers/Xenophilus.html'),\n",
       " ('Xenophon', 'Philosophers/Xenophon.html'),\n",
       " ('Zenobius', 'Philosophers/Zenobius.html'),\n",
       " ('Zenodotus (philosopher)', 'Philosophers/Zenodotus (philosopher).html'),\n",
       " ('Zeno of Citium', 'Philosophers/Zeno of Citium.html'),\n",
       " ('Zeno of Elea', 'Philosophers/Zeno of Elea.html'),\n",
       " ('Zeno of Sidon', 'Philosophers/Zeno of Sidon.html'),\n",
       " ('Zeno of Tarsus', 'Philosophers/Zeno of Tarsus.html')]"
      ]
     },
     "execution_count": 12,
     "metadata": {},
     "output_type": "execute_result"
    }
   ],
   "source": [
    "def get_philosophers(filename):\n",
    "    \n",
    "    import codecs\n",
    "    from bs4 import BeautifulSoup\n",
    "    f = codecs.open(filename, 'r', 'utf-8')\n",
    "    soup = BeautifulSoup(f.read(),'lxml')\n",
    "    \n",
    "    philosopher_list = []\n",
    "    \n",
    "    tableRows = soup.find_all('table',class_='wikitable sortable')[0]\n",
    "    data_rows = tableRows.find_all('tr')[1:]\n",
    "    philosopher_name = [] #list containing each philosopher's name\n",
    "    # grabs philosopher name from title an appends to list\n",
    "    for data in data_rows:\n",
    "        philosopher_name.append(data.find('a').get('title'))\n",
    "\n",
    "    # adding path and filename at the end of philosopher's name\n",
    "    for name in philosopher_name:\n",
    "        x = name\n",
    "        y = name,\"Philosophers/\"+ x + '.html'\n",
    "        philosopher_list.append(y)\n",
    "\n",
    "#   returns philosopher list as tuple\n",
    "#     philosopher_tuple_list = tuple(philosopher_list)\n",
    "    return philosopher_list\n",
    "\n",
    "# Once done, try this:\n",
    "get_philosophers(\"Index.html\")"
   ]
  },
  {
   "cell_type": "markdown",
   "metadata": {},
   "source": [
    "# Question 1: Non-Function"
   ]
  },
  {
   "cell_type": "code",
   "execution_count": 13,
   "metadata": {},
   "outputs": [],
   "source": [
    "import codecs\n",
    "from bs4 import BeautifulSoup\n",
    "f = codecs.open(\"Index.html\", 'r', 'utf-8')\n",
    "soup = BeautifulSoup(f.read(),'lxml')\n",
    "\n",
    "# reference: http://savvastjortjoglou.com/nba-draft-part01-scraping.html\n",
    "# tuples of philosopher name w/ path \n",
    "philosopher_list = []\n",
    "\n",
    "# creates list of philosopher name\n",
    "tableRows = soup.find_all('table',class_='wikitable sortable')[0]\n",
    "data_rows = tableRows.find_all('tr')[1:]\n",
    "philosopher_name = [] #list containing each philosopher's name\n",
    "\n",
    "# grabs philosopher name from title and appends to list\n",
    "for data in data_rows:\n",
    "    philosopher_name.append(data.find('a').get('title'))\n",
    "\n",
    "\n",
    "# # loops through a list indices \n",
    "# for i in range(len(data_rows)):\n",
    "#     # for each table data element from each table row\n",
    "#     td = data_rows[i].find_all('td')[0].get_text().strip()\n",
    "# #     philosopher_name.append(td)\n",
    "\n",
    "\n",
    "# adding path and filename at the end of philosopher's name\n",
    "for name in philosopher_name:\n",
    "    x = name\n",
    "    y = name,\"Philosophers/\"+ x + '.html'\n",
    "    philosopher_list.append(y)\n",
    "\n",
    "# philosopher_tuple_list = tuple(philosopher_list)\n",
    "# philosopher_tuple_list"
   ]
  },
  {
   "cell_type": "markdown",
   "metadata": {
    "deletable": false,
    "editable": false,
    "nbgrader": {
     "grade": false,
     "locked": true,
     "solution": false
    }
   },
   "source": [
    "# Question 2"
   ]
  },
  {
   "cell_type": "code",
   "execution_count": 28,
   "metadata": {},
   "outputs": [
    {
     "data": {
      "text/plain": [
       "'Acrion was a Locrian and a Pythagorean philosopher.[1]  He is mentioned by Valerius Maximus[2] under the name of Arion. According to William Smith, Arion is a false reading, instead of Acrion.[3]\\n'"
      ]
     },
     "execution_count": 28,
     "metadata": {},
     "output_type": "execute_result"
    }
   ],
   "source": [
    "\"\"\"\n",
    "Question 2\n",
    "\n",
    "\n",
    "Write a function that scrapes the text on a philosophers’s page and returns it as a text \n",
    "string. The input is the name of the file that contains the philosoph's page.\n",
    "\n",
    "Example of use: get_text('Philosophers/Acrion.html')\n",
    "should output the text of the page.\n",
    "'Acrion was a Locrian and a Pythagorean philosopher...'\n",
    "\"\"\"\n",
    "\n",
    "def get_text(file):\n",
    "    import codecs\n",
    "    from bs4 import BeautifulSoup\n",
    "    f = codecs.open(file, 'r', 'utf-8')\n",
    "    page_soup = BeautifulSoup(f.read(),'lxml')\n",
    "\n",
    "    all_text = \"\"\n",
    "\n",
    "    for tag in page_soup.find_all('p'):\n",
    "        all_text += tag.get_text()\n",
    "    return all_text\n",
    "# Once done, try this:\n",
    "get_text(\"Philosophers/Acrion.html\")"
   ]
  },
  {
   "cell_type": "markdown",
   "metadata": {},
   "source": [
    "# Question 2: Non-Function"
   ]
  },
  {
   "cell_type": "code",
   "execution_count": 23,
   "metadata": {
    "scrolled": true
   },
   "outputs": [],
   "source": [
    "# looks at page index.html (all philosophers)\n",
    "filename = \"Philosophers/Acrion.html\"\n",
    "\n",
    "import codecs\n",
    "from bs4 import BeautifulSoup\n",
    "f = codecs.open(filename, 'r', 'utf-8')\n",
    "page_soup = BeautifulSoup(f.read(),'lxml')\n",
    "\n",
    "\n",
    "all_text = \"\"\n",
    "\n",
    "# takes the 2nd index from list philosopher_list\n",
    "for philosopher_filepath in philosopher_list:\n",
    "    philosopher_filepath = philosopher_filepath[1]\n",
    "    \n",
    "    filepath = codecs.open(philosopher_filepath, 'r', 'utf-8')\n",
    "    page_soup = BeautifulSoup(filepath.read(),'lxml')\n",
    "    \n",
    "    for tag in page_soup.find_all('p'):\n",
    "        all_text += tag.get_text()\n",
    "# all_text"
   ]
  },
  {
   "cell_type": "code",
   "execution_count": 307,
   "metadata": {
    "deletable": false,
    "editable": false,
    "nbgrader": {
     "grade": true,
     "grade_id": "Scraping filenames",
     "locked": true,
     "points": "20",
     "solution": false
    }
   },
   "outputs": [],
   "source": [
    "###\n",
    "### AUTOGRADER TEST - DO NOT REMOVE\n",
    "###\n"
   ]
  },
  {
   "cell_type": "code",
   "execution_count": 308,
   "metadata": {
    "deletable": false,
    "editable": false,
    "nbgrader": {
     "grade": true,
     "grade_id": "Text of page",
     "locked": true,
     "points": "20",
     "solution": false
    }
   },
   "outputs": [],
   "source": [
    "###\n",
    "### AUTOGRADER TEST - DO NOT REMOVE\n",
    "###\n"
   ]
  },
  {
   "cell_type": "code",
   "execution_count": 309,
   "metadata": {
    "deletable": false,
    "editable": false,
    "nbgrader": {
     "grade": true,
     "grade_id": "Run LSI",
     "locked": true,
     "points": "60",
     "solution": false
    }
   },
   "outputs": [],
   "source": [
    "###\n",
    "### AUTOGRADER TEST - DO NOT REMOVE\n",
    "###\n"
   ]
  }
 ],
 "metadata": {
  "kernelspec": {
   "display_name": "Python 3",
   "language": "python",
   "name": "python3"
  },
  "language_info": {
   "codemirror_mode": {
    "name": "ipython",
    "version": 3
   },
   "file_extension": ".py",
   "mimetype": "text/x-python",
   "name": "python",
   "nbconvert_exporter": "python",
   "pygments_lexer": "ipython3",
   "version": "3.7.3"
  }
 },
 "nbformat": 4,
 "nbformat_minor": 2
}
