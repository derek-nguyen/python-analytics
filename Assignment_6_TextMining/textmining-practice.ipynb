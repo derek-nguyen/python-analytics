{
 "cells": [
  {
   "cell_type": "markdown",
   "metadata": {
    "deletable": false,
    "editable": false,
    "nbgrader": {
     "grade": false,
     "locked": true,
     "solution": false
    }
   },
   "source": [
    "## There are some instructions you need to follow:\n",
    "<li> You only need to write your code in the comment area \"Your Code Here\".</li>\n",
    "<li>Do not upload your own file. Please make the necessary changes in the Jupyter notebook file already present in the server.</li>\n",
    "<li>Please note, there are several cells in the Assignment Jupyter notebook that are empty and read only. Do not attempt to remove them or   edit them. They are used in grading your notebook. Doing so might lead to 0 points.</li>"
   ]
  },
  {
   "cell_type": "code",
   "execution_count": 1,
   "metadata": {
    "deletable": false,
    "editable": false,
    "nbgrader": {
     "grade": false,
     "locked": true,
     "solution": false
    }
   },
   "outputs": [],
   "source": [
    "import nltk\n",
    "import os\n",
    "import _sqlite3\n",
    "from nltk.corpus import PlaintextCorpusReader\n",
    "from nltk import sent_tokenize,word_tokenize \n",
    "from gensim import corpora, models, similarities\n",
    "from gensim.models.ldamodel import LdaModel\n",
    "from gensim.parsing.preprocessing import STOPWORDS\n",
    "from gensim.similarities.docsim import Similarity"
   ]
  },
  {
   "cell_type": "markdown",
   "metadata": {
    "nbgrader": {
     "grade": false,
     "locked": false,
     "solution": false
    }
   },
   "source": [
    "# Question 1"
   ]
  },
  {
   "cell_type": "code",
   "execution_count": 2,
   "metadata": {},
   "outputs": [],
   "source": [
    "\"\"\"\n",
    "Question 1\n",
    "\n",
    "Write a function that takes the file name of the Wikipedia page containing all Greek ancient\n",
    "philosophers (saved as \"Index.html\" in your workspace) and returns a list tuples containing \n",
    "the name of the philosopher and the path to its individual article file.\n",
    "\n",
    "Example of use: get_philosophers(\"Index.html\")\n",
    "\n",
    "The output should be a list of tuples:\n",
    "\n",
    "[('Acrion', 'Philosophers/Acrion.html'),\n",
    " ('Adrastus of Aphrodisias', 'Philosophers/Adrastus of Aphrodisias.html'),\n",
    " ('Aedesia', 'Philosophers/Aedesia.html'),\n",
    " ('Aedesius', 'Philosophers/Aedesius.html'),\n",
    " ('Aeneas of Gaza', 'Philosophers/Aeneas of Gaza.html'),\n",
    " ('Aenesidemus', 'Philosophers/Aenesidemus.html'),\n",
    " ...]\n",
    " \n",
    "  \n",
    "NOTE: For processing speed purposes, the table in \"Index.html\" has been shortened compared\n",
    "to the one online on wikipedia.org. Do not worry if you do not find some philosophers in \n",
    "your results, this is made on purpose. \n",
    "\n",
    "\"\"\"\n",
    "\n",
    "def get_philosophers(filename):\n",
    "    \n",
    "    import codecs\n",
    "    from bs4 import BeautifulSoup\n",
    "    f = codecs.open(filename, 'r', 'utf-8')\n",
    "    soup = BeautifulSoup(f.read(),'lxml')\n",
    "    \n",
    "    philosopher_list = []\n",
    "    \n",
    "    tableRows = soup.find_all('table',class_='wikitable sortable')[0]\n",
    "    data_rows = tableRows.find_all('tr')[1:]\n",
    "    philosopher_name = [] #list containing each philosopher's name\n",
    "    # grabs philosopher name from title an appends to list\n",
    "    for data in data_rows:\n",
    "        philosopher_name.append(data.find('a').get('title'))\n",
    "\n",
    "    # adding path and filename at the end of philosopher's name\n",
    "    for name in philosopher_name:\n",
    "        x = name\n",
    "        y = name,\"Philosophers/\"+ x + '.html'\n",
    "        philosopher_list.append(y)\n",
    "\n",
    "    # returns philosopher list as tuple\n",
    "#     philosopher_tuple_list = tuple(philosopher_list)\n",
    "    return philosopher_list\n",
    "\n",
    "# Once done, try this:\n",
    "filenames = get_philosophers(\"Index.html\")\n",
    "# filenames"
   ]
  },
  {
   "cell_type": "markdown",
   "metadata": {},
   "source": [
    "# Question 1: Non-Function"
   ]
  },
  {
   "cell_type": "code",
   "execution_count": 3,
   "metadata": {},
   "outputs": [],
   "source": [
    "import codecs\n",
    "from bs4 import BeautifulSoup\n",
    "f = codecs.open(\"Index.html\", 'r', 'utf-8')\n",
    "soup = BeautifulSoup(f.read(),'lxml')\n",
    "\n",
    "# reference: http://savvastjortjoglou.com/nba-draft-part01-scraping.html\n",
    "# tuples of philosopher name w/ path \n",
    "philosopher_list = []\n",
    "\n",
    "# creates list of philosopher name\n",
    "tableRows = soup.find_all('table',class_='wikitable sortable')[0]\n",
    "data_rows = tableRows.find_all('tr')[1:]\n",
    "philosopher_name = [] #list containing each philosopher's name\n",
    "\n",
    "# grabs philosopher name from title and appends to list\n",
    "for data in data_rows:\n",
    "    philosopher_name.append(data.find('a').get('title'))\n",
    "#     print(type(data))\n",
    "\n",
    "\n",
    "# # loops through a list indices \n",
    "# for i in range(len(data_rows)):\n",
    "#     # for each table data element from each table row\n",
    "#     td = data_rows[i].find_all('td')[0].get_text().strip()\n",
    "# #     philosopher_name.append(td)\n",
    "\n",
    "\n",
    "# adding path and filename at the end of philosopher's name\n",
    "for name in philosopher_name:\n",
    "    x = name\n",
    "    y = name,\"Philosophers/\"+ x + '.html'\n",
    "    philosopher_list.append(y)\n",
    "\n",
    "# philosopher_list[84]\n"
   ]
  },
  {
   "cell_type": "markdown",
   "metadata": {
    "deletable": false,
    "editable": false,
    "nbgrader": {
     "grade": false,
     "locked": true,
     "solution": false
    }
   },
   "source": [
    "# Question 2"
   ]
  },
  {
   "cell_type": "code",
   "execution_count": 4,
   "metadata": {},
   "outputs": [],
   "source": [
    "# # Function: grabs ALL <p>\n",
    "# \"\"\"\n",
    "# Question 2\n",
    "\n",
    "\n",
    "# Write a function that scrapes the text on a philosophers’s page and returns it as a text \n",
    "# string. The input is the name of the file that contains the philosopher's page.\n",
    "\n",
    "# Example of use: get_text('Philosophers/Acrion.html')\n",
    "# should output the text of the page.\n",
    "# 'Acrion was a Locrian and a Pythagorean philosopher...'\n",
    "# \"\"\"\n",
    "\n",
    "# def get_text(file):\n",
    "#     import codecs\n",
    "#     from bs4 import BeautifulSoup\n",
    "#     f = codecs.open(file, 'r', 'utf-8')\n",
    "#     page_soup = BeautifulSoup(f.read(),'lxml')\n",
    "\n",
    "#     all_text = \"\"\n",
    "\n",
    "#     for tag in page_soup.find_all('p'):\n",
    "#         all_text += tag.get_text()\n",
    "#     return all_text\n",
    "# # Once done, try this:\n",
    "# # get_text(\"Philosophers/Acrion.html\")"
   ]
  },
  {
   "cell_type": "markdown",
   "metadata": {},
   "source": [
    "# Question 2: first p tag"
   ]
  },
  {
   "cell_type": "code",
   "execution_count": 5,
   "metadata": {
    "scrolled": true
   },
   "outputs": [
    {
     "data": {
      "text/plain": [
       "'Acrion was a Locrian and a Pythagorean philosopher.[1]  He is mentioned by Valerius Maximus[2] under the name of Arion. According to William Smith, Arion is a false reading, instead of Acrion.[3]\\n'"
      ]
     },
     "execution_count": 5,
     "metadata": {},
     "output_type": "execute_result"
    }
   ],
   "source": [
    "def get_text(file):\n",
    "    import codecs\n",
    "    from bs4 import BeautifulSoup\n",
    "    f = codecs.open(file, 'r', 'utf-8')\n",
    "    page_soup = BeautifulSoup(f.read(),'lxml')\n",
    "\n",
    "    all_text = \"\"\n",
    "\n",
    "    tag = page_soup.find('p')\n",
    "    all_text += tag.get_text()\n",
    "    return all_text\n",
    "# Once done, try this:\n",
    "get_text(\"Philosophers/Acrion.html\")"
   ]
  },
  {
   "cell_type": "code",
   "execution_count": 39,
   "metadata": {},
   "outputs": [
    {
     "data": {
      "text/plain": [
       "'Acrion'"
      ]
     },
     "execution_count": 39,
     "metadata": {},
     "output_type": "execute_result"
    }
   ],
   "source": [
    "filenames[0][0]"
   ]
  },
  {
   "cell_type": "markdown",
   "metadata": {},
   "source": [
    "# Question 3 (functional)"
   ]
  },
  {
   "cell_type": "code",
   "execution_count": 61,
   "metadata": {},
   "outputs": [
    {
     "data": {
      "text/plain": [
       "[('Acrion', 'Xenophilus'),\n",
       " ('Adrastus of Aphrodisias', 'Adrastus of Aphrodisias'),\n",
       " ('Aedesia', 'Arius Didymus'),\n",
       " ('Aedesius', 'Alexander of Aphrodisias'),\n",
       " ('Aeneas of Gaza', 'Aeneas of Gaza'),\n",
       " ('Aenesidemus', 'Amelius'),\n",
       " ('Aesara', 'Agathobulus'),\n",
       " ('Aeschines of Neapolis', 'Antisthenes'),\n",
       " ('Aeschines of Sphettus', 'Aristo of Chios'),\n",
       " ('Aetius of Antioch', 'Asclepiades of Phlius'),\n",
       " ('Agapius (philosopher)', 'Alexamenus of Teos'),\n",
       " ('Agathobulus', 'Athenodorus of Soli'),\n",
       " ('Agathosthenes', 'Anaxagoras'),\n",
       " ('Agrippa the Skeptic', 'Agrippa the Skeptic'),\n",
       " ('Albinus (philosopher)', 'Albinus (philosopher)'),\n",
       " ('Alcinous (philosopher)', 'Aedesia'),\n",
       " ('Alcmaeon of Croton', 'Alcmaeon of Croton'),\n",
       " ('Alexamenus of Teos', 'Aristoclea'),\n",
       " ('Alexander of Aegae', 'Alcinous (philosopher)'),\n",
       " ('Alexander of Aphrodisias', 'Tisias'),\n",
       " ('Alexicrates', 'Adrastus of Aphrodisias'),\n",
       " ('Alexinus', 'Alexinus'),\n",
       " ('Amelius', 'Archelaus (philosopher)'),\n",
       " ('Ammonius Hermiae', 'Anaxagoras'),\n",
       " ('Ammonius of Athens', 'Aristo of Ceos'),\n",
       " ('Ammonius Saccas', 'Ammonius Saccas'),\n",
       " ('Anaxagoras', 'Atticus (philosopher)'),\n",
       " ('Anaxarchus', 'Atticus (philosopher)'),\n",
       " ('Anaxilaus', 'Aristocles of Messene'),\n",
       " ('Anaximander', 'Antipater of Cyrene'),\n",
       " ('Anaximenes of Miletus', 'Anaximenes of Miletus'),\n",
       " ('Androcydes (Pythagorean)', 'Ammonius of Athens'),\n",
       " ('Andronicus of Rhodes', 'Asclepiodotus (philosopher)'),\n",
       " ('Anniceris', 'Ammonius Saccas'),\n",
       " ('Antiochus of Ascalon', 'Archytas'),\n",
       " ('Antipater of Cyrene', 'Xenophanes'),\n",
       " ('Antipater of Tarsus', 'Ammonius of Athens'),\n",
       " ('Antipater of Tyre', 'Aeschines of Neapolis'),\n",
       " ('Antisthenes', 'Alexamenus of Teos'),\n",
       " ('Antoninus (philosopher)', 'Agathobulus'),\n",
       " ('Apollodorus of Athens', 'Apollodorus of Athens'),\n",
       " ('Apollodorus of Seleucia', 'Ammonius of Athens'),\n",
       " ('Apollodorus the Epicurean', 'Attalus (Stoic)'),\n",
       " ('Apollonius Cronus', 'Apollonius Cronus'),\n",
       " ('Apollonius of Tyana', 'Apollodorus of Athens'),\n",
       " ('Apollonius of Tyre (philosopher)', 'Andronicus of Rhodes'),\n",
       " ('Arcesilaus', 'Zeno of Sidon'),\n",
       " ('Archedemus of Tarsus', 'Zeno of Tarsus'),\n",
       " ('Archelaus (philosopher)', 'Agrippa the Skeptic'),\n",
       " ('Archytas', 'Aristippus'),\n",
       " ('Arete of Cyrene', 'Agathobulus'),\n",
       " ('Arignote', 'Anaxagoras'),\n",
       " ('Aristarchus of Samos', 'Aristarchus of Samos'),\n",
       " ('Aristippus', 'Aristippus'),\n",
       " ('Aristippus the Younger', 'Aristo of Alexandria'),\n",
       " ('Aristoclea', 'Aristoclea'),\n",
       " ('Aristocles of Messene', 'Aristocles of Messene'),\n",
       " ('Aristocreon', 'Asclepigenia'),\n",
       " ('Aristo of Alexandria', 'Aristocreon'),\n",
       " ('Aristo of Ceos', 'Aristo of Alexandria'),\n",
       " ('Aristo of Chios', 'Athenaeus of Seleucia'),\n",
       " ('Aristotle', 'Acrion'),\n",
       " ('Aristotle of Cyrene', 'Alexamenus of Teos'),\n",
       " ('Aristotle of Mytilene', 'Aenesidemus'),\n",
       " ('Aristoxenus', 'Ammonius Hermiae'),\n",
       " ('Arius Didymus', 'Alcinous (philosopher)'),\n",
       " ('Asclepiades of Phlius', 'Alexinus'),\n",
       " ('Asclepiades the Cynic', 'Acrion'),\n",
       " ('Asclepigenia', 'Asclepigenia'),\n",
       " ('Asclepiodotus (philosopher)', 'Zeno of Sidon'),\n",
       " ('Asclepiodotus of Alexandria', 'Aeschines of Neapolis'),\n",
       " ('Aspasius', 'Ammonius of Athens'),\n",
       " ('Athenaeus of Seleucia', 'Apollonius of Tyre (philosopher)'),\n",
       " ('Athenodoros Cananites', 'Anaxilaus'),\n",
       " ('Athenodoros Cordylion', 'Archelaus (philosopher)'),\n",
       " ('Athenodorus of Soli', 'Agrippa the Skeptic'),\n",
       " ('Attalus (Stoic)', 'Aristo of Chios'),\n",
       " ('Atticus (philosopher)', 'Aristippus'),\n",
       " ('Basilides (Stoic)', 'Basilides (Stoic)'),\n",
       " ('Tisias', 'Zenodotus (philosopher)'),\n",
       " ('Xenarchus of Seleucia', 'Arius Didymus'),\n",
       " ('Xeniades', 'Aeneas of Gaza'),\n",
       " ('Xenocrates', 'Aristippus'),\n",
       " ('Xenophanes', 'Aristo of Alexandria'),\n",
       " ('Xenophilus', 'Anaxilaus'),\n",
       " ('Xenophon', 'Aristarchus of Samos'),\n",
       " ('Zenobius', 'Antiochus of Ascalon'),\n",
       " ('Zenodotus (philosopher)', 'Amelius'),\n",
       " ('Zeno of Citium', 'Zeno of Elea'),\n",
       " ('Zeno of Elea', 'Andronicus of Rhodes'),\n",
       " ('Zeno of Sidon', 'Zeno of Sidon'),\n",
       " ('Zeno of Tarsus', 'Apollodorus of Athens')]"
      ]
     },
     "execution_count": 61,
     "metadata": {},
     "output_type": "execute_result"
    }
   ],
   "source": [
    "# \"\"\"\n",
    "# Question 3\n",
    "\n",
    "# Use the files under \"Philosophers\" folder to construct an LSI model.\n",
    "# Then, use the LSI model to find the most similar philosopher for each of the philosophers\n",
    "# found in Question 1, based on the content of their Wikipedia articles. You should not go\n",
    "# online to scrape the data; everything you need is in your Jupyter notebook working directory.\n",
    "\n",
    "# The function should have as input the list of tuples created in Question 1.\n",
    "\n",
    "# The output format should be a list of tuples too. Each tuple should contain a philosopher's name\n",
    "# and its most similar other philosopher. Please note both names can't be the same.\n",
    "# \"\"\"\n",
    "\n",
    "\"\"\"\n",
    "The output should look like that:\n",
    "\n",
    "[('Acrion', 'Arignote'),\n",
    " ('Adrastus of Aphrodisias', 'Lycophron (Sophist)'),\n",
    " ('Aedesia', 'Heliodorus of Alexandria'),\n",
    " ('Aedesius', 'Chrysanthius'),\n",
    " ('Aeneas of Gaza', 'Archytas'),\n",
    " ...]\n",
    "\"\"\"\n",
    "\n",
    "def run(filenames):\n",
    "    # return philosopher's filepath \n",
    "    philosopher_files = list()\n",
    "    for filename in filenames:\n",
    "        philosopher_files.append(filename[1])\n",
    "     \n",
    "    # grab philosophers' description\n",
    "    documents = [get_text(philosopher_path) for philosopher_path in philosopher_files]\n",
    "    \n",
    "    # text processing\n",
    "    strip_text_list = list()\n",
    "\n",
    "    for philosopher_text in documents:\n",
    "        striptext = philosopher_text.replace('\\n\\n', ' ')\n",
    "        striptext = striptext.replace('\\n', ' ')\n",
    "        strip_text_list.append(striptext)\n",
    "        \n",
    "    # process text and split each word\n",
    "    texts = [[word for word in document.lower().split()\n",
    "         if word not in STOPWORDS and word.isalnum()]\n",
    "         for document in strip_text_list]\n",
    "    \n",
    "    # create a dictionary (tokenizing)\n",
    "    dictionary = corpora.Dictionary(texts)\n",
    "    \n",
    "    # create corpus\n",
    "    corpus = [dictionary.doc2bow(text) for text in texts]\n",
    "    \n",
    "    \n",
    "    # create LSI model\n",
    "    lsi = models.LsiModel(corpus, id2word=dictionary,num_topics=2)\n",
    "    \n",
    "    # create list of philosophers description\n",
    "    philosophers_description = []\n",
    "    for philosopher_strip_text in strip_text_list:\n",
    "        philosophers_description.append(philosopher_strip_text.split())\n",
    "\n",
    "    # create bag of word for each philosopher\n",
    "    philosophers_bow = []\n",
    "    for single_description in philosophers_description:\n",
    "        single_isalnum = []\n",
    "        for word in single_description:\n",
    "            if word.isalnum() == True:\n",
    "                single_isalnum.append(word)\n",
    "        philosophers_bow.append(single_isalnum)\n",
    "        \n",
    "    # vectorize philosopher bows\n",
    "    sims_list = []\n",
    "    for each_philosopher_bow in philosophers_bow:\n",
    "        vec_bow = dictionary.doc2bow(each_philosopher_bow)\n",
    "        vec_lsi = lsi[vec_bow]\n",
    "        index = similarities.MatrixSimilarity(lsi[corpus])\n",
    "        sims = index[vec_lsi]\n",
    "        sims = sorted(enumerate(sims),key=lambda item: -item[1])\n",
    "        sims_list.append(sims)\n",
    "        \n",
    "    # find position of all sims then name of philosopher\n",
    "    sim_position_list = []\n",
    "    for sim_position in sims_list:\n",
    "        sim_position_list.append(sim_position[0][0])\n",
    "\n",
    "    sim_philosopher_list = []\n",
    "    for sim_position in sim_position_list:\n",
    "        sim_philosopher_list.append(filenames[sim_position][0])\n",
    "    \n",
    "    # append philosopher name and similar philosopher to list\n",
    "    philosopher_names = []\n",
    "    for name in filenames:\n",
    "        philosopher_names.append(name[0])\n",
    "\n",
    "    final_output = [(x,y) for x,y in zip(philosopher_names,sim_philosopher_list)]\n",
    "    return final_output\n",
    "# Once done, try this:\n",
    "run(filenames)"
   ]
  },
  {
   "cell_type": "markdown",
   "metadata": {},
   "source": [
    "# Question 3 (non-functional)"
   ]
  },
  {
   "cell_type": "code",
   "execution_count": 7,
   "metadata": {},
   "outputs": [],
   "source": [
    "import nltk\n",
    "import os\n",
    "import _sqlite3\n",
    "from nltk.corpus import PlaintextCorpusReader\n",
    "from nltk import sent_tokenize,word_tokenize \n",
    "from gensim import corpora, models, similarities\n",
    "from gensim.models.ldamodel import LdaModel\n",
    "from gensim.parsing.preprocessing import STOPWORDS\n",
    "from gensim.similarities.docsim import Similarity\n",
    "\n"
   ]
  },
  {
   "cell_type": "code",
   "execution_count": 36,
   "metadata": {},
   "outputs": [],
   "source": [
    "# list of all philosophers' file path\n",
    "philosopher_files = list()\n",
    "for filename in filenames:\n",
    "#     grabs filepath of philosopher\n",
    "    philosopher_files.append(filename[1])\n",
    "\n",
    "# list of philosophers' text \n",
    "documents = [get_text(philosopher_path) for philosopher_path in philosopher_files]"
   ]
  },
  {
   "cell_type": "code",
   "execution_count": 9,
   "metadata": {},
   "outputs": [],
   "source": [
    "# text preprocessing\n",
    "# philosopher_text_list = contains multiple indexes of philosophers' description\n",
    "strip_text_list = list()\n",
    "\n",
    "for philosopher_text in documents:\n",
    "    striptext = philosopher_text.replace('\\n\\n', ' ')\n",
    "    striptext = striptext.replace('\\n', ' ')\n",
    "\n",
    "##     tokenize all texts: only used when creating LDA (sent_tokenize)\n",
    "#     sentences = sent_tokenize(striptext)\n",
    "\n",
    "    strip_text_list.append(striptext)"
   ]
  },
  {
   "cell_type": "code",
   "execution_count": 10,
   "metadata": {},
   "outputs": [],
   "source": [
    "# lowercase all characters, split the words and remove all special characters\n",
    "# removed: \"word not in STOPWORDS and\"\n",
    "texts = [[word for word in document.lower().split()\n",
    "         if word not in STOPWORDS and word.isalnum()]\n",
    "         for document in strip_text_list]\n",
    "\n",
    "# create word dictionary for each word in a text \n",
    "# tokenizing\n",
    "dictionary = corpora.Dictionary(texts)\n",
    "\n",
    "# create corpus: assigns ints to words\n",
    "# https://radimrehurek.com/gensim/corpora/dictionary.html#gensim.corpora.dictionary.Dictionary.doc2bow\n",
    "# returns (token_id,token_count)\n",
    "corpus = [dictionary.doc2bow(text) for text in texts]"
   ]
  },
  {
   "cell_type": "code",
   "execution_count": 11,
   "metadata": {
    "scrolled": true
   },
   "outputs": [],
   "source": [
    "# train LSI model\n",
    "# id2word takes a dictionary of words\n",
    "lsi = models.LsiModel(corpus, id2word=dictionary,num_topics=2)\n",
    "   \n",
    "# create list of philosophers description\n",
    "philosophers_description = []\n",
    "for philosopher_strip_text in strip_text_list:\n",
    "    philosophers_description.append(philosopher_strip_text.split())\n",
    "   \n",
    "# creating bow for all philosophers\n",
    "philosophers_bow = []\n",
    "for single_description in philosophers_description:\n",
    "    single_isalnum = []\n",
    "    for word in single_description:\n",
    "        if word.isalnum() == True:\n",
    "            single_isalnum.append(word)\n",
    "    philosophers_bow.append(single_isalnum)\n",
    "\n",
    "# vectorize new bow (bag of words)\n",
    "sims_list = []\n",
    "for each_philosopher_bow in philosophers_bow:\n",
    "    vec_bow = dictionary.doc2bow(each_philosopher_bow)\n",
    "    vec_lsi = lsi[vec_bow]\n",
    "    index = similarities.MatrixSimilarity(lsi[corpus])\n",
    "    sims = index[vec_lsi]\n",
    "    sims = sorted(enumerate(sims),key=lambda item: -item[1])\n",
    "    sims_list.append(sims)"
   ]
  },
  {
   "cell_type": "code",
   "execution_count": 60,
   "metadata": {},
   "outputs": [
    {
     "data": {
      "text/plain": [
       "[('Acrion', 'Xenophilus'),\n",
       " ('Adrastus of Aphrodisias', 'Adrastus of Aphrodisias'),\n",
       " ('Aedesia', 'Arius Didymus'),\n",
       " ('Aedesius', 'Alexander of Aphrodisias'),\n",
       " ('Aeneas of Gaza', 'Aeneas of Gaza'),\n",
       " ('Aenesidemus', 'Amelius'),\n",
       " ('Aesara', 'Agathobulus'),\n",
       " ('Aeschines of Neapolis', 'Antisthenes'),\n",
       " ('Aeschines of Sphettus', 'Aristo of Chios'),\n",
       " ('Aetius of Antioch', 'Asclepiades of Phlius'),\n",
       " ('Agapius (philosopher)', 'Alexamenus of Teos'),\n",
       " ('Agathobulus', 'Athenodorus of Soli'),\n",
       " ('Agathosthenes', 'Anaxagoras'),\n",
       " ('Agrippa the Skeptic', 'Agrippa the Skeptic'),\n",
       " ('Albinus (philosopher)', 'Albinus (philosopher)'),\n",
       " ('Alcinous (philosopher)', 'Aedesia'),\n",
       " ('Alcmaeon of Croton', 'Alcmaeon of Croton'),\n",
       " ('Alexamenus of Teos', 'Aristoclea'),\n",
       " ('Alexander of Aegae', 'Alcinous (philosopher)'),\n",
       " ('Alexander of Aphrodisias', 'Tisias'),\n",
       " ('Alexicrates', 'Adrastus of Aphrodisias'),\n",
       " ('Alexinus', 'Alexinus'),\n",
       " ('Amelius', 'Archelaus (philosopher)'),\n",
       " ('Ammonius Hermiae', 'Anaxagoras'),\n",
       " ('Ammonius of Athens', 'Aristo of Ceos'),\n",
       " ('Ammonius Saccas', 'Ammonius Saccas'),\n",
       " ('Anaxagoras', 'Atticus (philosopher)'),\n",
       " ('Anaxarchus', 'Atticus (philosopher)'),\n",
       " ('Anaxilaus', 'Aristocles of Messene'),\n",
       " ('Anaximander', 'Antipater of Cyrene'),\n",
       " ('Anaximenes of Miletus', 'Anaximenes of Miletus'),\n",
       " ('Androcydes (Pythagorean)', 'Ammonius of Athens'),\n",
       " ('Andronicus of Rhodes', 'Asclepiodotus (philosopher)'),\n",
       " ('Anniceris', 'Ammonius Saccas'),\n",
       " ('Antiochus of Ascalon', 'Archytas'),\n",
       " ('Antipater of Cyrene', 'Xenophanes'),\n",
       " ('Antipater of Tarsus', 'Ammonius of Athens'),\n",
       " ('Antipater of Tyre', 'Aeschines of Neapolis'),\n",
       " ('Antisthenes', 'Alexamenus of Teos'),\n",
       " ('Antoninus (philosopher)', 'Agathobulus'),\n",
       " ('Apollodorus of Athens', 'Apollodorus of Athens'),\n",
       " ('Apollodorus of Seleucia', 'Ammonius of Athens'),\n",
       " ('Apollodorus the Epicurean', 'Attalus (Stoic)'),\n",
       " ('Apollonius Cronus', 'Apollonius Cronus'),\n",
       " ('Apollonius of Tyana', 'Apollodorus of Athens'),\n",
       " ('Apollonius of Tyre (philosopher)', 'Andronicus of Rhodes'),\n",
       " ('Arcesilaus', 'Zeno of Sidon'),\n",
       " ('Archedemus of Tarsus', 'Zeno of Tarsus'),\n",
       " ('Archelaus (philosopher)', 'Agrippa the Skeptic'),\n",
       " ('Archytas', 'Aristippus'),\n",
       " ('Arete of Cyrene', 'Agathobulus'),\n",
       " ('Arignote', 'Anaxagoras'),\n",
       " ('Aristarchus of Samos', 'Aristarchus of Samos'),\n",
       " ('Aristippus', 'Aristippus'),\n",
       " ('Aristippus the Younger', 'Aristo of Alexandria'),\n",
       " ('Aristoclea', 'Aristoclea'),\n",
       " ('Aristocles of Messene', 'Aristocles of Messene'),\n",
       " ('Aristocreon', 'Asclepigenia'),\n",
       " ('Aristo of Alexandria', 'Aristocreon'),\n",
       " ('Aristo of Ceos', 'Aristo of Alexandria'),\n",
       " ('Aristo of Chios', 'Athenaeus of Seleucia'),\n",
       " ('Aristotle', 'Acrion'),\n",
       " ('Aristotle of Cyrene', 'Alexamenus of Teos'),\n",
       " ('Aristotle of Mytilene', 'Aenesidemus'),\n",
       " ('Aristoxenus', 'Ammonius Hermiae'),\n",
       " ('Arius Didymus', 'Alcinous (philosopher)'),\n",
       " ('Asclepiades of Phlius', 'Alexinus'),\n",
       " ('Asclepiades the Cynic', 'Acrion'),\n",
       " ('Asclepigenia', 'Asclepigenia'),\n",
       " ('Asclepiodotus (philosopher)', 'Zeno of Sidon'),\n",
       " ('Asclepiodotus of Alexandria', 'Aeschines of Neapolis'),\n",
       " ('Aspasius', 'Ammonius of Athens'),\n",
       " ('Athenaeus of Seleucia', 'Apollonius of Tyre (philosopher)'),\n",
       " ('Athenodoros Cananites', 'Anaxilaus'),\n",
       " ('Athenodoros Cordylion', 'Archelaus (philosopher)'),\n",
       " ('Athenodorus of Soli', 'Agrippa the Skeptic'),\n",
       " ('Attalus (Stoic)', 'Aristo of Chios'),\n",
       " ('Atticus (philosopher)', 'Aristippus'),\n",
       " ('Basilides (Stoic)', 'Basilides (Stoic)'),\n",
       " ('Tisias', 'Zenodotus (philosopher)'),\n",
       " ('Xenarchus of Seleucia', 'Arius Didymus'),\n",
       " ('Xeniades', 'Aeneas of Gaza'),\n",
       " ('Xenocrates', 'Aristippus'),\n",
       " ('Xenophanes', 'Aristo of Alexandria'),\n",
       " ('Xenophilus', 'Anaxilaus'),\n",
       " ('Xenophon', 'Aristarchus of Samos'),\n",
       " ('Zenobius', 'Antiochus of Ascalon'),\n",
       " ('Zenodotus (philosopher)', 'Amelius'),\n",
       " ('Zeno of Citium', 'Zeno of Elea'),\n",
       " ('Zeno of Elea', 'Andronicus of Rhodes'),\n",
       " ('Zeno of Sidon', 'Zeno of Sidon'),\n",
       " ('Zeno of Tarsus', 'Apollodorus of Athens')]"
      ]
     },
     "execution_count": 60,
     "metadata": {},
     "output_type": "execute_result"
    }
   ],
   "source": [
    "# find position of all sims then name of philosopher\n",
    "sim_position_list = []\n",
    "for sim_position in sims_list:\n",
    "    sim_position_list.append(sim_position[0][0])\n",
    "\n",
    "sim_philosopher_list = []\n",
    "for sim_position in sim_position_list:\n",
    "    sim_philosopher_list.append(filenames[sim_position][0])\n",
    "\n",
    "philosopher_names = []\n",
    "for name in filenames:\n",
    "    philosopher_names.append(name[0])\n",
    "final_output = [(x,y) for x,y in zip(philosopher_names,sim_philosopher_list)]\n",
    "final_output\n"
   ]
  },
  {
   "cell_type": "code",
   "execution_count": 13,
   "metadata": {
    "deletable": false,
    "editable": false,
    "nbgrader": {
     "grade": true,
     "grade_id": "Scraping filenames",
     "locked": true,
     "points": "20",
     "solution": false
    }
   },
   "outputs": [],
   "source": [
    "###\n",
    "### AUTOGRADER TEST - DO NOT REMOVE\n",
    "###\n"
   ]
  },
  {
   "cell_type": "code",
   "execution_count": 14,
   "metadata": {
    "deletable": false,
    "editable": false,
    "nbgrader": {
     "grade": true,
     "grade_id": "Text of page",
     "locked": true,
     "points": "20",
     "solution": false
    }
   },
   "outputs": [],
   "source": [
    "###\n",
    "### AUTOGRADER TEST - DO NOT REMOVE\n",
    "###\n"
   ]
  },
  {
   "cell_type": "code",
   "execution_count": 15,
   "metadata": {
    "deletable": false,
    "editable": false,
    "nbgrader": {
     "grade": true,
     "grade_id": "Run LSI",
     "locked": true,
     "points": "60",
     "solution": false
    }
   },
   "outputs": [],
   "source": [
    "###\n",
    "### AUTOGRADER TEST - DO NOT REMOVE\n",
    "###\n"
   ]
  }
 ],
 "metadata": {
  "kernelspec": {
   "display_name": "Python 3",
   "language": "python",
   "name": "python3"
  },
  "language_info": {
   "codemirror_mode": {
    "name": "ipython",
    "version": 3
   },
   "file_extension": ".py",
   "mimetype": "text/x-python",
   "name": "python",
   "nbconvert_exporter": "python",
   "pygments_lexer": "ipython3",
   "version": "3.7.3"
  }
 },
 "nbformat": 4,
 "nbformat_minor": 2
}
