{
 "cells": [
  {
   "cell_type": "code",
   "execution_count": 130,
   "metadata": {},
   "outputs": [],
   "source": [
    "import nltk\n",
    "import os\n",
    "import _sqlite3\n",
    "from nltk.corpus import PlaintextCorpusReader\n",
    "from nltk import sent_tokenize,word_tokenize \n",
    "from gensim import corpora, models, similarities\n",
    "from gensim.models.ldamodel import LdaModel\n",
    "from gensim.parsing.preprocessing import STOPWORDS\n",
    "from gensim.similarities.docsim import Similarity"
   ]
  },
  {
   "cell_type": "code",
   "execution_count": 131,
   "metadata": {},
   "outputs": [],
   "source": [
    "def get_philosophers(filename):\n",
    "    \n",
    "    import codecs\n",
    "    from bs4 import BeautifulSoup\n",
    "    f = codecs.open(filename, 'r', 'utf-8')\n",
    "    soup = BeautifulSoup(f.read(),'lxml')\n",
    "    \n",
    "    philosopher_list = []\n",
    "    \n",
    "    tableRows = soup.find_all('table',class_='wikitable sortable')[0]\n",
    "    data_rows = tableRows.find_all('tr')[1:]\n",
    "    philosopher_name = [] #list containing each philosopher's name\n",
    "    # grabs philosopher name from title an appends to list\n",
    "    for data in data_rows:\n",
    "        philosopher_name.append(data.find('a').get('title'))\n",
    "\n",
    "    # adding path and filename at the end of philosopher's name\n",
    "    for name in philosopher_name:\n",
    "        x = name\n",
    "        y = name,\"Philosophers/\"+ x + '.html'\n",
    "        philosopher_list.append(y)\n",
    "\n",
    "    # returns philosopher list as tuple\n",
    "    return philosopher_list\n",
    "\n",
    "# Once done, try this:\n",
    "filenames = get_philosophers(\"Index.html\")\n",
    "# filenames"
   ]
  },
  {
   "cell_type": "markdown",
   "metadata": {},
   "source": [
    "# Single-P Tag"
   ]
  },
  {
   "cell_type": "code",
   "execution_count": 132,
   "metadata": {},
   "outputs": [],
   "source": [
    "# def get_text(file):\n",
    "#     import codecs\n",
    "#     from bs4 import BeautifulSoup\n",
    "#     f = codecs.open(file, 'r', 'utf-8')\n",
    "#     page_soup = BeautifulSoup(f.read(),'lxml')\n",
    "\n",
    "#     all_text = \"\"\n",
    "\n",
    "#     tag = page_soup.find('p')\n",
    "#     all_text += tag.get_text()\n",
    "#     return all_text\n",
    "# get_text(\"Philosophers/Adrastus of Aphrodisias.html\")"
   ]
  },
  {
   "cell_type": "markdown",
   "metadata": {},
   "source": [
    "# Multiple-P tag"
   ]
  },
  {
   "cell_type": "code",
   "execution_count": 133,
   "metadata": {},
   "outputs": [
    {
     "data": {
      "text/plain": [
       "'Adrastus of Aphrodisias (Greek: Ἄδραστος ὁ Ἀφροδισιεύς; fl. 2nd century) was a Peripatetic philosopher who lived in the 2nd century AD.  He was the author of a treatise on the arrangement of Aristotle\\'s writings and his system of philosophy, quoted by Simplicius,[1] and by Achilles Tatius.  Some commentaries of his on the Timaeus of Plato are also quoted by Porphyry,[2] and a treatise on the Categories of Aristotle by Galen. None of these have survived.[3] He was a competent mathematician, whose writings on harmonics are frequently cited by Theon of Smyrna in the surviving sections of his On Mathematics Useful for the Understanding of Plato.[4]  In the 17th century, a work by Adrastus on harmonics, Περὶ Ἁρμονικῶν (\"On Harmonics\"), was said by Gerhard Johann Vossius to have been preserved, in manuscript, in the Vatican Library, although the manuscript appears to be no longer extant, if indeed this was not an error on Vossius\\' part.[5]\\nAdrastus of Philippi is also reported by Stephanus of Byzantium, as a peripatetic philosopher,[6] he is presumably the same philosopher, unless there was a different, earlier, disciple of Aristotle.[7]\\n'"
      ]
     },
     "execution_count": 133,
     "metadata": {},
     "output_type": "execute_result"
    }
   ],
   "source": [
    "def get_text(file):\n",
    "    import codecs\n",
    "    from bs4 import BeautifulSoup\n",
    "    f = codecs.open(file, 'r', 'utf-8')\n",
    "    page_soup = BeautifulSoup(f.read(),'lxml')\n",
    "\n",
    "    all_text = \"\"\n",
    "\n",
    "    for tag in page_soup.find_all('p'):\n",
    "        all_text += tag.get_text()\n",
    "    return all_text\n",
    "# Once done, try this:\n",
    "get_text(\"Philosophers/Adrastus of Aphrodisias.html\")"
   ]
  },
  {
   "cell_type": "code",
   "execution_count": 134,
   "metadata": {},
   "outputs": [],
   "source": [
    "# list of all philosophers' file path\n",
    "philosopher_files = list()\n",
    "for filename in filenames:\n",
    "#     grabs filepath of philosopher\n",
    "    philosopher_files.append(filename[1])\n",
    "\n",
    "# list of philosophers' text \n",
    "documents = [get_text(philosopher_path) for philosopher_path in philosopher_files]"
   ]
  },
  {
   "cell_type": "code",
   "execution_count": 135,
   "metadata": {},
   "outputs": [],
   "source": [
    "# # text preprocessing\n",
    "# # philosopher_text_list = contains multiple indexes of philosophers' description\n",
    "# strip_text_list = list()\n",
    "\n",
    "# for philosopher_text in documents:\n",
    "#     striptext = philosopher_text.replace('\\n\\n', ' ')\n",
    "#     striptext = striptext.replace('\\n', ' ')\n",
    "\n",
    "# ##     tokenize all texts: only used when creating LDA (sent_tokenize)\n",
    "# #     sentences = sent_tokenize(striptext)\n",
    "\n",
    "#     strip_text_list.append(striptext)\n",
    "# documents"
   ]
  },
  {
   "cell_type": "code",
   "execution_count": 136,
   "metadata": {},
   "outputs": [],
   "source": [
    "# lowercase all characters, split the words and remove all special characters\n",
    "# removed: \"word not in STOPWORDS and\"\n",
    "texts = [[word for word in document.lower().split()\n",
    "         if word.isalnum()]\n",
    "         for document in documents]\n",
    "\n",
    "# create word dictionary for each word in a text \n",
    "# tokenizing\n",
    "dictionary = corpora.Dictionary(texts)\n",
    "\n",
    "# create corpus: assigns ints to words\n",
    "# https://radimrehurek.com/gensim/corpora/dictionary.html#gensim.corpora.dictionary.Dictionary.doc2bow\n",
    "# returns (token_id,token_count)\n",
    "corpus = [dictionary.doc2bow(text) for text in texts]\n",
    "\n",
    "\n",
    "# texts"
   ]
  },
  {
   "cell_type": "code",
   "execution_count": 139,
   "metadata": {},
   "outputs": [],
   "source": [
    "# train LSI model\n",
    "# id2word takes a dictionary of words\n",
    "lsi = models.LsiModel(corpus, id2word=dictionary, num_topics=2)\n",
    "   \n",
    "# create list of philosophers description\n",
    "philosophers_description = []\n",
    "for philosopher_strip_text in strip_text_list:\n",
    "    philosophers_description.append(philosopher_strip_text.split())\n",
    "   \n",
    "# creating bow for all philosophers\n",
    "philosophers_bow = []\n",
    "for single_description in philosophers_description:\n",
    "    single_isalnum = []\n",
    "    for word in single_description:\n",
    "        if word.isalnum() == True:\n",
    "            single_isalnum.append(word)\n",
    "    philosophers_bow.append(single_isalnum)\n",
    "\n",
    "# vectorize new bow (bag of words)\n",
    "sims_list = []\n",
    "for each_philosopher_bow in philosophers_bow:\n",
    "    vec_bow = dictionary.doc2bow(each_philosopher_bow)\n",
    "    vec_lsi = lsi[vec_bow]\n",
    "    index = similarities.MatrixSimilarity(lsi[corpus])\n",
    "    sims = index[vec_lsi]\n",
    "    sims = sorted(enumerate(sims),key=lambda item: -item[1])\n",
    "    sims_list.append(sims)\n",
    "\n",
    "# print(lsi.show_topics(num_topics=-1))\n",
    "# philosophers_bow[0]"
   ]
  },
  {
   "cell_type": "markdown",
   "metadata": {},
   "source": [
    "# Output most similar philosopher"
   ]
  },
  {
   "cell_type": "code",
   "execution_count": 140,
   "metadata": {},
   "outputs": [
    {
     "data": {
      "text/plain": [
       "[('Acrion', 'Acrion'),\n",
       " ('Adrastus of Aphrodisias', 'Archytas'),\n",
       " ('Aedesia', 'Aedesia'),\n",
       " ('Aedesius', 'Agapius (philosopher)'),\n",
       " ('Aeneas of Gaza', 'Tisias'),\n",
       " ('Aenesidemus', 'Xenophanes'),\n",
       " ('Aesara', 'Aesara'),\n",
       " ('Aeschines of Neapolis', 'Apollodorus of Athens'),\n",
       " ('Aeschines of Sphettus', 'Agathosthenes'),\n",
       " ('Aetius of Antioch', 'Aristippus the Younger'),\n",
       " ('Agapius (philosopher)', 'Attalus (Stoic)'),\n",
       " ('Agathobulus', 'Xenophanes'),\n",
       " ('Agathosthenes', 'Anaxilaus'),\n",
       " ('Agrippa the Skeptic', 'Xenocrates'),\n",
       " ('Albinus (philosopher)', 'Zenobius'),\n",
       " ('Alcinous (philosopher)', 'Basilides (Stoic)'),\n",
       " ('Alcmaeon of Croton', 'Aristippus'),\n",
       " ('Alexamenus of Teos', 'Albinus (philosopher)'),\n",
       " ('Alexander of Aegae', 'Alexinus'),\n",
       " ('Alexander of Aphrodisias', 'Atticus (philosopher)'),\n",
       " ('Alexicrates', 'Xeniades'),\n",
       " ('Alexinus', 'Zenodotus (philosopher)'),\n",
       " ('Amelius', 'Amelius'),\n",
       " ('Ammonius Hermiae', 'Anaxarchus'),\n",
       " ('Ammonius of Athens', 'Anniceris'),\n",
       " ('Ammonius Saccas', 'Aristo of Alexandria'),\n",
       " ('Anaxagoras', 'Aristocreon'),\n",
       " ('Anaxarchus', 'Aristocreon'),\n",
       " ('Anaxilaus', 'Archedemus of Tarsus'),\n",
       " ('Anaximander', 'Aedesius'),\n",
       " ('Anaximenes of Miletus', 'Androcydes (Pythagorean)'),\n",
       " ('Androcydes (Pythagorean)', 'Apollonius of Tyana'),\n",
       " ('Andronicus of Rhodes', 'Zenobius'),\n",
       " ('Anniceris', 'Athenaeus of Seleucia'),\n",
       " ('Antiochus of Ascalon', 'Antiochus of Ascalon'),\n",
       " ('Antipater of Cyrene', 'Antipater of Cyrene'),\n",
       " ('Antipater of Tarsus', 'Xenarchus of Seleucia'),\n",
       " ('Antipater of Tyre', 'Aenesidemus'),\n",
       " ('Antisthenes', 'Ammonius of Athens'),\n",
       " ('Antoninus (philosopher)', 'Aristocreon'),\n",
       " ('Apollodorus of Athens', 'Anniceris'),\n",
       " ('Apollodorus of Seleucia', 'Archedemus of Tarsus'),\n",
       " ('Apollodorus the Epicurean', 'Anaximenes of Miletus'),\n",
       " ('Apollonius Cronus', 'Apollonius Cronus'),\n",
       " ('Apollonius of Tyana', 'Anaxarchus'),\n",
       " ('Apollonius of Tyre (philosopher)', 'Zeno of Citium'),\n",
       " ('Arcesilaus', 'Athenodoros Cananites'),\n",
       " ('Archedemus of Tarsus', 'Aristotle'),\n",
       " ('Archelaus (philosopher)', 'Alexander of Aegae'),\n",
       " ('Archytas', 'Ammonius Hermiae'),\n",
       " ('Arete of Cyrene', 'Aristo of Alexandria'),\n",
       " ('Arignote', 'Alcmaeon of Croton'),\n",
       " ('Aristarchus of Samos', 'Agapius (philosopher)'),\n",
       " ('Aristippus', 'Albinus (philosopher)'),\n",
       " ('Aristippus the Younger', 'Aristocles of Messene'),\n",
       " ('Aristoclea', 'Athenodoros Cananites'),\n",
       " ('Aristocles of Messene', 'Archytas'),\n",
       " ('Aristocreon', 'Adrastus of Aphrodisias'),\n",
       " ('Aristo of Alexandria', 'Atticus (philosopher)'),\n",
       " ('Aristo of Ceos', 'Basilides (Stoic)'),\n",
       " ('Aristo of Chios', 'Aristo of Chios'),\n",
       " ('Aristotle', 'Xenophanes'),\n",
       " ('Aristotle of Cyrene', 'Anaxilaus'),\n",
       " ('Aristotle of Mytilene', 'Anniceris'),\n",
       " ('Aristoxenus', 'Anniceris'),\n",
       " ('Arius Didymus', 'Xenarchus of Seleucia'),\n",
       " ('Asclepiades of Phlius', 'Xenocrates'),\n",
       " ('Asclepiades the Cynic', 'Tisias'),\n",
       " ('Asclepigenia', 'Atticus (philosopher)'),\n",
       " ('Asclepiodotus (philosopher)', 'Adrastus of Aphrodisias'),\n",
       " ('Asclepiodotus of Alexandria', 'Albinus (philosopher)'),\n",
       " ('Aspasius', 'Aenesidemus'),\n",
       " ('Athenaeus of Seleucia', 'Aristotle'),\n",
       " ('Athenodoros Cananites', 'Attalus (Stoic)'),\n",
       " ('Athenodoros Cordylion', 'Apollonius Cronus'),\n",
       " ('Athenodorus of Soli', 'Asclepiades the Cynic'),\n",
       " ('Attalus (Stoic)', 'Amelius'),\n",
       " ('Atticus (philosopher)', 'Asclepiodotus of Alexandria'),\n",
       " ('Basilides (Stoic)', 'Apollonius of Tyana'),\n",
       " ('Tisias', 'Tisias'),\n",
       " ('Xenarchus of Seleucia', 'Adrastus of Aphrodisias'),\n",
       " ('Xeniades', 'Antipater of Cyrene'),\n",
       " ('Xenocrates', 'Agrippa the Skeptic'),\n",
       " ('Xenophanes', 'Aesara'),\n",
       " ('Xenophilus', 'Asclepiodotus of Alexandria'),\n",
       " ('Xenophon', 'Arcesilaus'),\n",
       " ('Zenobius', 'Aristo of Alexandria'),\n",
       " ('Zenodotus (philosopher)', 'Anaximander'),\n",
       " ('Zeno of Citium', 'Aristo of Alexandria'),\n",
       " ('Zeno of Elea', 'Anaxagoras'),\n",
       " ('Zeno of Sidon', 'Anaximenes of Miletus'),\n",
       " ('Zeno of Tarsus', 'Archelaus (philosopher)')]"
      ]
     },
     "execution_count": 140,
     "metadata": {},
     "output_type": "execute_result"
    }
   ],
   "source": [
    "# find position of all sims then name of philosopher\n",
    "sim_position_list = []\n",
    "for sim_position in sims_list:\n",
    "    sim_position_list.append(sim_position[0][0])\n",
    "\n",
    "sim_philosopher_list = []\n",
    "for sim_position in sim_position_list:\n",
    "    sim_philosopher_list.append(filenames[sim_position][0])\n",
    "\n",
    "philosopher_names = []\n",
    "for name in filenames:\n",
    "    philosopher_names.append(name[0])\n",
    "final_output = [(x,y) for x,y in zip(philosopher_names,sim_philosopher_list)]\n",
    "final_output\n"
   ]
  },
  {
   "cell_type": "code",
   "execution_count": null,
   "metadata": {},
   "outputs": [],
   "source": []
  }
 ],
 "metadata": {
  "kernelspec": {
   "display_name": "Python 3",
   "language": "python",
   "name": "python3"
  },
  "language_info": {
   "codemirror_mode": {
    "name": "ipython",
    "version": 3
   },
   "file_extension": ".py",
   "mimetype": "text/x-python",
   "name": "python",
   "nbconvert_exporter": "python",
   "pygments_lexer": "ipython3",
   "version": "3.7.3"
  }
 },
 "nbformat": 4,
 "nbformat_minor": 2
}
