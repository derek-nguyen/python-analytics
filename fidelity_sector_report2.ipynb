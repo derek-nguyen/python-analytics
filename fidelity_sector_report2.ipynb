{
 "cells": [
  {
   "cell_type": "code",
   "execution_count": 1,
   "metadata": {},
   "outputs": [
    {
     "data": {
      "text/plain": [
       "\"\\n\\nCheck the following pages to inspect the structure of the site (right click -> inspect):\\n1. https://eresearch.fidelity.com/eresearch/goto/markets_sectors/landing.jhtml \\n2. https://eresearch.fidelity.com/eresearch/markets_sectors/sectors/sectors_in_market.jhtml?tab=learn&sector=50 \\n\\nModify the following fidelity_sector_report so that it returns a json dump\\n(same structure as a dictionary, except for the quotation marks) that contains the \\nfollowing information about each sector:\\n1. The sector name\\n2. The enterprise value (in USD billions)\\n3. The Return on Equity TTM (trailing twelve months, in percentages)\\n4. The dividend yield (in percentages)\\n\\nThe structure of the json dump is given in the assignment description on EdX.\\n\\nYou should expect outputs like following for the first 3 sectors:\\n{'results': {'Communication Services': {'enterprise_value': 286.81,\\n   'return_on_equity': 15.82,\\n   'dividend_yield': 3.91},\\n  'Consumer Discretionary': {'enterprise_value': 279.53,\\n   'return_on_equity': -293.98,\\n   'dividend_yield': 2.32},\\n  'Consumer Staples': {'enterprise_value': 164.55,\\n   'return_on_equity': -5.36,\\n   'dividend_yield': 2.75}}}\\n\\nNote:\\nTo read files, use:\\n\\nwith open('filename') as f:\\n    lines = f.readlines()\\n\""
      ]
     },
     "execution_count": 1,
     "metadata": {},
     "output_type": "execute_result"
    }
   ],
   "source": [
    "\"\"\"\n",
    "\n",
    "Check the following pages to inspect the structure of the site (right click -> inspect):\n",
    "1. https://eresearch.fidelity.com/eresearch/goto/markets_sectors/landing.jhtml \n",
    "2. https://eresearch.fidelity.com/eresearch/markets_sectors/sectors/sectors_in_market.jhtml?tab=learn&sector=50 \n",
    "\n",
    "Modify the following fidelity_sector_report so that it returns a json dump\n",
    "(same structure as a dictionary, except for the quotation marks) that contains the \n",
    "following information about each sector:\n",
    "1. The sector name\n",
    "2. The enterprise value (in USD billions)\n",
    "3. The Return on Equity TTM (trailing twelve months, in percentages)\n",
    "4. The dividend yield (in percentages)\n",
    "\n",
    "The structure of the json dump is given in the assignment description on EdX.\n",
    "\n",
    "You should expect outputs like following for the first 3 sectors:\n",
    "{'results': {'Communication Services': {'enterprise_value': 286.81,\n",
    "   'return_on_equity': 15.82,\n",
    "   'dividend_yield': 3.91},\n",
    "  'Consumer Discretionary': {'enterprise_value': 279.53,\n",
    "   'return_on_equity': -293.98,\n",
    "   'dividend_yield': 2.32},\n",
    "  'Consumer Staples': {'enterprise_value': 164.55,\n",
    "   'return_on_equity': -5.36,\n",
    "   'dividend_yield': 2.75}}}\n",
    "\n",
    "Note:\n",
    "To read files, use:\n",
    "\n",
    "with open('filename') as f:\n",
    "    lines = f.readlines()\n",
    "\"\"\""
   ]
  },
  {
   "cell_type": "code",
   "execution_count": 17,
   "metadata": {},
   "outputs": [],
   "source": [
    "# Run this cell and do not change it\n",
    "with open('Sector Performance.htm') as f:\n",
    "    file1 = f.readlines()\n",
    "from bs4 import BeautifulSoup\n",
    "# \"\".join will join empty spaces \n",
    "sector_perm_results = BeautifulSoup(\"\".join(file1), \"lxml\")\n",
    "sector_perm_names = sector_perm_results.find_all('a',class_='heading1')"
   ]
  },
  {
   "cell_type": "markdown",
   "metadata": {},
   "source": [
    "## Function: Extract sector fundamentals names and values\n",
    "\n",
    "- will be used for each sector"
   ]
  },
  {
   "cell_type": "code",
   "execution_count": 25,
   "metadata": {
    "scrolled": false
   },
   "outputs": [
    {
     "data": {
      "text/plain": [
       "{'enterprise_value': '$286.81B',\n",
       " 'return_on_equity_(ttm)': '15.82%',\n",
       " 'dividend_yield': '3.91%'}"
      ]
     },
     "execution_count": 25,
     "metadata": {},
     "output_type": "execute_result"
    }
   ],
   "source": [
    "def sec_fundamental_extract(file):\n",
    "    with open(file) as f:\n",
    "        communication_services_file = f.readlines()\n",
    "    from bs4 import BeautifulSoup\n",
    "    communication_services_results = BeautifulSoup(\"\".join(communication_services_file),'lxml')\n",
    "    fundamentals = communication_services_results.find_all('div',class_='sec-fundamentals')\n",
    "\n",
    "    # returns sector fundamentals names\n",
    "    list_sec_names = []\n",
    "    for sec_names in fundamentals:\n",
    "        sec_name = sec_names.find_all('a')\n",
    "        for name in sec_name:\n",
    "            list_sec_names.append(name.get_text().lower().replace(\" \",\"_\"))\n",
    "\n",
    "\n",
    "    # returns sector values\n",
    "    sec_fundamentals_dict = {}\n",
    "    list_values = []\n",
    "    for values in fundamentals:\n",
    "        sec_values = values.find_all('td')\n",
    "        for sec_value in sec_values:\n",
    "            list_values.append(sec_value.get_text().strip())\n",
    "\n",
    "# need to return values as floats!!!!!! currently in string format\n",
    "\n",
    "    sec_fundamentals_dict[list_sec_names[2]] = list_values[2]\n",
    "    sec_fundamentals_dict[list_sec_names[6]] = list_values[6]\n",
    "    sec_fundamentals_dict[list_sec_names[9]] = list_values[9]\n",
    "    return sec_fundamentals_dict\n",
    "\n",
    "# test\n",
    "sec_fundamental_extract('Communication Services.htm')"
   ]
  },
  {
   "cell_type": "code",
   "execution_count": 28,
   "metadata": {},
   "outputs": [
    {
     "data": {
      "text/plain": [
       "{'enterprise_value': 286.81, 'return_on_equity': 15.82, 'dividend_yield': 3.91}"
      ]
     },
     "execution_count": 28,
     "metadata": {},
     "output_type": "execute_result"
    }
   ],
   "source": [
    "{'enterprise_value': 286.81, 'return_on_equity': 15.82, 'dividend_yield': 3.91}"
   ]
  },
  {
   "cell_type": "markdown",
   "metadata": {},
   "source": [
    "# Function: Fidelity Sector Report"
   ]
  },
  {
   "cell_type": "code",
   "execution_count": 11,
   "metadata": {},
   "outputs": [],
   "source": [
    "def fidelity_sector_report(file1):\n",
    "    def sec_fundamental_extract(file):\n",
    "        with open(file) as f:\n",
    "            communication_services_file = f.readlines()\n",
    "        from bs4 import BeautifulSoup\n",
    "        communication_services_results = BeautifulSoup(\"\".join(communication_services_file),'lxml')\n",
    "        fundamentals = communication_services_results.find_all('div',class_='sec-fundamentals')\n",
    "\n",
    "        # returns sector fundamentals names (lower_case, remove punctuation)\n",
    "        list_sec_names = []\n",
    "        for sec_names in fundamentals:\n",
    "            sec_name = sec_names.find_all('a')\n",
    "            for name in sec_name:\n",
    "                list_sec_names.append(name.get_text())\n",
    "\n",
    "\n",
    "        # returns sector values\n",
    "        sec_fundamentals_dict = {}\n",
    "        list_values = []\n",
    "        for values in fundamentals:\n",
    "            sec_values = values.find_all('td')\n",
    "            for sec_value in sec_values:\n",
    "                list_values.append(sec_value.get_text().strip())\n",
    "   \n",
    "        sec_fundamentals_dict[list_sec_names[2].lower().replace(\" \",\"_\")] = list_values[2]\n",
    "        sec_fundamentals_dict[list_sec_names[6].lower().replace(\" \",\"_\")] = list_values[6]\n",
    "        sec_fundamentals_dict[list_sec_names[9].lower().replace(\" \",\"_\")] = list_values[9]\n",
    "        return sec_fundamentals_dict\n",
    "    \n",
    "    ref_json = {}\n",
    "    sector_fund_dict = {}\n",
    "    for industry_names in sector_perm_names:\n",
    "        industry_name = industry_names.get_text()\n",
    "        sector_fund_dict[industry_name] = sec_fundamental_extract(industry_name + '.htm')\n",
    "    ref_json['results'] = sector_fund_dict\n",
    "    \n",
    "    return ref_json"
   ]
  },
  {
   "cell_type": "code",
   "execution_count": 12,
   "metadata": {},
   "outputs": [
    {
     "data": {
      "text/plain": [
       "{'results': {'Communication Services': {'enterprise_value': '$286.81B',\n",
       "   'return_on_equity_(ttm)': '15.82%',\n",
       "   'dividend_yield': '3.91%'},\n",
       "  'Consumer Discretionary': {'enterprise_value': '$279.53B',\n",
       "   'return_on_equity_(ttm)': '-293.98%',\n",
       "   'dividend_yield': '2.32%'},\n",
       "  'Consumer Staples': {'enterprise_value': '$164.55B',\n",
       "   'return_on_equity_(ttm)': '-5.36%',\n",
       "   'dividend_yield': '2.75%'},\n",
       "  'Energy': {'enterprise_value': '$138.75B',\n",
       "   'return_on_equity_(ttm)': '14.43%',\n",
       "   'dividend_yield': '4.60%'},\n",
       "  'Financials': {'enterprise_value': '$155.26B',\n",
       "   'return_on_equity_(ttm)': '20.20%',\n",
       "   'dividend_yield': '3.43%'},\n",
       "  'Health Care': {'enterprise_value': '$131.15B',\n",
       "   'return_on_equity_(ttm)': '-985.28%',\n",
       "   'dividend_yield': '2.36%'},\n",
       "  'Industrials': {'enterprise_value': '$63.98B',\n",
       "   'return_on_equity_(ttm)': '-65.18%',\n",
       "   'dividend_yield': '2.11%'},\n",
       "  'Information Technology': {'enterprise_value': '$331.67B',\n",
       "   'return_on_equity_(ttm)': '28.22%',\n",
       "   'dividend_yield': '1.67%'},\n",
       "  'Materials': {'enterprise_value': '$53.49B',\n",
       "   'return_on_equity_(ttm)': '15.47%',\n",
       "   'dividend_yield': '3.00%'},\n",
       "  'Real Estate': {'enterprise_value': '$48.37B',\n",
       "   'return_on_equity_(ttm)': '25.46%',\n",
       "   'dividend_yield': '3.80%'},\n",
       "  'Utilities': {'enterprise_value': '$57.48B',\n",
       "   'return_on_equity_(ttm)': '9.69%',\n",
       "   'dividend_yield': '3.81%'}}}"
      ]
     },
     "execution_count": 12,
     "metadata": {},
     "output_type": "execute_result"
    }
   ],
   "source": [
    "fidelity_sector_report(file1)"
   ]
  },
  {
   "cell_type": "code",
   "execution_count": null,
   "metadata": {},
   "outputs": [],
   "source": [
    "# 1) remove punctuations from sector_fund names\n",
    "# 2) change values to floating numbers"
   ]
  }
 ],
 "metadata": {
  "kernelspec": {
   "display_name": "Python 3",
   "language": "python",
   "name": "python3"
  },
  "language_info": {
   "codemirror_mode": {
    "name": "ipython",
    "version": 3
   },
   "file_extension": ".py",
   "mimetype": "text/x-python",
   "name": "python",
   "nbconvert_exporter": "python",
   "pygments_lexer": "ipython3",
   "version": "3.7.3"
  }
 },
 "nbformat": 4,
 "nbformat_minor": 2
}
