{
 "cells": [
  {
   "cell_type": "code",
   "execution_count": 1,
   "metadata": {},
   "outputs": [
    {
     "data": {
      "text/plain": [
       "\"\\n\\nCheck the following pages to inspect the structure of the site (right click -> inspect):\\n1. https://eresearch.fidelity.com/eresearch/goto/markets_sectors/landing.jhtml \\n2. https://eresearch.fidelity.com/eresearch/markets_sectors/sectors/sectors_in_market.jhtml?tab=learn&sector=50 \\n\\nModify the following fidelity_sector_report so that it returns a json dump\\n(same structure as a dictionary, except for the quotation marks) that contains the \\nfollowing information about each sector:\\n1. The sector name\\n2. The enterprise value (in USD billions)\\n3. The Return on Equity TTM (trailing twelve months, in percentages)\\n4. The dividend yield (in percentages)\\n\\nThe structure of the json dump is given in the assignment description on EdX.\\n\\nYou should expect outputs like following for the first 3 sectors:\\n{'results': {'Communication Services': {'enterprise_value': 286.81,\\n   'return_on_equity': 15.82,\\n   'dividend_yield': 3.91},\\n  'Consumer Discretionary': {'enterprise_value': 279.53,\\n   'return_on_equity': -293.98,\\n   'dividend_yield': 2.32},\\n  'Consumer Staples': {'enterprise_value': 164.55,\\n   'return_on_equity': -5.36,\\n   'dividend_yield': 2.75}}}\\n\\nNote:\\nTo read files, use:\\n\\nwith open('filename') as f:\\n    lines = f.readlines()\\n\""
      ]
     },
     "execution_count": 1,
     "metadata": {},
     "output_type": "execute_result"
    }
   ],
   "source": [
    "\"\"\"\n",
    "\n",
    "Check the following pages to inspect the structure of the site (right click -> inspect):\n",
    "1. https://eresearch.fidelity.com/eresearch/goto/markets_sectors/landing.jhtml \n",
    "2. https://eresearch.fidelity.com/eresearch/markets_sectors/sectors/sectors_in_market.jhtml?tab=learn&sector=50 \n",
    "\n",
    "Modify the following fidelity_sector_report so that it returns a json dump\n",
    "(same structure as a dictionary, except for the quotation marks) that contains the \n",
    "following information about each sector:\n",
    "1. The sector name\n",
    "2. The enterprise value (in USD billions)\n",
    "3. The Return on Equity TTM (trailing twelve months, in percentages)\n",
    "4. The dividend yield (in percentages)\n",
    "\n",
    "The structure of the json dump is given in the assignment description on EdX.\n",
    "\n",
    "You should expect outputs like following for the first 3 sectors:\n",
    "{'results': {'Communication Services': {'enterprise_value': 286.81,\n",
    "   'return_on_equity': 15.82,\n",
    "   'dividend_yield': 3.91},\n",
    "  'Consumer Discretionary': {'enterprise_value': 279.53,\n",
    "   'return_on_equity': -293.98,\n",
    "   'dividend_yield': 2.32},\n",
    "  'Consumer Staples': {'enterprise_value': 164.55,\n",
    "   'return_on_equity': -5.36,\n",
    "   'dividend_yield': 2.75}}}\n",
    "\n",
    "Note:\n",
    "To read files, use:\n",
    "\n",
    "with open('filename') as f:\n",
    "    lines = f.readlines()\n",
    "\"\"\""
   ]
  },
  {
   "cell_type": "code",
   "execution_count": 200,
   "metadata": {},
   "outputs": [
    {
     "ename": "AttributeError",
     "evalue": "ResultSet object has no attribute 'get_text'. You're probably treating a list of items like a single item. Did you call find_all() when you meant to call find()?",
     "output_type": "error",
     "traceback": [
      "\u001b[0;31m---------------------------------------------------------------------------\u001b[0m",
      "\u001b[0;31mAttributeError\u001b[0m                            Traceback (most recent call last)",
      "\u001b[0;32m<ipython-input-200-a70924d73f95>\u001b[0m in \u001b[0;36m<module>\u001b[0;34m\u001b[0m\n\u001b[1;32m     10\u001b[0m \u001b[0;32mfor\u001b[0m \u001b[0msector_perm_name\u001b[0m \u001b[0;32min\u001b[0m \u001b[0msector_perm_table\u001b[0m\u001b[0;34m:\u001b[0m\u001b[0;34m\u001b[0m\u001b[0;34m\u001b[0m\u001b[0m\n\u001b[1;32m     11\u001b[0m \u001b[0;31m#     sector_perm_header = sector_perm_name.find('a',class_='heading1').get_text()\u001b[0m\u001b[0;34m\u001b[0m\u001b[0;34m\u001b[0m\u001b[0;34m\u001b[0m\u001b[0m\n\u001b[0;32m---> 12\u001b[0;31m     \u001b[0mprint\u001b[0m\u001b[0;34m(\u001b[0m\u001b[0msector_perm_name\u001b[0m\u001b[0;34m.\u001b[0m\u001b[0mfind_all\u001b[0m\u001b[0;34m(\u001b[0m\u001b[0;34m'a'\u001b[0m\u001b[0;34m,\u001b[0m\u001b[0mclass_\u001b[0m\u001b[0;34m=\u001b[0m\u001b[0;34m'heading1'\u001b[0m\u001b[0;34m)\u001b[0m\u001b[0;34m.\u001b[0m\u001b[0mget_text\u001b[0m\u001b[0;34m(\u001b[0m\u001b[0;34m)\u001b[0m\u001b[0;34m)\u001b[0m\u001b[0;34m\u001b[0m\u001b[0;34m\u001b[0m\u001b[0m\n\u001b[0m\u001b[1;32m     13\u001b[0m \u001b[0;34m\u001b[0m\u001b[0m\n\u001b[1;32m     14\u001b[0m \u001b[0mprint\u001b[0m\u001b[0;34m(\u001b[0m\u001b[0msector_perm_header\u001b[0m\u001b[0;34m)\u001b[0m\u001b[0;34m\u001b[0m\u001b[0;34m\u001b[0m\u001b[0m\n",
      "\u001b[0;32m~/anaconda3/lib/python3.7/site-packages/bs4/element.py\u001b[0m in \u001b[0;36m__getattr__\u001b[0;34m(self, key)\u001b[0m\n\u001b[1;32m   1618\u001b[0m     \u001b[0;32mdef\u001b[0m \u001b[0m__getattr__\u001b[0m\u001b[0;34m(\u001b[0m\u001b[0mself\u001b[0m\u001b[0;34m,\u001b[0m \u001b[0mkey\u001b[0m\u001b[0;34m)\u001b[0m\u001b[0;34m:\u001b[0m\u001b[0;34m\u001b[0m\u001b[0;34m\u001b[0m\u001b[0m\n\u001b[1;32m   1619\u001b[0m         raise AttributeError(\n\u001b[0;32m-> 1620\u001b[0;31m             \u001b[0;34m\"ResultSet object has no attribute '%s'. You're probably treating a list of items like a single item. Did you call find_all() when you meant to call find()?\"\u001b[0m \u001b[0;34m%\u001b[0m \u001b[0mkey\u001b[0m\u001b[0;34m\u001b[0m\u001b[0;34m\u001b[0m\u001b[0m\n\u001b[0m\u001b[1;32m   1621\u001b[0m         )\n",
      "\u001b[0;31mAttributeError\u001b[0m: ResultSet object has no attribute 'get_text'. You're probably treating a list of items like a single item. Did you call find_all() when you meant to call find()?"
     ]
    }
   ],
   "source": [
    "# Run this cell and do not change it\n",
    "with open('Sector Performance.htm') as f:\n",
    "    sector_perm_file = f.readlines()\n",
    "from bs4 import BeautifulSoup\n",
    "# \"\".join will join empty spaces \n",
    "sector_perm_results = BeautifulSoup(\"\".join(sector_perm_file), \"lxml\")\n",
    "sector_perm_table = sector_perm_results.find_all('tbody',id='tbody_id')\n",
    "\n",
    "# print(sector_perm_table)\n",
    "for sector_perm_name in sector_perm_table:\n",
    "#     sector_perm_header = sector_perm_name.find('a',class_='heading1').get_text()\n",
    "    sector_perm_name.find_all('a',class_='heading1')\n",
    "\n",
    "print(sector_perm_header)"
   ]
  },
  {
   "cell_type": "code",
   "execution_count": 181,
   "metadata": {},
   "outputs": [
    {
     "name": "stdout",
     "output_type": "stream",
     "text": [
      "[<tbody id=\"tbody_id\">\n",
      "<tr>\n",
      "<th scope=\"row\">\n",
      "<a class=\"toggle\" href=\"#\"></a>\n",
      "<div class=\"heading\"><a class=\"heading1\" href=\"/eresearch/markets_sectors/sectors/sectors_in_market.jhtml?tab=learn&amp;sector=50\" id=\"50\"><strong>Communication Services</strong></a></div>\n",
      "<span class=\"byline\">5 Industries</span>\n",
      "</th>\n",
      "<td class=\"sec-col\"></td>\n",
      "<td class=\"change_td\" id=\"lc50\" lastchange=\"0.11\">0.11%</td>\n",
      "</tr>\n",
      "<tr>\n",
      "<th scope=\"row\">\n",
      "<a class=\"toggle\" href=\"#\"></a>\n",
      "<div class=\"heading\"><a class=\"heading1\" href=\"/eresearch/markets_sectors/sectors/sectors_in_market.jhtml?tab=learn&amp;sector=25\" id=\"25\"><strong>Consumer Discretionary</strong></a></div>\n",
      "<span class=\"byline\">11 Industries</span>\n",
      "</th>\n",
      "<td class=\"sec-col\"></td>\n",
      "<td class=\"change_td\" id=\"lc25\" lastchange=\"-0.51\">-0.51%</td>\n",
      "</tr>\n",
      "<tr>\n",
      "<th scope=\"row\">\n",
      "<a class=\"toggle\" href=\"#\"></a>\n",
      "<div class=\"heading\"><a class=\"heading1\" href=\"/eresearch/markets_sectors/sectors/sectors_in_market.jhtml?tab=learn&amp;sector=30\" id=\"30\"><strong>Consumer Staples</strong></a></div>\n",
      "<span class=\"byline\">6 Industries</span>\n",
      "</th>\n",
      "<td class=\"sec-col\"></td>\n",
      "<td class=\"change_td\" id=\"lc30\" lastchange=\"0.27\">0.27%</td>\n",
      "</tr>\n",
      "<tr>\n",
      "<th scope=\"row\">\n",
      "<a class=\"toggle\" href=\"#\"></a>\n",
      "<div class=\"heading\"><a class=\"heading1\" href=\"/eresearch/markets_sectors/sectors/sectors_in_market.jhtml?tab=learn&amp;sector=10\" id=\"10\"><strong>Energy</strong></a></div>\n",
      "<span class=\"byline\">2 Industries</span>\n",
      "</th>\n",
      "<td class=\"sec-col\"></td>\n",
      "<td class=\"change_td\" id=\"lc10\" lastchange=\"-0.93\">-0.93%</td>\n",
      "</tr>\n",
      "<tr>\n",
      "<th scope=\"row\">\n",
      "<a class=\"toggle\" href=\"#\"></a>\n",
      "<div class=\"heading\"><a class=\"heading1\" href=\"/eresearch/markets_sectors/sectors/sectors_in_market.jhtml?tab=learn&amp;sector=40\" id=\"40\"><strong>Financials</strong></a></div>\n",
      "<span class=\"byline\">7 Industries</span>\n",
      "</th>\n",
      "<td class=\"sec-col\"></td>\n",
      "<td class=\"change_td\" id=\"lc40\" lastchange=\"-0.33\">-0.33%</td>\n",
      "</tr>\n",
      "<tr>\n",
      "<th scope=\"row\">\n",
      "<a class=\"toggle\" href=\"#\"></a>\n",
      "<div class=\"heading\"><a class=\"heading1\" href=\"/eresearch/markets_sectors/sectors/sectors_in_market.jhtml?tab=learn&amp;sector=35\" id=\"35\"><strong>Health Care</strong></a></div>\n",
      "<span class=\"byline\">6 Industries</span>\n",
      "</th>\n",
      "<td class=\"sec-col\"></td>\n",
      "<td class=\"change_td\" id=\"lc35\" lastchange=\"-0.50\">-0.50%</td>\n",
      "</tr>\n",
      "<tr>\n",
      "<th scope=\"row\">\n",
      "<a class=\"toggle\" href=\"#\"></a>\n",
      "<div class=\"heading\"><a class=\"heading1\" href=\"/eresearch/markets_sectors/sectors/sectors_in_market.jhtml?tab=learn&amp;sector=20\" id=\"20\"><strong>Industrials</strong></a></div>\n",
      "<span class=\"byline\">14 Industries</span>\n",
      "</th>\n",
      "<td class=\"sec-col\"></td>\n",
      "<td class=\"change_td\" id=\"lc20\" lastchange=\"-0.23\">-0.23%</td>\n",
      "</tr>\n",
      "<tr>\n",
      "<th scope=\"row\">\n",
      "<a class=\"toggle\" href=\"#\"></a>\n",
      "<div class=\"heading\"><a class=\"heading1\" href=\"/eresearch/markets_sectors/sectors/sectors_in_market.jhtml?tab=learn&amp;sector=45\" id=\"45\"><strong>Information Technology</strong></a></div>\n",
      "<span class=\"byline\">6 Industries</span>\n",
      "</th>\n",
      "<td class=\"sec-col\"></td>\n",
      "<td class=\"change_td\" id=\"lc45\" lastchange=\"0.15\">0.15%</td>\n",
      "</tr>\n",
      "<tr>\n",
      "<th scope=\"row\">\n",
      "<a class=\"toggle\" href=\"#\"></a>\n",
      "<div class=\"heading\"><a class=\"heading1\" href=\"/eresearch/markets_sectors/sectors/sectors_in_market.jhtml?tab=learn&amp;sector=15\" id=\"15\"><strong>Materials</strong></a></div>\n",
      "<span class=\"byline\">5 Industries</span>\n",
      "</th>\n",
      "<td class=\"sec-col\"></td>\n",
      "<td class=\"change_td\" id=\"lc15\" lastchange=\"0.45\">0.45%</td>\n",
      "</tr>\n",
      "<tr>\n",
      "<th scope=\"row\">\n",
      "<a class=\"toggle\" href=\"#\"></a>\n",
      "<div class=\"heading\"><a class=\"heading1\" href=\"/eresearch/markets_sectors/sectors/sectors_in_market.jhtml?tab=learn&amp;sector=60\" id=\"60\"><strong>Real Estate</strong></a></div>\n",
      "<span class=\"byline\">2 Industries</span>\n",
      "</th>\n",
      "<td class=\"sec-col\"></td>\n",
      "<td class=\"change_td\" id=\"lc60\" lastchange=\"-0.46\">-0.46%</td>\n",
      "</tr>\n",
      "<tr>\n",
      "<th scope=\"row\">\n",
      "<a class=\"toggle\" href=\"#\"></a>\n",
      "<div class=\"heading\"><a class=\"heading1\" href=\"/eresearch/markets_sectors/sectors/sectors_in_market.jhtml?tab=learn&amp;sector=55\" id=\"55\"><strong>Utilities</strong></a></div>\n",
      "<span class=\"byline\">5 Industries</span>\n",
      "</th>\n",
      "<td class=\"sec-col\"></td>\n",
      "<td class=\"change_td\" id=\"lc55\" lastchange=\"0.02\">0.02%</td>\n",
      "</tr>\n",
      "<tr style=\"display:none;\"><td><div id=\"asOfData_last\" style=\"display:none\">AS OF 05:06 PM ET 06/24/2019</div></td></tr>\n",
      "</tbody>]\n"
     ]
    }
   ],
   "source": [
    "print(sector_perm_table)"
   ]
  },
  {
   "cell_type": "markdown",
   "metadata": {},
   "source": [
    "## Sector Fundamentals Names and Values\n",
    "\n",
    "- will be used for each sector"
   ]
  },
  {
   "cell_type": "code",
   "execution_count": 147,
   "metadata": {
    "scrolled": false
   },
   "outputs": [
    {
     "data": {
      "text/plain": [
       "{'Enterprise Value': '$286.81B',\n",
       " 'Return on Equity (TTM)': '15.82%',\n",
       " 'Dividend Yield': '3.91%'}"
      ]
     },
     "execution_count": 147,
     "metadata": {},
     "output_type": "execute_result"
    }
   ],
   "source": [
    "with open('Communication Services.htm') as f:\n",
    "    communication_services_file = f.readlines()\n",
    "from bs4 import BeautifulSoup\n",
    "communication_services_results = BeautifulSoup(\"\".join(communication_services_file),'lxml')\n",
    "fundamentals = communication_services_results.find_all('div',class_='sec-fundamentals')\n",
    "\n",
    "# returns sector fundamentals names\n",
    "list_sec_names = []\n",
    "for sec_names in fundamentals:\n",
    "    sec_name = sec_names.find_all('a')\n",
    "    for name in sec_name:\n",
    "        list_sec_names.append(name.get_text())\n",
    "\n",
    "\n",
    "# returns sector values\n",
    "sec_fundamentals_dict = {}\n",
    "list_values = []\n",
    "for values in fundamentals:\n",
    "    sec_values = values.find_all('td')\n",
    "    for sec_value in sec_values:\n",
    "        list_values.append(sec_value.get_text().strip())\n",
    "\n",
    "# return sector names and values\n",
    "\n",
    "sec_fundamentals_dict[list_sec_names[2]] = list_values[2]\n",
    "sec_fundamentals_dict[list_sec_names[6]] = list_values[6]\n",
    "sec_fundamentals_dict[list_sec_names[9]] = list_values[9]\n",
    "sec_fundamentals_dict"
   ]
  },
  {
   "cell_type": "code",
   "execution_count": null,
   "metadata": {},
   "outputs": [],
   "source": []
  }
 ],
 "metadata": {
  "kernelspec": {
   "display_name": "Python 3",
   "language": "python",
   "name": "python3"
  },
  "language_info": {
   "codemirror_mode": {
    "name": "ipython",
    "version": 3
   },
   "file_extension": ".py",
   "mimetype": "text/x-python",
   "name": "python",
   "nbconvert_exporter": "python",
   "pygments_lexer": "ipython3",
   "version": "3.7.3"
  }
 },
 "nbformat": 4,
 "nbformat_minor": 2
}
