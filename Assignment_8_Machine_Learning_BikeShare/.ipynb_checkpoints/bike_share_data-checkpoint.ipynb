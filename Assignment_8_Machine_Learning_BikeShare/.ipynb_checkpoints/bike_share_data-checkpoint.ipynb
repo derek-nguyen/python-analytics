{
 "cells": [
  {
   "cell_type": "markdown",
   "metadata": {
    "deletable": false,
    "editable": false,
    "nbgrader": {
     "grade": false,
     "locked": true,
     "solution": false
    }
   },
   "source": [
    "## There are some instructions you need to follow:\n",
    "<li> You only need to write your code in the comment area \"Your Code Here\".</li>\n",
    "<li>Do not upload your own file. Please make the necessary changes in the Jupyter notebook file already present in the server.</li>\n",
    "<li>Please note, there are several cells in the Assignment Jupyter notebook that are empty and read only. Do not attempt to remove them or   edit them. They are used in grading your notebook. Doing so might lead to 0 points.</li>"
   ]
  },
  {
   "cell_type": "code",
   "execution_count": 6,
   "metadata": {
    "collapsed": true
   },
   "outputs": [],
   "source": [
    "import numpy as np\n",
    "import pandas as pd\n",
    "from sklearn import datasets, linear_model\n",
    "\n",
    "\"\"\"\n",
    "Question 1\n",
    "\n",
    "Transform the data.\n",
    "\"\"\"\n",
    "\n",
    "\n",
    "def filter_bike_data(filename = 'bikeshare_data.csv'):\n",
    "    data = pd.read_csv(filename,header=0)\n",
    "\n",
    "        \n",
    "    ###\n",
    "    ### YOUR CODE HERE\n",
    "    ###\n",
    "    data.to_csv('filtered.csv', index=False)\n",
    "\n",
    "    "
   ]
  },
  {
   "cell_type": "code",
   "execution_count": null,
   "metadata": {
    "collapsed": true
   },
   "outputs": [],
   "source": [
    "\"\"\"\n",
    "Question 2\n",
    "\n",
    "Build the model and predict.\n",
    "\"\"\"\n",
    "    \n",
    "def build_and_predict():\n",
    "    data = pd.read_csv('filtered.csv')\n",
    "    predict_data = pd.read_csv('topredict.csv')\n",
    "    \n",
    "     ###\n",
    "     ### YOUR CODE HERE\n",
    "     ###\n",
    "    final_sol.to_csv('predictions.csv')"
   ]
  },
  {
   "cell_type": "code",
   "execution_count": null,
   "metadata": {
    "collapsed": true,
    "deletable": false,
    "editable": false,
    "nbgrader": {
     "grade": false,
     "locked": true,
     "solution": false
    },
    "scrolled": true
   },
   "outputs": [],
   "source": [
    "# Read-only\n",
    "filter_bike_data()"
   ]
  },
  {
   "cell_type": "code",
   "execution_count": null,
   "metadata": {
    "collapsed": true,
    "deletable": false,
    "editable": false,
    "nbgrader": {
     "grade": true,
     "grade_id": "Transformation",
     "locked": true,
     "points": "50",
     "solution": false
    }
   },
   "outputs": [],
   "source": [
    "###\n",
    "### AUTOGRADER TEST - DO NOT REMOVE\n",
    "###\n"
   ]
  },
  {
   "cell_type": "code",
   "execution_count": null,
   "metadata": {
    "collapsed": true,
    "scrolled": true
   },
   "outputs": [],
   "source": [
    "# Read-only\n",
    "build_and_predict()"
   ]
  },
  {
   "cell_type": "code",
   "execution_count": null,
   "metadata": {
    "collapsed": true,
    "deletable": false,
    "editable": false,
    "nbgrader": {
     "grade": true,
     "grade_id": "Prediction",
     "locked": true,
     "points": "50",
     "solution": false
    },
    "scrolled": true
   },
   "outputs": [],
   "source": [
    "###\n",
    "### AUTOGRADER TEST - DO NOT REMOVE\n",
    "###\n"
   ]
  },
  {
   "cell_type": "code",
   "execution_count": null,
   "metadata": {
    "collapsed": true
   },
   "outputs": [],
   "source": []
  }
 ],
 "metadata": {
  "kernelspec": {
   "display_name": "Python 3",
   "language": "python",
   "name": "python3"
  },
  "language_info": {
   "codemirror_mode": {
    "name": "ipython",
    "version": 3
   },
   "file_extension": ".py",
   "mimetype": "text/x-python",
   "name": "python",
   "nbconvert_exporter": "python",
   "pygments_lexer": "ipython3",
   "version": "3.7.3"
  }
 },
 "nbformat": 4,
 "nbformat_minor": 2
}
