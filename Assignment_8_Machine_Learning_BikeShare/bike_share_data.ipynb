{
 "cells": [
  {
   "cell_type": "markdown",
   "metadata": {
    "deletable": false,
    "editable": false,
    "nbgrader": {
     "grade": false,
     "locked": true,
     "solution": false
    }
   },
   "source": [
    "## There are some instructions you need to follow:\n",
    "<li> You only need to write your code in the comment area \"Your Code Here\".</li>\n",
    "<li>Do not upload your own file. Please make the necessary changes in the Jupyter notebook file already present in the server.</li>\n",
    "<li>Please note, there are several cells in the Assignment Jupyter notebook that are empty and read only. Do not attempt to remove them or   edit them. They are used in grading your notebook. Doing so might lead to 0 points.</li>"
   ]
  },
  {
   "cell_type": "code",
   "execution_count": 3,
   "metadata": {},
   "outputs": [],
   "source": [
    "import numpy as np\n",
    "import pandas as pd\n",
    "from sklearn import datasets, linear_model\n",
    "\n",
    "\"\"\"\n",
    "Question 1\n",
    "\n",
    "Transform the data.\n",
    "\"\"\"\n",
    "\n",
    "\n",
    "def filter_bike_data(filename = 'bikeshare_data.csv'):\n",
    "    data = pd.read_csv(filename,header=0)\n",
    "    noHolidayData = data.drop(data[data.holiday==1].index)\n",
    "    noWorkingDay = noHolidayData.drop(noHolidayData[noHolidayData.workingday==0].index)\n",
    "    workingTime = noWorkingDay[(noWorkingDay['hr'] >= 9) & (noWorkingDay['hr'] <= 17)]\n",
    "    filteredData = workingTime[['temp','hum','windspeed','cnt']]\n",
    "    data = filteredData\n",
    "    return data.to_csv('filtered.csv', index=False)\n",
    "\n",
    "    "
   ]
  },
  {
   "cell_type": "code",
   "execution_count": 4,
   "metadata": {},
   "outputs": [],
   "source": [
    "\"\"\"\n",
    "Question 2\n",
    "\n",
    "Build the model and predict.\n",
    "\"\"\"\n",
    "    \n",
    "def build_and_predict():\n",
    "    import numpy\n",
    "    from sklearn import linear_model\n",
    "    import pandas as pd\n",
    "    from pandas import DataFrame\n",
    "    \n",
    "    data = pd.read_csv('filtered.csv')\n",
    "    predict_data = pd.read_csv('topredict.csv')\n",
    "\n",
    "    \n",
    "    reg = linear_model.LinearRegression()\n",
    "    reg.fit(data[['temp','hum','windspeed']],data.cnt)\n",
    "    \n",
    "    predict_data['cnt'] = reg.predict(predict_data[['temp','hum','windspeed']])\n",
    "    predict_data['cnt']=np.where(predict_data['cnt']>=170,1,0)\n",
    "    final_sol = predict_data['cnt']\n",
    "    final_sol.to_csv('predictions.csv')\n",
    "    return final_sol"
   ]
  },
  {
   "cell_type": "code",
   "execution_count": 5,
   "metadata": {
    "deletable": false,
    "editable": false,
    "nbgrader": {
     "grade": false,
     "locked": true,
     "solution": false
    },
    "scrolled": true
   },
   "outputs": [],
   "source": [
    "# Read-only\n",
    "filter_bike_data()"
   ]
  },
  {
   "cell_type": "code",
   "execution_count": 6,
   "metadata": {
    "deletable": false,
    "editable": false,
    "nbgrader": {
     "grade": true,
     "grade_id": "Transformation",
     "locked": true,
     "points": "50",
     "solution": false
    }
   },
   "outputs": [],
   "source": [
    "###\n",
    "### AUTOGRADER TEST - DO NOT REMOVE\n",
    "###\n"
   ]
  },
  {
   "cell_type": "code",
   "execution_count": 7,
   "metadata": {
    "scrolled": true
   },
   "outputs": [
    {
     "name": "stderr",
     "output_type": "stream",
     "text": [
      "//anaconda3/lib/python3.7/site-packages/ipykernel_launcher.py:23: FutureWarning: The signature of `Series.to_csv` was aligned to that of `DataFrame.to_csv`, and argument 'header' will change its default value from False to True: please pass an explicit value to suppress this warning.\n"
     ]
    },
    {
     "data": {
      "text/plain": [
       "0      0\n",
       "1      0\n",
       "2      0\n",
       "3      0\n",
       "4      0\n",
       "5      0\n",
       "6      0\n",
       "7      0\n",
       "8      0\n",
       "9      0\n",
       "10     0\n",
       "11     0\n",
       "12     0\n",
       "13     0\n",
       "14     0\n",
       "15     0\n",
       "16     0\n",
       "17     0\n",
       "18     0\n",
       "19     0\n",
       "20     0\n",
       "21     0\n",
       "22     0\n",
       "23     0\n",
       "24     1\n",
       "25     1\n",
       "26     1\n",
       "27     1\n",
       "28     1\n",
       "29     1\n",
       "      ..\n",
       "470    1\n",
       "471    1\n",
       "472    0\n",
       "473    0\n",
       "474    1\n",
       "475    1\n",
       "476    0\n",
       "477    0\n",
       "478    0\n",
       "479    0\n",
       "480    0\n",
       "481    0\n",
       "482    0\n",
       "483    0\n",
       "484    0\n",
       "485    0\n",
       "486    0\n",
       "487    0\n",
       "488    0\n",
       "489    1\n",
       "490    1\n",
       "491    1\n",
       "492    1\n",
       "493    1\n",
       "494    0\n",
       "495    0\n",
       "496    0\n",
       "497    0\n",
       "498    0\n",
       "499    0\n",
       "Name: cnt, Length: 500, dtype: int64"
      ]
     },
     "execution_count": 7,
     "metadata": {},
     "output_type": "execute_result"
    }
   ],
   "source": [
    "# Read-only\n",
    "build_and_predict()"
   ]
  },
  {
   "cell_type": "code",
   "execution_count": null,
   "metadata": {
    "collapsed": true,
    "deletable": false,
    "editable": false,
    "nbgrader": {
     "grade": true,
     "grade_id": "Prediction",
     "locked": true,
     "points": "50",
     "solution": false
    },
    "scrolled": true
   },
   "outputs": [],
   "source": [
    "###\n",
    "### AUTOGRADER TEST - DO NOT REMOVE\n",
    "###\n"
   ]
  },
  {
   "cell_type": "code",
   "execution_count": null,
   "metadata": {
    "collapsed": true
   },
   "outputs": [],
   "source": []
  }
 ],
 "metadata": {
  "kernelspec": {
   "display_name": "Python 3",
   "language": "python",
   "name": "python3"
  },
  "language_info": {
   "codemirror_mode": {
    "name": "ipython",
    "version": 3
   },
   "file_extension": ".py",
   "mimetype": "text/x-python",
   "name": "python",
   "nbconvert_exporter": "python",
   "pygments_lexer": "ipython3",
   "version": "3.7.3"
  }
 },
 "nbformat": 4,
 "nbformat_minor": 2
}
