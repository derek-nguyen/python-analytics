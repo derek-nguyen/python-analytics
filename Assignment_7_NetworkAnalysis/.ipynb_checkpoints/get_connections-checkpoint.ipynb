{
 "cells": [
  {
   "cell_type": "markdown",
   "metadata": {
    "deletable": false,
    "editable": false,
    "nbgrader": {
     "grade": false,
     "locked": true,
     "solution": false
    }
   },
   "source": [
    "## There are some instructions you need to follow:\n",
    "<li> You only need to write your code in the comment area \"Your Code Here\".</li>\n",
    "<li>Do not upload your own file. Please make the necessary changes in the Jupyter notebook file already present in the server.</li>\n",
    "<li>Please note, there are several cells in the Assignment Jupyter notebook that are empty and read only. Do not attempt to remove them or   edit them. They are used in grading your notebook. Doing so might lead to 0 points.</li>"
   ]
  },
  {
   "cell_type": "code",
   "execution_count": null,
   "metadata": {
    "collapsed": true
   },
   "outputs": [],
   "source": [
    "\"\"\"\n",
    "Modify the following get_max_neighbor function so that it takes a network and a node as\n",
    "arguments, and  returns a list containing the name of the neighboring station with most \n",
    "trips and the number of trips.\n",
    "\n",
    "Example of use:\n",
    "get_max_neighbor(G,'Newport Pkwy')\n",
    "should return the following list:\n",
    "\n",
    "['Lafayette Park', 74]\n",
    "\n",
    "\"\"\"\n",
    "\n",
    "#Here's the grph to look at-\n",
    "# import networkx as nx\n",
    "# G = nx.Graph()\n",
    "# nodes = ['Newport Pkwy', 'Lafayette Park', 'JCBS Depot', 'Fairmount Ave',\n",
    "#          'Liberty Light Rail', 'Jackson Square', 'City Hall', 'Sip Ave']\n",
    "# edges = [('Newport Pkwy', 'Lafayette Park', {'count': 74}),\n",
    "#          ('Newport Pkwy', 'JCBS Depot', {'count': 50}),\n",
    "#          ('Newport Pkwy', 'Liberty Light Rail', {'count': 11}),\n",
    "#          ('Lafayette Park', 'Fairmount Ave', {'count': 97}),\n",
    "#          ('Lafayette Park', 'Sip Ave', {'count': 87}),\n",
    "#          ('JCBS Depot', 'Sip Ave', {'count': 69}),\n",
    "#          ('JCBS Depot', 'City Hall', {'count': 6}),\n",
    "#          ('JCBS Depot', 'Fairmount Ave', {'count': 71}),\n",
    "#          ('JCBS Depot', 'Liberty Light Rail', {'count': 4}),\n",
    "#          ('Fairmount Ave', 'Liberty Light Rail', {'count': 2}),\n",
    "#          ('Liberty Light Rail', 'Jackson Square', {'count': 59}),\n",
    "#          ('Liberty Light Rail', 'City Hall', {'count': 52}),\n",
    "#          ('Jackson Square', 'City Hall', {'count': 38})]\n",
    "# G.add_nodes_from(nodes)\n",
    "# G.add_edges_from(edges)\n",
    "\n",
    "def get_max_neighbor(graph,node):\n",
    "    ###\n",
    "    ### YOUR CODE HERE\n",
    "    ###\n"
   ]
  },
  {
   "cell_type": "code",
   "execution_count": null,
   "metadata": {
    "collapsed": true,
    "deletable": false,
    "editable": false,
    "nbgrader": {
     "grade": true,
     "grade_id": "Test 1",
     "locked": true,
     "points": "5",
     "solution": false
    }
   },
   "outputs": [],
   "source": [
    "###\n",
    "### AUTOGRADER TEST - DO NOT REMOVE\n",
    "###\n"
   ]
  },
  {
   "cell_type": "code",
   "execution_count": null,
   "metadata": {
    "collapsed": true,
    "deletable": false,
    "editable": false,
    "nbgrader": {
     "grade": true,
     "grade_id": "Test 2",
     "locked": true,
     "points": "5",
     "solution": false
    }
   },
   "outputs": [],
   "source": [
    "###\n",
    "### AUTOGRADER TEST - DO NOT REMOVE\n",
    "###\n"
   ]
  }
 ],
 "metadata": {
  "kernelspec": {
   "display_name": "Python 3",
   "language": "python",
   "name": "python3"
  },
  "language_info": {
   "codemirror_mode": {
    "name": "ipython",
    "version": 3
   },
   "file_extension": ".py",
   "mimetype": "text/x-python",
   "name": "python",
   "nbconvert_exporter": "python",
   "pygments_lexer": "ipython3",
   "version": "3.7.3"
  }
 },
 "nbformat": 4,
 "nbformat_minor": 2
}
