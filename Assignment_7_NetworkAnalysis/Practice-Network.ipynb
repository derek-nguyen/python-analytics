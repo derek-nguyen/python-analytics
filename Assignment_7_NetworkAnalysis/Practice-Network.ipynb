{
 "cells": [
  {
   "cell_type": "markdown",
   "metadata": {},
   "source": [
    "# Function"
   ]
  },
  {
   "cell_type": "code",
   "execution_count": 34,
   "metadata": {},
   "outputs": [
    {
     "data": {
      "text/plain": [
       "['Fairmount Ave', 71]"
      ]
     },
     "execution_count": 34,
     "metadata": {},
     "output_type": "execute_result"
    }
   ],
   "source": [
    "\"\"\"\n",
    "Modify the following get_max_neighbor function so that it takes a network and a node as\n",
    "arguments, and  returns a list containing the name of the neighboring station with most \n",
    "trips and the number of trips.\n",
    "\n",
    "Example of use:\n",
    "get_max_neighbor(G,'Newport Pkwy')\n",
    "should return the following list:\n",
    "\n",
    "['Lafayette Park', 74]\n",
    "\n",
    "\"\"\"\n",
    "\n",
    "def get_max_neighbor(graph,node):\n",
    "    edgeNode = list(G.edges(nbunch=node,data=True))\n",
    "\n",
    "    edge_node_values = []\n",
    "    for values in edgeNode:\n",
    "        edge_node_values.append((values[1],values[2]['count']))\n",
    "    edgeMaxValue = max(edge_node_values, key=lambda x : x[1])\n",
    "    return list(edgeMaxValue)\n",
    "get_max_neighbor(G,'JCBS Depot')\n"
   ]
  },
  {
   "cell_type": "markdown",
   "metadata": {},
   "source": [
    "# Non-Function"
   ]
  },
  {
   "cell_type": "code",
   "execution_count": 20,
   "metadata": {},
   "outputs": [],
   "source": [
    "import networkx as nx\n",
    "G = nx.Graph()\n",
    "nodes = ['Newport Pkwy', 'Lafayette Park', 'JCBS Depot', 'Fairmount Ave',\n",
    "         'Liberty Light Rail', 'Jackson Square', 'City Hall', 'Sip Ave']\n",
    "edges = [('Newport Pkwy', 'Lafayette Park', {'count': 80}), #74\n",
    "         ('Newport Pkwy', 'JCBS Depot', {'count': 50}),\n",
    "         ('Newport Pkwy', 'Liberty Light Rail', {'count': 12}),\n",
    "         ('Lafayette Park', 'Fairmount Ave', {'count': 97}),\n",
    "         ('Lafayette Park', 'Sip Ave', {'count': 87}),\n",
    "         ('JCBS Depot', 'Sip Ave', {'count': 69}),\n",
    "         ('JCBS Depot', 'City Hall', {'count': 6}),\n",
    "         ('JCBS Depot', 'Fairmount Ave', {'count': 71}),\n",
    "         ('JCBS Depot', 'Liberty Light Rail', {'count': 4}),\n",
    "         ('Fairmount Ave', 'Liberty Light Rail', {'count': 2}),\n",
    "         ('Liberty Light Rail', 'Jackson Square', {'count': 59}),\n",
    "         ('Liberty Light Rail', 'City Hall', {'count': 52}),\n",
    "         ('Jackson Square', 'City Hall', {'count': 38})]\n",
    "G.add_nodes_from(nodes)\n",
    "G.add_edges_from(edges)"
   ]
  },
  {
   "cell_type": "code",
   "execution_count": 21,
   "metadata": {},
   "outputs": [
    {
     "data": {
      "text/plain": [
       "[('Newport Pkwy', 'Lafayette Park', {'count': 80}),\n",
       " ('Newport Pkwy', 'JCBS Depot', {'count': 50}),\n",
       " ('Newport Pkwy', 'Liberty Light Rail', {'count': 12})]"
      ]
     },
     "execution_count": 21,
     "metadata": {},
     "output_type": "execute_result"
    }
   ],
   "source": [
    "# select Node\n",
    "# switch nbunch with \"nodes\" after testing\n",
    "singleNode = 'Newport Pkwy'\n",
    "edgeNode = list(G.edges(nbunch=singleNode,data=True))\n",
    "edgeNode"
   ]
  },
  {
   "cell_type": "code",
   "execution_count": 22,
   "metadata": {
    "scrolled": false
   },
   "outputs": [
    {
     "data": {
      "text/plain": [
       "[('Lafayette Park', 80), ('JCBS Depot', 50), ('Liberty Light Rail', 12)]"
      ]
     },
     "execution_count": 22,
     "metadata": {},
     "output_type": "execute_result"
    }
   ],
   "source": [
    "# creating new list of connecting edges and their values\n",
    "edge_node_values = []\n",
    "for values in edgeNode:\n",
    "    edge_node_values.append((values[1],values[2]['count']))\n",
    "edge_node_values"
   ]
  },
  {
   "cell_type": "code",
   "execution_count": 29,
   "metadata": {},
   "outputs": [
    {
     "data": {
      "text/plain": [
       "['Lafayette Park', 80]"
      ]
     },
     "execution_count": 29,
     "metadata": {},
     "output_type": "execute_result"
    }
   ],
   "source": [
    "# return the edge with the highest value\n",
    "edgeMaxValue = max(edge_node_values, key=lambda x : x[1])\n",
    "\n",
    "list(edgeMaxValue)"
   ]
  },
  {
   "cell_type": "code",
   "execution_count": null,
   "metadata": {},
   "outputs": [],
   "source": []
  }
 ],
 "metadata": {
  "kernelspec": {
   "display_name": "Python 3",
   "language": "python",
   "name": "python3"
  },
  "language_info": {
   "codemirror_mode": {
    "name": "ipython",
    "version": 3
   },
   "file_extension": ".py",
   "mimetype": "text/x-python",
   "name": "python",
   "nbconvert_exporter": "python",
   "pygments_lexer": "ipython3",
   "version": "3.7.3"
  }
 },
 "nbformat": 4,
 "nbformat_minor": 2
}
