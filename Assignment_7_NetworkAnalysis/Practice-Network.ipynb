{
 "cells": [
  {
   "cell_type": "code",
   "execution_count": 1,
   "metadata": {},
   "outputs": [
    {
     "data": {
      "text/plain": [
       "\"\\nModify the following get_max_neighbor function so that it takes a network and a node as\\narguments, and  returns a list containing the name of the neighboring station with most \\ntrips and the number of trips.\\n\\nExample of use:\\nget_max_neighbor(G,'Newport Pkwy')\\nshould return the following list:\\n\\n['Lafayette Park', 74]\\n\\n\""
      ]
     },
     "execution_count": 1,
     "metadata": {},
     "output_type": "execute_result"
    }
   ],
   "source": [
    "\"\"\"\n",
    "Modify the following get_max_neighbor function so that it takes a network and a node as\n",
    "arguments, and  returns a list containing the name of the neighboring station with most \n",
    "trips and the number of trips.\n",
    "\n",
    "Example of use:\n",
    "get_max_neighbor(G,'Newport Pkwy')\n",
    "should return the following list:\n",
    "\n",
    "['Lafayette Park', 74]\n",
    "\n",
    "\"\"\"\n",
    "\n",
    "# def get_max_neighbor(graph,node):\n",
    "#     ###\n",
    "#     ### YOUR CODE HERE\n",
    "#     ###\n"
   ]
  },
  {
   "cell_type": "code",
   "execution_count": 9,
   "metadata": {},
   "outputs": [],
   "source": [
    "import networkx as nx\n",
    "G = nx.Graph()\n",
    "nodes = ['Newport Pkwy', 'Lafayette Park', 'JCBS Depot', 'Fairmount Ave',\n",
    "         'Liberty Light Rail', 'Jackson Square', 'City Hall', 'Sip Ave']\n",
    "edges = [('Newport Pkwy', 'Lafayette Park', {'count': 80}), #74\n",
    "         ('Newport Pkwy', 'JCBS Depot', {'count': 50}),\n",
    "         ('Newport Pkwy', 'Liberty Light Rail', {'count': 111}),\n",
    "         ('Lafayette Park', 'Fairmount Ave', {'count': 97}),\n",
    "         ('Lafayette Park', 'Sip Ave', {'count': 87}),\n",
    "         ('JCBS Depot', 'Sip Ave', {'count': 69}),\n",
    "         ('JCBS Depot', 'City Hall', {'count': 6}),\n",
    "         ('JCBS Depot', 'Fairmount Ave', {'count': 71}),\n",
    "         ('JCBS Depot', 'Liberty Light Rail', {'count': 4}),\n",
    "         ('Fairmount Ave', 'Liberty Light Rail', {'count': 2}),\n",
    "         ('Liberty Light Rail', 'Jackson Square', {'count': 59}),\n",
    "         ('Liberty Light Rail', 'City Hall', {'count': 52}),\n",
    "         ('Jackson Square', 'City Hall', {'count': 38})]\n",
    "G.add_nodes_from(nodes)\n",
    "G.add_edges_from(edges)"
   ]
  },
  {
   "cell_type": "code",
   "execution_count": 10,
   "metadata": {},
   "outputs": [
    {
     "data": {
      "text/plain": [
       "[('Newport Pkwy', 'Lafayette Park', {'count': 80}),\n",
       " ('Newport Pkwy', 'JCBS Depot', {'count': 50}),\n",
       " ('Newport Pkwy', 'Liberty Light Rail', {'count': 111})]"
      ]
     },
     "execution_count": 10,
     "metadata": {},
     "output_type": "execute_result"
    }
   ],
   "source": [
    "# select Node\n",
    "# switch nbunch with \"nodes\" after testing\n",
    "singleNode = 'Newport Pkwy'\n",
    "edgeNode = list(G.edges(nbunch=singleNode,data=True))\n",
    "edgeNode"
   ]
  },
  {
   "cell_type": "code",
   "execution_count": 11,
   "metadata": {},
   "outputs": [
    {
     "data": {
      "text/plain": [
       "'Lafayette Park'"
      ]
     },
     "execution_count": 11,
     "metadata": {},
     "output_type": "execute_result"
    }
   ],
   "source": [
    "# Use this to select max weight from node \n",
    "\n",
    "# https://www.geeksforgeeks.org/python-get-first-element-with-maximum-value-in-list-of-tuples/\n",
    "# Python3 code to demonstrate \n",
    "# to get tuple info. of maximum value tuple \n",
    "# using max() + itemgetter() \n",
    "from operator import itemgetter \n",
    "\n",
    "edgeNode\n",
    "\n",
    "# printing original list \n",
    "# print (\"Original list : \" + str(edgeNode)) \n",
    "\n",
    "# using max() + itemgetter() \n",
    "# to get tuple info. of maximum value tuple \n",
    "res = max(edgeNode, key = itemgetter(0))[1]\n",
    "res\n",
    "# print(type(res))\n",
    "# print(res)"
   ]
  },
  {
   "cell_type": "code",
   "execution_count": 12,
   "metadata": {},
   "outputs": [
    {
     "name": "stdout",
     "output_type": "stream",
     "text": [
      "<class 'tuple'>\n",
      "<class 'dict'>\n",
      "<class 'int'>\n"
     ]
    }
   ],
   "source": [
    "# selecting key-value within list\n",
    "# will be used with return\n",
    "x = ('Newport Pkwy', 'Lafayette Park', {'count': 74})\n",
    "print(type(x))\n",
    "print(type(x[2]))\n",
    "print(type(x[2]['count']))"
   ]
  },
  {
   "cell_type": "code",
   "execution_count": 13,
   "metadata": {
    "scrolled": false
   },
   "outputs": [],
   "source": [
    "edge_node_values = []\n",
    "for values in edgeNode:\n",
    "    edge_node_values.append((values[1],values[2]))"
   ]
  },
  {
   "cell_type": "code",
   "execution_count": 14,
   "metadata": {},
   "outputs": [
    {
     "data": {
      "text/plain": [
       "[('Lafayette Park', {'count': 80}),\n",
       " ('JCBS Depot', {'count': 50}),\n",
       " ('Liberty Light Rail', {'count': 111})]"
      ]
     },
     "execution_count": 14,
     "metadata": {},
     "output_type": "execute_result"
    }
   ],
   "source": [
    "edge_node_values"
   ]
  },
  {
   "cell_type": "code",
   "execution_count": 23,
   "metadata": {},
   "outputs": [
    {
     "data": {
      "text/plain": [
       "{'count': 50}"
      ]
     },
     "execution_count": 23,
     "metadata": {},
     "output_type": "execute_result"
    }
   ],
   "source": [
    "edgeMaxValue = max(edge_node_values[1][1].items(),key=lambda x : x[1])\n",
    "edge_node_values[1][1]\n",
    "# type(edge_node_values[1][1])"
   ]
  },
  {
   "cell_type": "code",
   "execution_count": 17,
   "metadata": {},
   "outputs": [
    {
     "data": {
      "text/plain": [
       "('count', 50)"
      ]
     },
     "execution_count": 17,
     "metadata": {},
     "output_type": "execute_result"
    }
   ],
   "source": [
    "\n",
    "edgeMaxValue"
   ]
  },
  {
   "cell_type": "code",
   "execution_count": 21,
   "metadata": {},
   "outputs": [
    {
     "data": {
      "text/plain": [
       "('Sam', 27)"
      ]
     },
     "execution_count": 21,
     "metadata": {},
     "output_type": "execute_result"
    }
   ],
   "source": [
    "# practice\n",
    "\n",
    "sampleDict = {  'Ritika': 5, 'Sam': 27, 'John' : 10 , 'Sachin' : 14, 'Mark' : 19 }\n",
    "itemMaxValue = max(sampleDict.items(), key=lambda x : x[1])\n",
    "itemMaxValue"
   ]
  },
  {
   "cell_type": "code",
   "execution_count": null,
   "metadata": {},
   "outputs": [],
   "source": []
  }
 ],
 "metadata": {
  "kernelspec": {
   "display_name": "Python 3",
   "language": "python",
   "name": "python3"
  },
  "language_info": {
   "codemirror_mode": {
    "name": "ipython",
    "version": 3
   },
   "file_extension": ".py",
   "mimetype": "text/x-python",
   "name": "python",
   "nbconvert_exporter": "python",
   "pygments_lexer": "ipython3",
   "version": "3.7.3"
  }
 },
 "nbformat": 4,
 "nbformat_minor": 2
}
